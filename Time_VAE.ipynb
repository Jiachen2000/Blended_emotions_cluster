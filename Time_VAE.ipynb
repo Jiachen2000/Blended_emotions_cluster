{
 "cells": [
  {
   "cell_type": "code",
   "execution_count": 81,
   "metadata": {},
   "outputs": [],
   "source": [
    "import os\n",
    "import pandas as pd\n",
    "import torch\n",
    "import torch.nn as nn\n",
    "import torch.optim as optim\n",
    "import numpy as np\n",
    "import glob\n",
    "from sklearn.preprocessing import LabelEncoder\n",
    "from sklearn.model_selection import train_test_split\n",
    "from torch.utils.data import Dataset, DataLoader\n",
    "from tqdm import tqdm\n",
    "import matplotlib.pyplot as plt\n",
    "from sklearn.manifold import TSNE\n",
    "from matplotlib.colors import ListedColormap"
   ]
  },
  {
   "cell_type": "code",
   "execution_count": 2,
   "metadata": {},
   "outputs": [],
   "source": [
    "path = '/Users/jiachenyao/Desktop/Thesis/OpenFace_data/All_data_intensity_2/'"
   ]
  },
  {
   "cell_type": "code",
   "execution_count": 3,
   "metadata": {},
   "outputs": [
    {
     "name": "stdout",
     "output_type": "stream",
     "text": [
      "266 dataframes were deleted.\n",
      "905\n",
      "File with maximum rows: A205_mix_disg_sad_3070.csv\n",
      "Number of rows: 299\n"
     ]
    }
   ],
   "source": [
    "# Load data and extract features\n",
    "dfs = []\n",
    "num_deleted = 0\n",
    "\n",
    "max_rows = 0\n",
    "max_file = None\n",
    "\n",
    "for filename in os.listdir(path):\n",
    "    if filename.endswith(\".csv\"):\n",
    "        filepath = os.path.join(path, filename)\n",
    "        df = pd.read_csv(filepath)\n",
    "        \n",
    "\n",
    "\n",
    "        # Check the ratio of rows with confidence >= 0.98 to the total number of rows\n",
    "        if len(df)>320 or len(df[df[\"confidence\"]<0.98])/len(df) >= 0.15:\n",
    "            # print the filename and delete the df variable\n",
    "            #print(filename)\n",
    "            del df\n",
    "            num_deleted += 1\n",
    "        else:\n",
    "            # Select confidence >= 0.98 & success = 1\n",
    "            df = df.loc[(df[\"confidence\"]>= 0.98) & (df[\"success\"]== 1 ) ] \n",
    "            # Drop columns that does not contain facial feature information\n",
    "            df = df.drop(columns=[\"confidence\",\"success\",\"frame\", \"face_id\", \"timestamp\"])\n",
    "            \n",
    "            # Drop binary AU features\n",
    "            cols_to_drop = df.filter(regex='AU.*_c').columns\n",
    "            df = df.drop(columns=cols_to_drop)\n",
    "\n",
    "            # Feature selection\n",
    "            # 115 features, excluding 3D and eye\n",
    "            #df = df.iloc[:, np.concatenate([range(0, 8), range(288,294),range(299,306),range(311,321),range(325,330),\n",
    "                                            #range(342,362),range(367,374),range(379,389),range(393,398),\n",
    "                                            #range(410,430),range(674,691)])]\n",
    "\n",
    "            \n",
    "            # only mouth\n",
    "            df = df.iloc[:, np.concatenate([range(342,362), range(410,430),range(478,498),range(546,566),range(614,634)\n",
    "                                            ])]\n",
    "            \n",
    "\n",
    "            df = df.fillna(method='ffill') # Forward fill missing values\n",
    "            df = df.fillna(method='bfill') # Backward fill missing values\n",
    "\n",
    "            # Add a column to indicate the emotion\n",
    "            df.insert(0, 'emotion', os.path.splitext(os.path.basename(filepath))[0])\n",
    "            # Exclude actor id\n",
    "            df['emotion'] = df['emotion'].str.split('_', n=1, expand=True)[1]\n",
    "            \n",
    "            \n",
    "            num_rows = df.shape[0]\n",
    "            if num_rows > max_rows:\n",
    "                max_rows = num_rows\n",
    "                max_file = filename\n",
    "            \n",
    "            dfs.append(df)\n",
    "        \n",
    "print(f\"{num_deleted} dataframes were deleted.\")\n",
    "print(len(dfs))\n",
    "\n",
    "# Print file with maximum number of rows\n",
    "print(\"File with maximum rows:\", max_file)\n",
    "print(\"Number of rows:\", max_rows)\n"
   ]
  },
  {
   "cell_type": "code",
   "execution_count": 4,
   "metadata": {},
   "outputs": [
    {
     "data": {
      "text/plain": [
       "['emotion',\n",
       " 'x_48',\n",
       " 'x_49',\n",
       " 'x_50',\n",
       " 'x_51',\n",
       " 'x_52',\n",
       " 'x_53',\n",
       " 'x_54',\n",
       " 'x_55',\n",
       " 'x_56',\n",
       " 'x_57',\n",
       " 'x_58',\n",
       " 'x_59',\n",
       " 'x_60',\n",
       " 'x_61',\n",
       " 'x_62',\n",
       " 'x_63',\n",
       " 'x_64',\n",
       " 'x_65',\n",
       " 'x_66',\n",
       " 'x_67',\n",
       " 'y_48',\n",
       " 'y_49',\n",
       " 'y_50',\n",
       " 'y_51',\n",
       " 'y_52',\n",
       " 'y_53',\n",
       " 'y_54',\n",
       " 'y_55',\n",
       " 'y_56',\n",
       " 'y_57',\n",
       " 'y_58',\n",
       " 'y_59',\n",
       " 'y_60',\n",
       " 'y_61',\n",
       " 'y_62',\n",
       " 'y_63',\n",
       " 'y_64',\n",
       " 'y_65',\n",
       " 'y_66',\n",
       " 'y_67',\n",
       " 'X_48',\n",
       " 'X_49',\n",
       " 'X_50',\n",
       " 'X_51',\n",
       " 'X_52',\n",
       " 'X_53',\n",
       " 'X_54',\n",
       " 'X_55',\n",
       " 'X_56',\n",
       " 'X_57',\n",
       " 'X_58',\n",
       " 'X_59',\n",
       " 'X_60',\n",
       " 'X_61',\n",
       " 'X_62',\n",
       " 'X_63',\n",
       " 'X_64',\n",
       " 'X_65',\n",
       " 'X_66',\n",
       " 'X_67',\n",
       " 'Y_48',\n",
       " 'Y_49',\n",
       " 'Y_50',\n",
       " 'Y_51',\n",
       " 'Y_52',\n",
       " 'Y_53',\n",
       " 'Y_54',\n",
       " 'Y_55',\n",
       " 'Y_56',\n",
       " 'Y_57',\n",
       " 'Y_58',\n",
       " 'Y_59',\n",
       " 'Y_60',\n",
       " 'Y_61',\n",
       " 'Y_62',\n",
       " 'Y_63',\n",
       " 'Y_64',\n",
       " 'Y_65',\n",
       " 'Y_66',\n",
       " 'Y_67',\n",
       " 'Z_48',\n",
       " 'Z_49',\n",
       " 'Z_50',\n",
       " 'Z_51',\n",
       " 'Z_52',\n",
       " 'Z_53',\n",
       " 'Z_54',\n",
       " 'Z_55',\n",
       " 'Z_56',\n",
       " 'Z_57',\n",
       " 'Z_58',\n",
       " 'Z_59',\n",
       " 'Z_60',\n",
       " 'Z_61',\n",
       " 'Z_62',\n",
       " 'Z_63',\n",
       " 'Z_64',\n",
       " 'Z_65',\n",
       " 'Z_66',\n",
       " 'Z_67']"
      ]
     },
     "execution_count": 4,
     "metadata": {},
     "output_type": "execute_result"
    }
   ],
   "source": [
    "columns = dfs[1].columns.tolist()\n",
    "columns"
   ]
  },
  {
   "cell_type": "code",
   "execution_count": 5,
   "metadata": {},
   "outputs": [
    {
     "data": {
      "text/html": [
       "<div>\n",
       "<style scoped>\n",
       "    .dataframe tbody tr th:only-of-type {\n",
       "        vertical-align: middle;\n",
       "    }\n",
       "\n",
       "    .dataframe tbody tr th {\n",
       "        vertical-align: top;\n",
       "    }\n",
       "\n",
       "    .dataframe thead th {\n",
       "        text-align: right;\n",
       "    }\n",
       "</style>\n",
       "<table border=\"1\" class=\"dataframe\">\n",
       "  <thead>\n",
       "    <tr style=\"text-align: right;\">\n",
       "      <th></th>\n",
       "      <th>emotion</th>\n",
       "      <th>x_48</th>\n",
       "      <th>x_49</th>\n",
       "      <th>x_50</th>\n",
       "      <th>x_51</th>\n",
       "      <th>x_52</th>\n",
       "      <th>x_53</th>\n",
       "      <th>x_54</th>\n",
       "      <th>x_55</th>\n",
       "      <th>x_56</th>\n",
       "      <th>...</th>\n",
       "      <th>Z_58</th>\n",
       "      <th>Z_59</th>\n",
       "      <th>Z_60</th>\n",
       "      <th>Z_61</th>\n",
       "      <th>Z_62</th>\n",
       "      <th>Z_63</th>\n",
       "      <th>Z_64</th>\n",
       "      <th>Z_65</th>\n",
       "      <th>Z_66</th>\n",
       "      <th>Z_67</th>\n",
       "    </tr>\n",
       "  </thead>\n",
       "  <tbody>\n",
       "    <tr>\n",
       "      <th>0</th>\n",
       "      <td>mix_ang_fea_3070</td>\n",
       "      <td>913.1</td>\n",
       "      <td>927.9</td>\n",
       "      <td>946.0</td>\n",
       "      <td>962.4</td>\n",
       "      <td>981.3</td>\n",
       "      <td>1005.6</td>\n",
       "      <td>1029.1</td>\n",
       "      <td>1012.0</td>\n",
       "      <td>991.7</td>\n",
       "      <td>...</td>\n",
       "      <td>546.3</td>\n",
       "      <td>551.1</td>\n",
       "      <td>560.0</td>\n",
       "      <td>547.5</td>\n",
       "      <td>545.2</td>\n",
       "      <td>545.0</td>\n",
       "      <td>554.4</td>\n",
       "      <td>545.1</td>\n",
       "      <td>545.4</td>\n",
       "      <td>547.9</td>\n",
       "    </tr>\n",
       "    <tr>\n",
       "      <th>1</th>\n",
       "      <td>mix_ang_fea_3070</td>\n",
       "      <td>911.7</td>\n",
       "      <td>926.3</td>\n",
       "      <td>944.5</td>\n",
       "      <td>961.4</td>\n",
       "      <td>981.0</td>\n",
       "      <td>1005.1</td>\n",
       "      <td>1028.5</td>\n",
       "      <td>1011.5</td>\n",
       "      <td>991.4</td>\n",
       "      <td>...</td>\n",
       "      <td>545.7</td>\n",
       "      <td>550.5</td>\n",
       "      <td>559.4</td>\n",
       "      <td>546.7</td>\n",
       "      <td>544.3</td>\n",
       "      <td>544.3</td>\n",
       "      <td>553.6</td>\n",
       "      <td>544.7</td>\n",
       "      <td>544.9</td>\n",
       "      <td>547.3</td>\n",
       "    </tr>\n",
       "    <tr>\n",
       "      <th>2</th>\n",
       "      <td>mix_ang_fea_3070</td>\n",
       "      <td>911.2</td>\n",
       "      <td>926.0</td>\n",
       "      <td>944.3</td>\n",
       "      <td>961.1</td>\n",
       "      <td>980.6</td>\n",
       "      <td>1004.8</td>\n",
       "      <td>1028.4</td>\n",
       "      <td>1011.1</td>\n",
       "      <td>990.9</td>\n",
       "      <td>...</td>\n",
       "      <td>546.1</td>\n",
       "      <td>551.1</td>\n",
       "      <td>559.9</td>\n",
       "      <td>547.2</td>\n",
       "      <td>544.7</td>\n",
       "      <td>544.6</td>\n",
       "      <td>553.8</td>\n",
       "      <td>544.9</td>\n",
       "      <td>545.1</td>\n",
       "      <td>547.7</td>\n",
       "    </tr>\n",
       "    <tr>\n",
       "      <th>3</th>\n",
       "      <td>mix_ang_fea_3070</td>\n",
       "      <td>910.8</td>\n",
       "      <td>925.9</td>\n",
       "      <td>944.3</td>\n",
       "      <td>960.9</td>\n",
       "      <td>980.3</td>\n",
       "      <td>1004.6</td>\n",
       "      <td>1028.2</td>\n",
       "      <td>1011.0</td>\n",
       "      <td>990.6</td>\n",
       "      <td>...</td>\n",
       "      <td>549.2</td>\n",
       "      <td>554.3</td>\n",
       "      <td>562.9</td>\n",
       "      <td>550.2</td>\n",
       "      <td>547.8</td>\n",
       "      <td>547.6</td>\n",
       "      <td>556.8</td>\n",
       "      <td>547.9</td>\n",
       "      <td>548.2</td>\n",
       "      <td>550.8</td>\n",
       "    </tr>\n",
       "    <tr>\n",
       "      <th>4</th>\n",
       "      <td>mix_ang_fea_3070</td>\n",
       "      <td>910.9</td>\n",
       "      <td>926.0</td>\n",
       "      <td>944.3</td>\n",
       "      <td>960.9</td>\n",
       "      <td>980.3</td>\n",
       "      <td>1004.5</td>\n",
       "      <td>1028.0</td>\n",
       "      <td>1010.8</td>\n",
       "      <td>990.6</td>\n",
       "      <td>...</td>\n",
       "      <td>549.0</td>\n",
       "      <td>553.9</td>\n",
       "      <td>562.5</td>\n",
       "      <td>550.1</td>\n",
       "      <td>547.7</td>\n",
       "      <td>547.5</td>\n",
       "      <td>556.6</td>\n",
       "      <td>547.7</td>\n",
       "      <td>547.9</td>\n",
       "      <td>550.5</td>\n",
       "    </tr>\n",
       "    <tr>\n",
       "      <th>5</th>\n",
       "      <td>mix_ang_fea_3070</td>\n",
       "      <td>911.6</td>\n",
       "      <td>926.0</td>\n",
       "      <td>944.3</td>\n",
       "      <td>960.8</td>\n",
       "      <td>979.9</td>\n",
       "      <td>1004.4</td>\n",
       "      <td>1028.5</td>\n",
       "      <td>1010.7</td>\n",
       "      <td>990.2</td>\n",
       "      <td>...</td>\n",
       "      <td>545.5</td>\n",
       "      <td>550.5</td>\n",
       "      <td>559.7</td>\n",
       "      <td>546.9</td>\n",
       "      <td>544.6</td>\n",
       "      <td>544.5</td>\n",
       "      <td>553.4</td>\n",
       "      <td>544.6</td>\n",
       "      <td>544.6</td>\n",
       "      <td>547.1</td>\n",
       "    </tr>\n",
       "    <tr>\n",
       "      <th>6</th>\n",
       "      <td>mix_ang_fea_3070</td>\n",
       "      <td>912.8</td>\n",
       "      <td>928.1</td>\n",
       "      <td>946.5</td>\n",
       "      <td>962.5</td>\n",
       "      <td>981.0</td>\n",
       "      <td>1004.5</td>\n",
       "      <td>1027.9</td>\n",
       "      <td>1010.7</td>\n",
       "      <td>991.1</td>\n",
       "      <td>...</td>\n",
       "      <td>546.4</td>\n",
       "      <td>551.1</td>\n",
       "      <td>560.1</td>\n",
       "      <td>547.6</td>\n",
       "      <td>545.4</td>\n",
       "      <td>545.6</td>\n",
       "      <td>555.1</td>\n",
       "      <td>545.7</td>\n",
       "      <td>545.6</td>\n",
       "      <td>547.9</td>\n",
       "    </tr>\n",
       "    <tr>\n",
       "      <th>7</th>\n",
       "      <td>mix_ang_fea_3070</td>\n",
       "      <td>914.1</td>\n",
       "      <td>929.3</td>\n",
       "      <td>948.0</td>\n",
       "      <td>963.4</td>\n",
       "      <td>981.2</td>\n",
       "      <td>1005.0</td>\n",
       "      <td>1029.0</td>\n",
       "      <td>1011.7</td>\n",
       "      <td>991.9</td>\n",
       "      <td>...</td>\n",
       "      <td>539.8</td>\n",
       "      <td>544.8</td>\n",
       "      <td>554.9</td>\n",
       "      <td>541.5</td>\n",
       "      <td>539.5</td>\n",
       "      <td>539.7</td>\n",
       "      <td>550.2</td>\n",
       "      <td>539.6</td>\n",
       "      <td>539.4</td>\n",
       "      <td>541.6</td>\n",
       "    </tr>\n",
       "    <tr>\n",
       "      <th>8</th>\n",
       "      <td>mix_ang_fea_3070</td>\n",
       "      <td>915.8</td>\n",
       "      <td>930.3</td>\n",
       "      <td>949.3</td>\n",
       "      <td>963.6</td>\n",
       "      <td>979.9</td>\n",
       "      <td>1004.5</td>\n",
       "      <td>1029.8</td>\n",
       "      <td>1011.5</td>\n",
       "      <td>990.8</td>\n",
       "      <td>...</td>\n",
       "      <td>533.0</td>\n",
       "      <td>538.3</td>\n",
       "      <td>548.8</td>\n",
       "      <td>534.6</td>\n",
       "      <td>532.7</td>\n",
       "      <td>532.9</td>\n",
       "      <td>543.4</td>\n",
       "      <td>533.2</td>\n",
       "      <td>532.9</td>\n",
       "      <td>534.9</td>\n",
       "    </tr>\n",
       "    <tr>\n",
       "      <th>9</th>\n",
       "      <td>mix_ang_fea_3070</td>\n",
       "      <td>930.2</td>\n",
       "      <td>936.8</td>\n",
       "      <td>950.5</td>\n",
       "      <td>963.5</td>\n",
       "      <td>978.0</td>\n",
       "      <td>997.1</td>\n",
       "      <td>1014.6</td>\n",
       "      <td>1004.0</td>\n",
       "      <td>990.3</td>\n",
       "      <td>...</td>\n",
       "      <td>525.9</td>\n",
       "      <td>526.5</td>\n",
       "      <td>532.3</td>\n",
       "      <td>525.5</td>\n",
       "      <td>523.8</td>\n",
       "      <td>524.3</td>\n",
       "      <td>529.7</td>\n",
       "      <td>526.0</td>\n",
       "      <td>525.8</td>\n",
       "      <td>527.3</td>\n",
       "    </tr>\n",
       "    <tr>\n",
       "      <th>10</th>\n",
       "      <td>mix_ang_fea_3070</td>\n",
       "      <td>928.3</td>\n",
       "      <td>936.3</td>\n",
       "      <td>952.1</td>\n",
       "      <td>965.5</td>\n",
       "      <td>980.4</td>\n",
       "      <td>1001.6</td>\n",
       "      <td>1021.4</td>\n",
       "      <td>1009.4</td>\n",
       "      <td>993.6</td>\n",
       "      <td>...</td>\n",
       "      <td>525.0</td>\n",
       "      <td>527.0</td>\n",
       "      <td>534.4</td>\n",
       "      <td>525.2</td>\n",
       "      <td>523.3</td>\n",
       "      <td>523.9</td>\n",
       "      <td>531.2</td>\n",
       "      <td>525.1</td>\n",
       "      <td>524.8</td>\n",
       "      <td>526.4</td>\n",
       "    </tr>\n",
       "    <tr>\n",
       "      <th>11</th>\n",
       "      <td>mix_ang_fea_3070</td>\n",
       "      <td>930.3</td>\n",
       "      <td>938.0</td>\n",
       "      <td>954.1</td>\n",
       "      <td>968.0</td>\n",
       "      <td>983.3</td>\n",
       "      <td>1005.2</td>\n",
       "      <td>1025.2</td>\n",
       "      <td>1013.9</td>\n",
       "      <td>997.4</td>\n",
       "      <td>...</td>\n",
       "      <td>523.4</td>\n",
       "      <td>525.0</td>\n",
       "      <td>532.3</td>\n",
       "      <td>523.3</td>\n",
       "      <td>521.5</td>\n",
       "      <td>522.0</td>\n",
       "      <td>528.7</td>\n",
       "      <td>523.9</td>\n",
       "      <td>523.6</td>\n",
       "      <td>525.0</td>\n",
       "    </tr>\n",
       "    <tr>\n",
       "      <th>12</th>\n",
       "      <td>mix_ang_fea_3070</td>\n",
       "      <td>931.5</td>\n",
       "      <td>940.2</td>\n",
       "      <td>956.9</td>\n",
       "      <td>970.8</td>\n",
       "      <td>985.8</td>\n",
       "      <td>1008.7</td>\n",
       "      <td>1029.6</td>\n",
       "      <td>1017.8</td>\n",
       "      <td>1000.3</td>\n",
       "      <td>...</td>\n",
       "      <td>525.8</td>\n",
       "      <td>527.8</td>\n",
       "      <td>535.9</td>\n",
       "      <td>526.1</td>\n",
       "      <td>524.3</td>\n",
       "      <td>524.5</td>\n",
       "      <td>531.7</td>\n",
       "      <td>526.4</td>\n",
       "      <td>526.1</td>\n",
       "      <td>527.5</td>\n",
       "    </tr>\n",
       "    <tr>\n",
       "      <th>13</th>\n",
       "      <td>mix_ang_fea_3070</td>\n",
       "      <td>933.3</td>\n",
       "      <td>942.8</td>\n",
       "      <td>960.0</td>\n",
       "      <td>973.3</td>\n",
       "      <td>987.7</td>\n",
       "      <td>1011.0</td>\n",
       "      <td>1032.9</td>\n",
       "      <td>1020.0</td>\n",
       "      <td>1001.6</td>\n",
       "      <td>...</td>\n",
       "      <td>524.1</td>\n",
       "      <td>526.9</td>\n",
       "      <td>535.8</td>\n",
       "      <td>525.4</td>\n",
       "      <td>523.4</td>\n",
       "      <td>523.7</td>\n",
       "      <td>531.8</td>\n",
       "      <td>524.8</td>\n",
       "      <td>524.5</td>\n",
       "      <td>526.0</td>\n",
       "    </tr>\n",
       "    <tr>\n",
       "      <th>14</th>\n",
       "      <td>mix_ang_fea_3070</td>\n",
       "      <td>935.6</td>\n",
       "      <td>945.2</td>\n",
       "      <td>962.7</td>\n",
       "      <td>976.0</td>\n",
       "      <td>990.5</td>\n",
       "      <td>1013.8</td>\n",
       "      <td>1035.2</td>\n",
       "      <td>1022.8</td>\n",
       "      <td>1004.5</td>\n",
       "      <td>...</td>\n",
       "      <td>522.8</td>\n",
       "      <td>525.6</td>\n",
       "      <td>534.2</td>\n",
       "      <td>523.8</td>\n",
       "      <td>521.7</td>\n",
       "      <td>522.2</td>\n",
       "      <td>530.1</td>\n",
       "      <td>523.2</td>\n",
       "      <td>522.9</td>\n",
       "      <td>524.5</td>\n",
       "    </tr>\n",
       "    <tr>\n",
       "      <th>15</th>\n",
       "      <td>mix_ang_fea_3070</td>\n",
       "      <td>936.8</td>\n",
       "      <td>947.3</td>\n",
       "      <td>965.1</td>\n",
       "      <td>978.4</td>\n",
       "      <td>992.9</td>\n",
       "      <td>1016.2</td>\n",
       "      <td>1037.9</td>\n",
       "      <td>1025.3</td>\n",
       "      <td>1006.7</td>\n",
       "      <td>...</td>\n",
       "      <td>527.1</td>\n",
       "      <td>530.0</td>\n",
       "      <td>538.6</td>\n",
       "      <td>528.0</td>\n",
       "      <td>525.9</td>\n",
       "      <td>526.3</td>\n",
       "      <td>534.5</td>\n",
       "      <td>527.5</td>\n",
       "      <td>527.2</td>\n",
       "      <td>528.8</td>\n",
       "    </tr>\n",
       "    <tr>\n",
       "      <th>16</th>\n",
       "      <td>mix_ang_fea_3070</td>\n",
       "      <td>938.3</td>\n",
       "      <td>949.4</td>\n",
       "      <td>967.5</td>\n",
       "      <td>981.0</td>\n",
       "      <td>995.6</td>\n",
       "      <td>1019.0</td>\n",
       "      <td>1040.7</td>\n",
       "      <td>1028.0</td>\n",
       "      <td>1009.0</td>\n",
       "      <td>...</td>\n",
       "      <td>530.2</td>\n",
       "      <td>533.2</td>\n",
       "      <td>541.9</td>\n",
       "      <td>531.0</td>\n",
       "      <td>529.0</td>\n",
       "      <td>529.4</td>\n",
       "      <td>537.7</td>\n",
       "      <td>530.6</td>\n",
       "      <td>530.2</td>\n",
       "      <td>531.8</td>\n",
       "    </tr>\n",
       "    <tr>\n",
       "      <th>17</th>\n",
       "      <td>mix_ang_fea_3070</td>\n",
       "      <td>940.3</td>\n",
       "      <td>951.4</td>\n",
       "      <td>969.8</td>\n",
       "      <td>983.6</td>\n",
       "      <td>998.5</td>\n",
       "      <td>1021.8</td>\n",
       "      <td>1043.7</td>\n",
       "      <td>1030.7</td>\n",
       "      <td>1011.7</td>\n",
       "      <td>...</td>\n",
       "      <td>529.0</td>\n",
       "      <td>532.2</td>\n",
       "      <td>541.3</td>\n",
       "      <td>530.6</td>\n",
       "      <td>528.6</td>\n",
       "      <td>529.0</td>\n",
       "      <td>536.8</td>\n",
       "      <td>529.6</td>\n",
       "      <td>529.2</td>\n",
       "      <td>530.8</td>\n",
       "    </tr>\n",
       "    <tr>\n",
       "      <th>18</th>\n",
       "      <td>mix_ang_fea_3070</td>\n",
       "      <td>941.9</td>\n",
       "      <td>953.6</td>\n",
       "      <td>971.7</td>\n",
       "      <td>985.8</td>\n",
       "      <td>1000.9</td>\n",
       "      <td>1024.0</td>\n",
       "      <td>1045.9</td>\n",
       "      <td>1032.6</td>\n",
       "      <td>1013.9</td>\n",
       "      <td>...</td>\n",
       "      <td>527.6</td>\n",
       "      <td>531.1</td>\n",
       "      <td>540.4</td>\n",
       "      <td>529.4</td>\n",
       "      <td>527.4</td>\n",
       "      <td>528.0</td>\n",
       "      <td>536.1</td>\n",
       "      <td>528.3</td>\n",
       "      <td>527.8</td>\n",
       "      <td>529.5</td>\n",
       "    </tr>\n",
       "    <tr>\n",
       "      <th>19</th>\n",
       "      <td>mix_ang_fea_3070</td>\n",
       "      <td>943.8</td>\n",
       "      <td>956.5</td>\n",
       "      <td>975.0</td>\n",
       "      <td>988.8</td>\n",
       "      <td>1004.0</td>\n",
       "      <td>1026.7</td>\n",
       "      <td>1049.0</td>\n",
       "      <td>1034.7</td>\n",
       "      <td>1015.7</td>\n",
       "      <td>...</td>\n",
       "      <td>529.4</td>\n",
       "      <td>533.2</td>\n",
       "      <td>543.2</td>\n",
       "      <td>531.4</td>\n",
       "      <td>529.5</td>\n",
       "      <td>530.4</td>\n",
       "      <td>539.1</td>\n",
       "      <td>530.6</td>\n",
       "      <td>529.8</td>\n",
       "      <td>531.4</td>\n",
       "    </tr>\n",
       "    <tr>\n",
       "      <th>20</th>\n",
       "      <td>mix_ang_fea_3070</td>\n",
       "      <td>946.2</td>\n",
       "      <td>959.0</td>\n",
       "      <td>977.4</td>\n",
       "      <td>991.1</td>\n",
       "      <td>1006.4</td>\n",
       "      <td>1028.9</td>\n",
       "      <td>1051.5</td>\n",
       "      <td>1036.1</td>\n",
       "      <td>1016.9</td>\n",
       "      <td>...</td>\n",
       "      <td>531.6</td>\n",
       "      <td>535.8</td>\n",
       "      <td>546.3</td>\n",
       "      <td>534.0</td>\n",
       "      <td>532.1</td>\n",
       "      <td>533.0</td>\n",
       "      <td>542.0</td>\n",
       "      <td>533.0</td>\n",
       "      <td>532.3</td>\n",
       "      <td>534.0</td>\n",
       "    </tr>\n",
       "    <tr>\n",
       "      <th>21</th>\n",
       "      <td>mix_ang_fea_3070</td>\n",
       "      <td>947.3</td>\n",
       "      <td>960.6</td>\n",
       "      <td>979.0</td>\n",
       "      <td>993.3</td>\n",
       "      <td>1009.1</td>\n",
       "      <td>1031.4</td>\n",
       "      <td>1053.5</td>\n",
       "      <td>1038.3</td>\n",
       "      <td>1019.2</td>\n",
       "      <td>...</td>\n",
       "      <td>539.2</td>\n",
       "      <td>543.4</td>\n",
       "      <td>553.3</td>\n",
       "      <td>541.5</td>\n",
       "      <td>539.5</td>\n",
       "      <td>540.3</td>\n",
       "      <td>548.8</td>\n",
       "      <td>540.2</td>\n",
       "      <td>539.5</td>\n",
       "      <td>541.4</td>\n",
       "    </tr>\n",
       "    <tr>\n",
       "      <th>22</th>\n",
       "      <td>mix_ang_fea_3070</td>\n",
       "      <td>948.4</td>\n",
       "      <td>962.4</td>\n",
       "      <td>981.0</td>\n",
       "      <td>995.2</td>\n",
       "      <td>1011.0</td>\n",
       "      <td>1033.5</td>\n",
       "      <td>1056.1</td>\n",
       "      <td>1039.8</td>\n",
       "      <td>1020.1</td>\n",
       "      <td>...</td>\n",
       "      <td>540.6</td>\n",
       "      <td>545.3</td>\n",
       "      <td>556.0</td>\n",
       "      <td>543.5</td>\n",
       "      <td>541.6</td>\n",
       "      <td>542.5</td>\n",
       "      <td>551.4</td>\n",
       "      <td>542.0</td>\n",
       "      <td>541.2</td>\n",
       "      <td>543.1</td>\n",
       "    </tr>\n",
       "    <tr>\n",
       "      <th>23</th>\n",
       "      <td>mix_ang_fea_3070</td>\n",
       "      <td>949.6</td>\n",
       "      <td>963.9</td>\n",
       "      <td>982.5</td>\n",
       "      <td>996.3</td>\n",
       "      <td>1011.7</td>\n",
       "      <td>1034.2</td>\n",
       "      <td>1056.5</td>\n",
       "      <td>1040.4</td>\n",
       "      <td>1020.6</td>\n",
       "      <td>...</td>\n",
       "      <td>545.4</td>\n",
       "      <td>549.9</td>\n",
       "      <td>560.1</td>\n",
       "      <td>547.6</td>\n",
       "      <td>545.7</td>\n",
       "      <td>546.7</td>\n",
       "      <td>555.9</td>\n",
       "      <td>546.5</td>\n",
       "      <td>545.7</td>\n",
       "      <td>547.5</td>\n",
       "    </tr>\n",
       "    <tr>\n",
       "      <th>24</th>\n",
       "      <td>mix_ang_fea_3070</td>\n",
       "      <td>950.4</td>\n",
       "      <td>964.7</td>\n",
       "      <td>983.3</td>\n",
       "      <td>997.2</td>\n",
       "      <td>1012.9</td>\n",
       "      <td>1035.0</td>\n",
       "      <td>1057.3</td>\n",
       "      <td>1040.9</td>\n",
       "      <td>1021.4</td>\n",
       "      <td>...</td>\n",
       "      <td>547.7</td>\n",
       "      <td>552.4</td>\n",
       "      <td>562.3</td>\n",
       "      <td>549.7</td>\n",
       "      <td>547.9</td>\n",
       "      <td>549.0</td>\n",
       "      <td>558.1</td>\n",
       "      <td>549.0</td>\n",
       "      <td>548.2</td>\n",
       "      <td>550.0</td>\n",
       "    </tr>\n",
       "    <tr>\n",
       "      <th>25</th>\n",
       "      <td>mix_ang_fea_3070</td>\n",
       "      <td>950.8</td>\n",
       "      <td>964.6</td>\n",
       "      <td>983.2</td>\n",
       "      <td>997.2</td>\n",
       "      <td>1012.6</td>\n",
       "      <td>1035.1</td>\n",
       "      <td>1057.2</td>\n",
       "      <td>1041.6</td>\n",
       "      <td>1022.0</td>\n",
       "      <td>...</td>\n",
       "      <td>553.8</td>\n",
       "      <td>557.9</td>\n",
       "      <td>567.4</td>\n",
       "      <td>554.9</td>\n",
       "      <td>553.1</td>\n",
       "      <td>554.0</td>\n",
       "      <td>563.0</td>\n",
       "      <td>554.9</td>\n",
       "      <td>554.2</td>\n",
       "      <td>555.7</td>\n",
       "    </tr>\n",
       "    <tr>\n",
       "      <th>26</th>\n",
       "      <td>mix_ang_fea_3070</td>\n",
       "      <td>952.2</td>\n",
       "      <td>965.4</td>\n",
       "      <td>983.5</td>\n",
       "      <td>997.7</td>\n",
       "      <td>1013.4</td>\n",
       "      <td>1035.4</td>\n",
       "      <td>1057.0</td>\n",
       "      <td>1041.4</td>\n",
       "      <td>1022.2</td>\n",
       "      <td>...</td>\n",
       "      <td>553.5</td>\n",
       "      <td>557.6</td>\n",
       "      <td>566.8</td>\n",
       "      <td>554.8</td>\n",
       "      <td>552.9</td>\n",
       "      <td>554.0</td>\n",
       "      <td>562.8</td>\n",
       "      <td>554.8</td>\n",
       "      <td>554.1</td>\n",
       "      <td>555.7</td>\n",
       "    </tr>\n",
       "    <tr>\n",
       "      <th>27</th>\n",
       "      <td>mix_ang_fea_3070</td>\n",
       "      <td>953.2</td>\n",
       "      <td>966.0</td>\n",
       "      <td>983.8</td>\n",
       "      <td>998.2</td>\n",
       "      <td>1014.2</td>\n",
       "      <td>1035.8</td>\n",
       "      <td>1056.6</td>\n",
       "      <td>1041.7</td>\n",
       "      <td>1023.1</td>\n",
       "      <td>...</td>\n",
       "      <td>556.0</td>\n",
       "      <td>559.7</td>\n",
       "      <td>568.1</td>\n",
       "      <td>556.8</td>\n",
       "      <td>555.0</td>\n",
       "      <td>556.1</td>\n",
       "      <td>564.6</td>\n",
       "      <td>557.1</td>\n",
       "      <td>556.4</td>\n",
       "      <td>558.0</td>\n",
       "    </tr>\n",
       "    <tr>\n",
       "      <th>28</th>\n",
       "      <td>mix_ang_fea_3070</td>\n",
       "      <td>953.6</td>\n",
       "      <td>966.3</td>\n",
       "      <td>983.9</td>\n",
       "      <td>998.1</td>\n",
       "      <td>1014.2</td>\n",
       "      <td>1035.6</td>\n",
       "      <td>1056.1</td>\n",
       "      <td>1041.3</td>\n",
       "      <td>1022.7</td>\n",
       "      <td>...</td>\n",
       "      <td>559.0</td>\n",
       "      <td>563.0</td>\n",
       "      <td>571.3</td>\n",
       "      <td>559.9</td>\n",
       "      <td>557.9</td>\n",
       "      <td>559.1</td>\n",
       "      <td>568.0</td>\n",
       "      <td>559.9</td>\n",
       "      <td>559.2</td>\n",
       "      <td>561.0</td>\n",
       "    </tr>\n",
       "    <tr>\n",
       "      <th>29</th>\n",
       "      <td>mix_ang_fea_3070</td>\n",
       "      <td>953.5</td>\n",
       "      <td>966.1</td>\n",
       "      <td>983.6</td>\n",
       "      <td>997.7</td>\n",
       "      <td>1013.7</td>\n",
       "      <td>1034.9</td>\n",
       "      <td>1055.0</td>\n",
       "      <td>1040.5</td>\n",
       "      <td>1022.2</td>\n",
       "      <td>...</td>\n",
       "      <td>563.6</td>\n",
       "      <td>567.3</td>\n",
       "      <td>575.1</td>\n",
       "      <td>564.1</td>\n",
       "      <td>562.3</td>\n",
       "      <td>563.4</td>\n",
       "      <td>572.1</td>\n",
       "      <td>564.4</td>\n",
       "      <td>563.7</td>\n",
       "      <td>565.4</td>\n",
       "    </tr>\n",
       "    <tr>\n",
       "      <th>30</th>\n",
       "      <td>mix_ang_fea_3070</td>\n",
       "      <td>953.5</td>\n",
       "      <td>965.8</td>\n",
       "      <td>983.1</td>\n",
       "      <td>997.5</td>\n",
       "      <td>1013.6</td>\n",
       "      <td>1034.8</td>\n",
       "      <td>1054.4</td>\n",
       "      <td>1040.7</td>\n",
       "      <td>1022.6</td>\n",
       "      <td>...</td>\n",
       "      <td>565.8</td>\n",
       "      <td>569.2</td>\n",
       "      <td>576.9</td>\n",
       "      <td>566.2</td>\n",
       "      <td>564.3</td>\n",
       "      <td>565.4</td>\n",
       "      <td>573.7</td>\n",
       "      <td>566.3</td>\n",
       "      <td>565.7</td>\n",
       "      <td>567.4</td>\n",
       "    </tr>\n",
       "    <tr>\n",
       "      <th>31</th>\n",
       "      <td>mix_ang_fea_3070</td>\n",
       "      <td>953.5</td>\n",
       "      <td>965.6</td>\n",
       "      <td>983.0</td>\n",
       "      <td>997.0</td>\n",
       "      <td>1012.6</td>\n",
       "      <td>1033.9</td>\n",
       "      <td>1054.0</td>\n",
       "      <td>1039.7</td>\n",
       "      <td>1021.6</td>\n",
       "      <td>...</td>\n",
       "      <td>566.8</td>\n",
       "      <td>570.3</td>\n",
       "      <td>578.4</td>\n",
       "      <td>567.3</td>\n",
       "      <td>565.5</td>\n",
       "      <td>566.6</td>\n",
       "      <td>575.1</td>\n",
       "      <td>567.6</td>\n",
       "      <td>566.9</td>\n",
       "      <td>568.5</td>\n",
       "    </tr>\n",
       "    <tr>\n",
       "      <th>32</th>\n",
       "      <td>mix_ang_fea_3070</td>\n",
       "      <td>952.8</td>\n",
       "      <td>965.3</td>\n",
       "      <td>982.7</td>\n",
       "      <td>996.5</td>\n",
       "      <td>1012.1</td>\n",
       "      <td>1033.3</td>\n",
       "      <td>1053.2</td>\n",
       "      <td>1039.1</td>\n",
       "      <td>1021.0</td>\n",
       "      <td>...</td>\n",
       "      <td>567.5</td>\n",
       "      <td>571.2</td>\n",
       "      <td>579.1</td>\n",
       "      <td>568.1</td>\n",
       "      <td>566.3</td>\n",
       "      <td>567.3</td>\n",
       "      <td>575.8</td>\n",
       "      <td>568.0</td>\n",
       "      <td>567.4</td>\n",
       "      <td>569.1</td>\n",
       "    </tr>\n",
       "    <tr>\n",
       "      <th>33</th>\n",
       "      <td>mix_ang_fea_3070</td>\n",
       "      <td>952.7</td>\n",
       "      <td>965.3</td>\n",
       "      <td>982.6</td>\n",
       "      <td>996.2</td>\n",
       "      <td>1011.5</td>\n",
       "      <td>1032.6</td>\n",
       "      <td>1052.5</td>\n",
       "      <td>1038.2</td>\n",
       "      <td>1020.1</td>\n",
       "      <td>...</td>\n",
       "      <td>569.1</td>\n",
       "      <td>572.9</td>\n",
       "      <td>580.9</td>\n",
       "      <td>570.3</td>\n",
       "      <td>568.5</td>\n",
       "      <td>569.5</td>\n",
       "      <td>577.5</td>\n",
       "      <td>570.0</td>\n",
       "      <td>569.4</td>\n",
       "      <td>571.1</td>\n",
       "    </tr>\n",
       "    <tr>\n",
       "      <th>34</th>\n",
       "      <td>mix_ang_fea_3070</td>\n",
       "      <td>953.4</td>\n",
       "      <td>965.5</td>\n",
       "      <td>982.3</td>\n",
       "      <td>996.2</td>\n",
       "      <td>1011.8</td>\n",
       "      <td>1031.9</td>\n",
       "      <td>1051.0</td>\n",
       "      <td>1037.3</td>\n",
       "      <td>1020.3</td>\n",
       "      <td>...</td>\n",
       "      <td>574.2</td>\n",
       "      <td>577.5</td>\n",
       "      <td>585.5</td>\n",
       "      <td>575.5</td>\n",
       "      <td>573.7</td>\n",
       "      <td>574.7</td>\n",
       "      <td>581.8</td>\n",
       "      <td>575.2</td>\n",
       "      <td>574.6</td>\n",
       "      <td>576.3</td>\n",
       "    </tr>\n",
       "    <tr>\n",
       "      <th>35</th>\n",
       "      <td>mix_ang_fea_3070</td>\n",
       "      <td>952.8</td>\n",
       "      <td>965.1</td>\n",
       "      <td>982.1</td>\n",
       "      <td>995.8</td>\n",
       "      <td>1011.3</td>\n",
       "      <td>1031.5</td>\n",
       "      <td>1050.8</td>\n",
       "      <td>1036.8</td>\n",
       "      <td>1019.5</td>\n",
       "      <td>...</td>\n",
       "      <td>571.7</td>\n",
       "      <td>575.0</td>\n",
       "      <td>583.5</td>\n",
       "      <td>573.3</td>\n",
       "      <td>571.6</td>\n",
       "      <td>572.6</td>\n",
       "      <td>580.1</td>\n",
       "      <td>572.8</td>\n",
       "      <td>572.1</td>\n",
       "      <td>573.7</td>\n",
       "    </tr>\n",
       "    <tr>\n",
       "      <th>36</th>\n",
       "      <td>mix_ang_fea_3070</td>\n",
       "      <td>952.2</td>\n",
       "      <td>964.6</td>\n",
       "      <td>981.7</td>\n",
       "      <td>995.1</td>\n",
       "      <td>1010.4</td>\n",
       "      <td>1030.8</td>\n",
       "      <td>1050.5</td>\n",
       "      <td>1035.9</td>\n",
       "      <td>1018.3</td>\n",
       "      <td>...</td>\n",
       "      <td>574.4</td>\n",
       "      <td>578.1</td>\n",
       "      <td>586.9</td>\n",
       "      <td>576.1</td>\n",
       "      <td>574.4</td>\n",
       "      <td>575.4</td>\n",
       "      <td>583.6</td>\n",
       "      <td>575.5</td>\n",
       "      <td>574.7</td>\n",
       "      <td>576.4</td>\n",
       "    </tr>\n",
       "    <tr>\n",
       "      <th>37</th>\n",
       "      <td>mix_ang_fea_3070</td>\n",
       "      <td>951.1</td>\n",
       "      <td>964.0</td>\n",
       "      <td>981.2</td>\n",
       "      <td>994.6</td>\n",
       "      <td>1009.7</td>\n",
       "      <td>1030.1</td>\n",
       "      <td>1049.5</td>\n",
       "      <td>1035.2</td>\n",
       "      <td>1017.8</td>\n",
       "      <td>...</td>\n",
       "      <td>578.8</td>\n",
       "      <td>582.4</td>\n",
       "      <td>590.9</td>\n",
       "      <td>580.3</td>\n",
       "      <td>578.6</td>\n",
       "      <td>579.6</td>\n",
       "      <td>587.2</td>\n",
       "      <td>579.9</td>\n",
       "      <td>579.2</td>\n",
       "      <td>580.8</td>\n",
       "    </tr>\n",
       "    <tr>\n",
       "      <th>38</th>\n",
       "      <td>mix_ang_fea_3070</td>\n",
       "      <td>950.6</td>\n",
       "      <td>963.2</td>\n",
       "      <td>980.5</td>\n",
       "      <td>994.0</td>\n",
       "      <td>1009.4</td>\n",
       "      <td>1029.8</td>\n",
       "      <td>1049.2</td>\n",
       "      <td>1035.0</td>\n",
       "      <td>1017.4</td>\n",
       "      <td>...</td>\n",
       "      <td>579.1</td>\n",
       "      <td>582.8</td>\n",
       "      <td>591.3</td>\n",
       "      <td>580.5</td>\n",
       "      <td>578.7</td>\n",
       "      <td>579.8</td>\n",
       "      <td>587.8</td>\n",
       "      <td>580.0</td>\n",
       "      <td>579.3</td>\n",
       "      <td>581.0</td>\n",
       "    </tr>\n",
       "    <tr>\n",
       "      <th>39</th>\n",
       "      <td>mix_ang_fea_3070</td>\n",
       "      <td>949.8</td>\n",
       "      <td>962.2</td>\n",
       "      <td>979.9</td>\n",
       "      <td>993.1</td>\n",
       "      <td>1008.0</td>\n",
       "      <td>1028.9</td>\n",
       "      <td>1048.6</td>\n",
       "      <td>1034.5</td>\n",
       "      <td>1016.9</td>\n",
       "      <td>...</td>\n",
       "      <td>579.2</td>\n",
       "      <td>582.9</td>\n",
       "      <td>591.3</td>\n",
       "      <td>580.1</td>\n",
       "      <td>578.4</td>\n",
       "      <td>579.4</td>\n",
       "      <td>587.7</td>\n",
       "      <td>579.8</td>\n",
       "      <td>579.1</td>\n",
       "      <td>580.6</td>\n",
       "    </tr>\n",
       "    <tr>\n",
       "      <th>40</th>\n",
       "      <td>mix_ang_fea_3070</td>\n",
       "      <td>948.1</td>\n",
       "      <td>961.3</td>\n",
       "      <td>979.7</td>\n",
       "      <td>992.6</td>\n",
       "      <td>1007.1</td>\n",
       "      <td>1028.2</td>\n",
       "      <td>1048.2</td>\n",
       "      <td>1033.9</td>\n",
       "      <td>1016.0</td>\n",
       "      <td>...</td>\n",
       "      <td>580.7</td>\n",
       "      <td>584.8</td>\n",
       "      <td>593.4</td>\n",
       "      <td>581.0</td>\n",
       "      <td>579.4</td>\n",
       "      <td>580.5</td>\n",
       "      <td>590.1</td>\n",
       "      <td>581.4</td>\n",
       "      <td>580.6</td>\n",
       "      <td>582.1</td>\n",
       "    </tr>\n",
       "    <tr>\n",
       "      <th>41</th>\n",
       "      <td>mix_ang_fea_3070</td>\n",
       "      <td>946.9</td>\n",
       "      <td>961.0</td>\n",
       "      <td>979.7</td>\n",
       "      <td>992.4</td>\n",
       "      <td>1006.7</td>\n",
       "      <td>1028.1</td>\n",
       "      <td>1048.6</td>\n",
       "      <td>1034.1</td>\n",
       "      <td>1016.0</td>\n",
       "      <td>...</td>\n",
       "      <td>583.5</td>\n",
       "      <td>588.2</td>\n",
       "      <td>597.2</td>\n",
       "      <td>584.0</td>\n",
       "      <td>582.2</td>\n",
       "      <td>583.3</td>\n",
       "      <td>593.6</td>\n",
       "      <td>584.2</td>\n",
       "      <td>583.5</td>\n",
       "      <td>585.1</td>\n",
       "    </tr>\n",
       "    <tr>\n",
       "      <th>42</th>\n",
       "      <td>mix_ang_fea_3070</td>\n",
       "      <td>945.3</td>\n",
       "      <td>959.9</td>\n",
       "      <td>979.0</td>\n",
       "      <td>991.8</td>\n",
       "      <td>1006.3</td>\n",
       "      <td>1027.8</td>\n",
       "      <td>1048.3</td>\n",
       "      <td>1033.9</td>\n",
       "      <td>1015.8</td>\n",
       "      <td>...</td>\n",
       "      <td>584.7</td>\n",
       "      <td>589.2</td>\n",
       "      <td>598.1</td>\n",
       "      <td>584.7</td>\n",
       "      <td>583.1</td>\n",
       "      <td>584.3</td>\n",
       "      <td>594.9</td>\n",
       "      <td>585.5</td>\n",
       "      <td>584.6</td>\n",
       "      <td>586.1</td>\n",
       "    </tr>\n",
       "    <tr>\n",
       "      <th>43</th>\n",
       "      <td>mix_ang_fea_3070</td>\n",
       "      <td>944.0</td>\n",
       "      <td>959.4</td>\n",
       "      <td>978.8</td>\n",
       "      <td>991.4</td>\n",
       "      <td>1005.8</td>\n",
       "      <td>1027.3</td>\n",
       "      <td>1048.1</td>\n",
       "      <td>1033.4</td>\n",
       "      <td>1015.2</td>\n",
       "      <td>...</td>\n",
       "      <td>587.4</td>\n",
       "      <td>592.2</td>\n",
       "      <td>601.4</td>\n",
       "      <td>587.1</td>\n",
       "      <td>585.6</td>\n",
       "      <td>586.8</td>\n",
       "      <td>598.6</td>\n",
       "      <td>588.1</td>\n",
       "      <td>587.2</td>\n",
       "      <td>588.7</td>\n",
       "    </tr>\n",
       "    <tr>\n",
       "      <th>44</th>\n",
       "      <td>mix_ang_fea_3070</td>\n",
       "      <td>942.8</td>\n",
       "      <td>957.9</td>\n",
       "      <td>977.3</td>\n",
       "      <td>990.7</td>\n",
       "      <td>1005.8</td>\n",
       "      <td>1027.5</td>\n",
       "      <td>1048.6</td>\n",
       "      <td>1033.7</td>\n",
       "      <td>1015.3</td>\n",
       "      <td>...</td>\n",
       "      <td>585.1</td>\n",
       "      <td>590.1</td>\n",
       "      <td>599.7</td>\n",
       "      <td>585.5</td>\n",
       "      <td>583.8</td>\n",
       "      <td>585.1</td>\n",
       "      <td>596.4</td>\n",
       "      <td>586.1</td>\n",
       "      <td>585.2</td>\n",
       "      <td>586.8</td>\n",
       "    </tr>\n",
       "    <tr>\n",
       "      <th>45</th>\n",
       "      <td>mix_ang_fea_3070</td>\n",
       "      <td>941.7</td>\n",
       "      <td>957.2</td>\n",
       "      <td>976.4</td>\n",
       "      <td>989.9</td>\n",
       "      <td>1005.4</td>\n",
       "      <td>1026.9</td>\n",
       "      <td>1047.5</td>\n",
       "      <td>1032.6</td>\n",
       "      <td>1014.2</td>\n",
       "      <td>...</td>\n",
       "      <td>586.7</td>\n",
       "      <td>592.0</td>\n",
       "      <td>601.5</td>\n",
       "      <td>587.2</td>\n",
       "      <td>585.5</td>\n",
       "      <td>586.9</td>\n",
       "      <td>599.0</td>\n",
       "      <td>587.7</td>\n",
       "      <td>586.9</td>\n",
       "      <td>588.6</td>\n",
       "    </tr>\n",
       "    <tr>\n",
       "      <th>46</th>\n",
       "      <td>mix_ang_fea_3070</td>\n",
       "      <td>940.8</td>\n",
       "      <td>956.3</td>\n",
       "      <td>975.8</td>\n",
       "      <td>989.5</td>\n",
       "      <td>1005.2</td>\n",
       "      <td>1026.7</td>\n",
       "      <td>1047.4</td>\n",
       "      <td>1032.4</td>\n",
       "      <td>1014.0</td>\n",
       "      <td>...</td>\n",
       "      <td>586.6</td>\n",
       "      <td>591.6</td>\n",
       "      <td>601.3</td>\n",
       "      <td>586.9</td>\n",
       "      <td>585.2</td>\n",
       "      <td>586.6</td>\n",
       "      <td>598.4</td>\n",
       "      <td>587.6</td>\n",
       "      <td>586.7</td>\n",
       "      <td>588.3</td>\n",
       "    </tr>\n",
       "  </tbody>\n",
       "</table>\n",
       "<p>47 rows × 101 columns</p>\n",
       "</div>"
      ],
      "text/plain": [
       "             emotion   x_48   x_49   x_50   x_51    x_52    x_53    x_54   \n",
       "0   mix_ang_fea_3070  913.1  927.9  946.0  962.4   981.3  1005.6  1029.1  \\\n",
       "1   mix_ang_fea_3070  911.7  926.3  944.5  961.4   981.0  1005.1  1028.5   \n",
       "2   mix_ang_fea_3070  911.2  926.0  944.3  961.1   980.6  1004.8  1028.4   \n",
       "3   mix_ang_fea_3070  910.8  925.9  944.3  960.9   980.3  1004.6  1028.2   \n",
       "4   mix_ang_fea_3070  910.9  926.0  944.3  960.9   980.3  1004.5  1028.0   \n",
       "5   mix_ang_fea_3070  911.6  926.0  944.3  960.8   979.9  1004.4  1028.5   \n",
       "6   mix_ang_fea_3070  912.8  928.1  946.5  962.5   981.0  1004.5  1027.9   \n",
       "7   mix_ang_fea_3070  914.1  929.3  948.0  963.4   981.2  1005.0  1029.0   \n",
       "8   mix_ang_fea_3070  915.8  930.3  949.3  963.6   979.9  1004.5  1029.8   \n",
       "9   mix_ang_fea_3070  930.2  936.8  950.5  963.5   978.0   997.1  1014.6   \n",
       "10  mix_ang_fea_3070  928.3  936.3  952.1  965.5   980.4  1001.6  1021.4   \n",
       "11  mix_ang_fea_3070  930.3  938.0  954.1  968.0   983.3  1005.2  1025.2   \n",
       "12  mix_ang_fea_3070  931.5  940.2  956.9  970.8   985.8  1008.7  1029.6   \n",
       "13  mix_ang_fea_3070  933.3  942.8  960.0  973.3   987.7  1011.0  1032.9   \n",
       "14  mix_ang_fea_3070  935.6  945.2  962.7  976.0   990.5  1013.8  1035.2   \n",
       "15  mix_ang_fea_3070  936.8  947.3  965.1  978.4   992.9  1016.2  1037.9   \n",
       "16  mix_ang_fea_3070  938.3  949.4  967.5  981.0   995.6  1019.0  1040.7   \n",
       "17  mix_ang_fea_3070  940.3  951.4  969.8  983.6   998.5  1021.8  1043.7   \n",
       "18  mix_ang_fea_3070  941.9  953.6  971.7  985.8  1000.9  1024.0  1045.9   \n",
       "19  mix_ang_fea_3070  943.8  956.5  975.0  988.8  1004.0  1026.7  1049.0   \n",
       "20  mix_ang_fea_3070  946.2  959.0  977.4  991.1  1006.4  1028.9  1051.5   \n",
       "21  mix_ang_fea_3070  947.3  960.6  979.0  993.3  1009.1  1031.4  1053.5   \n",
       "22  mix_ang_fea_3070  948.4  962.4  981.0  995.2  1011.0  1033.5  1056.1   \n",
       "23  mix_ang_fea_3070  949.6  963.9  982.5  996.3  1011.7  1034.2  1056.5   \n",
       "24  mix_ang_fea_3070  950.4  964.7  983.3  997.2  1012.9  1035.0  1057.3   \n",
       "25  mix_ang_fea_3070  950.8  964.6  983.2  997.2  1012.6  1035.1  1057.2   \n",
       "26  mix_ang_fea_3070  952.2  965.4  983.5  997.7  1013.4  1035.4  1057.0   \n",
       "27  mix_ang_fea_3070  953.2  966.0  983.8  998.2  1014.2  1035.8  1056.6   \n",
       "28  mix_ang_fea_3070  953.6  966.3  983.9  998.1  1014.2  1035.6  1056.1   \n",
       "29  mix_ang_fea_3070  953.5  966.1  983.6  997.7  1013.7  1034.9  1055.0   \n",
       "30  mix_ang_fea_3070  953.5  965.8  983.1  997.5  1013.6  1034.8  1054.4   \n",
       "31  mix_ang_fea_3070  953.5  965.6  983.0  997.0  1012.6  1033.9  1054.0   \n",
       "32  mix_ang_fea_3070  952.8  965.3  982.7  996.5  1012.1  1033.3  1053.2   \n",
       "33  mix_ang_fea_3070  952.7  965.3  982.6  996.2  1011.5  1032.6  1052.5   \n",
       "34  mix_ang_fea_3070  953.4  965.5  982.3  996.2  1011.8  1031.9  1051.0   \n",
       "35  mix_ang_fea_3070  952.8  965.1  982.1  995.8  1011.3  1031.5  1050.8   \n",
       "36  mix_ang_fea_3070  952.2  964.6  981.7  995.1  1010.4  1030.8  1050.5   \n",
       "37  mix_ang_fea_3070  951.1  964.0  981.2  994.6  1009.7  1030.1  1049.5   \n",
       "38  mix_ang_fea_3070  950.6  963.2  980.5  994.0  1009.4  1029.8  1049.2   \n",
       "39  mix_ang_fea_3070  949.8  962.2  979.9  993.1  1008.0  1028.9  1048.6   \n",
       "40  mix_ang_fea_3070  948.1  961.3  979.7  992.6  1007.1  1028.2  1048.2   \n",
       "41  mix_ang_fea_3070  946.9  961.0  979.7  992.4  1006.7  1028.1  1048.6   \n",
       "42  mix_ang_fea_3070  945.3  959.9  979.0  991.8  1006.3  1027.8  1048.3   \n",
       "43  mix_ang_fea_3070  944.0  959.4  978.8  991.4  1005.8  1027.3  1048.1   \n",
       "44  mix_ang_fea_3070  942.8  957.9  977.3  990.7  1005.8  1027.5  1048.6   \n",
       "45  mix_ang_fea_3070  941.7  957.2  976.4  989.9  1005.4  1026.9  1047.5   \n",
       "46  mix_ang_fea_3070  940.8  956.3  975.8  989.5  1005.2  1026.7  1047.4   \n",
       "\n",
       "      x_55    x_56  ...   Z_58   Z_59   Z_60   Z_61   Z_62   Z_63   Z_64   \n",
       "0   1012.0   991.7  ...  546.3  551.1  560.0  547.5  545.2  545.0  554.4  \\\n",
       "1   1011.5   991.4  ...  545.7  550.5  559.4  546.7  544.3  544.3  553.6   \n",
       "2   1011.1   990.9  ...  546.1  551.1  559.9  547.2  544.7  544.6  553.8   \n",
       "3   1011.0   990.6  ...  549.2  554.3  562.9  550.2  547.8  547.6  556.8   \n",
       "4   1010.8   990.6  ...  549.0  553.9  562.5  550.1  547.7  547.5  556.6   \n",
       "5   1010.7   990.2  ...  545.5  550.5  559.7  546.9  544.6  544.5  553.4   \n",
       "6   1010.7   991.1  ...  546.4  551.1  560.1  547.6  545.4  545.6  555.1   \n",
       "7   1011.7   991.9  ...  539.8  544.8  554.9  541.5  539.5  539.7  550.2   \n",
       "8   1011.5   990.8  ...  533.0  538.3  548.8  534.6  532.7  532.9  543.4   \n",
       "9   1004.0   990.3  ...  525.9  526.5  532.3  525.5  523.8  524.3  529.7   \n",
       "10  1009.4   993.6  ...  525.0  527.0  534.4  525.2  523.3  523.9  531.2   \n",
       "11  1013.9   997.4  ...  523.4  525.0  532.3  523.3  521.5  522.0  528.7   \n",
       "12  1017.8  1000.3  ...  525.8  527.8  535.9  526.1  524.3  524.5  531.7   \n",
       "13  1020.0  1001.6  ...  524.1  526.9  535.8  525.4  523.4  523.7  531.8   \n",
       "14  1022.8  1004.5  ...  522.8  525.6  534.2  523.8  521.7  522.2  530.1   \n",
       "15  1025.3  1006.7  ...  527.1  530.0  538.6  528.0  525.9  526.3  534.5   \n",
       "16  1028.0  1009.0  ...  530.2  533.2  541.9  531.0  529.0  529.4  537.7   \n",
       "17  1030.7  1011.7  ...  529.0  532.2  541.3  530.6  528.6  529.0  536.8   \n",
       "18  1032.6  1013.9  ...  527.6  531.1  540.4  529.4  527.4  528.0  536.1   \n",
       "19  1034.7  1015.7  ...  529.4  533.2  543.2  531.4  529.5  530.4  539.1   \n",
       "20  1036.1  1016.9  ...  531.6  535.8  546.3  534.0  532.1  533.0  542.0   \n",
       "21  1038.3  1019.2  ...  539.2  543.4  553.3  541.5  539.5  540.3  548.8   \n",
       "22  1039.8  1020.1  ...  540.6  545.3  556.0  543.5  541.6  542.5  551.4   \n",
       "23  1040.4  1020.6  ...  545.4  549.9  560.1  547.6  545.7  546.7  555.9   \n",
       "24  1040.9  1021.4  ...  547.7  552.4  562.3  549.7  547.9  549.0  558.1   \n",
       "25  1041.6  1022.0  ...  553.8  557.9  567.4  554.9  553.1  554.0  563.0   \n",
       "26  1041.4  1022.2  ...  553.5  557.6  566.8  554.8  552.9  554.0  562.8   \n",
       "27  1041.7  1023.1  ...  556.0  559.7  568.1  556.8  555.0  556.1  564.6   \n",
       "28  1041.3  1022.7  ...  559.0  563.0  571.3  559.9  557.9  559.1  568.0   \n",
       "29  1040.5  1022.2  ...  563.6  567.3  575.1  564.1  562.3  563.4  572.1   \n",
       "30  1040.7  1022.6  ...  565.8  569.2  576.9  566.2  564.3  565.4  573.7   \n",
       "31  1039.7  1021.6  ...  566.8  570.3  578.4  567.3  565.5  566.6  575.1   \n",
       "32  1039.1  1021.0  ...  567.5  571.2  579.1  568.1  566.3  567.3  575.8   \n",
       "33  1038.2  1020.1  ...  569.1  572.9  580.9  570.3  568.5  569.5  577.5   \n",
       "34  1037.3  1020.3  ...  574.2  577.5  585.5  575.5  573.7  574.7  581.8   \n",
       "35  1036.8  1019.5  ...  571.7  575.0  583.5  573.3  571.6  572.6  580.1   \n",
       "36  1035.9  1018.3  ...  574.4  578.1  586.9  576.1  574.4  575.4  583.6   \n",
       "37  1035.2  1017.8  ...  578.8  582.4  590.9  580.3  578.6  579.6  587.2   \n",
       "38  1035.0  1017.4  ...  579.1  582.8  591.3  580.5  578.7  579.8  587.8   \n",
       "39  1034.5  1016.9  ...  579.2  582.9  591.3  580.1  578.4  579.4  587.7   \n",
       "40  1033.9  1016.0  ...  580.7  584.8  593.4  581.0  579.4  580.5  590.1   \n",
       "41  1034.1  1016.0  ...  583.5  588.2  597.2  584.0  582.2  583.3  593.6   \n",
       "42  1033.9  1015.8  ...  584.7  589.2  598.1  584.7  583.1  584.3  594.9   \n",
       "43  1033.4  1015.2  ...  587.4  592.2  601.4  587.1  585.6  586.8  598.6   \n",
       "44  1033.7  1015.3  ...  585.1  590.1  599.7  585.5  583.8  585.1  596.4   \n",
       "45  1032.6  1014.2  ...  586.7  592.0  601.5  587.2  585.5  586.9  599.0   \n",
       "46  1032.4  1014.0  ...  586.6  591.6  601.3  586.9  585.2  586.6  598.4   \n",
       "\n",
       "     Z_65   Z_66   Z_67  \n",
       "0   545.1  545.4  547.9  \n",
       "1   544.7  544.9  547.3  \n",
       "2   544.9  545.1  547.7  \n",
       "3   547.9  548.2  550.8  \n",
       "4   547.7  547.9  550.5  \n",
       "5   544.6  544.6  547.1  \n",
       "6   545.7  545.6  547.9  \n",
       "7   539.6  539.4  541.6  \n",
       "8   533.2  532.9  534.9  \n",
       "9   526.0  525.8  527.3  \n",
       "10  525.1  524.8  526.4  \n",
       "11  523.9  523.6  525.0  \n",
       "12  526.4  526.1  527.5  \n",
       "13  524.8  524.5  526.0  \n",
       "14  523.2  522.9  524.5  \n",
       "15  527.5  527.2  528.8  \n",
       "16  530.6  530.2  531.8  \n",
       "17  529.6  529.2  530.8  \n",
       "18  528.3  527.8  529.5  \n",
       "19  530.6  529.8  531.4  \n",
       "20  533.0  532.3  534.0  \n",
       "21  540.2  539.5  541.4  \n",
       "22  542.0  541.2  543.1  \n",
       "23  546.5  545.7  547.5  \n",
       "24  549.0  548.2  550.0  \n",
       "25  554.9  554.2  555.7  \n",
       "26  554.8  554.1  555.7  \n",
       "27  557.1  556.4  558.0  \n",
       "28  559.9  559.2  561.0  \n",
       "29  564.4  563.7  565.4  \n",
       "30  566.3  565.7  567.4  \n",
       "31  567.6  566.9  568.5  \n",
       "32  568.0  567.4  569.1  \n",
       "33  570.0  569.4  571.1  \n",
       "34  575.2  574.6  576.3  \n",
       "35  572.8  572.1  573.7  \n",
       "36  575.5  574.7  576.4  \n",
       "37  579.9  579.2  580.8  \n",
       "38  580.0  579.3  581.0  \n",
       "39  579.8  579.1  580.6  \n",
       "40  581.4  580.6  582.1  \n",
       "41  584.2  583.5  585.1  \n",
       "42  585.5  584.6  586.1  \n",
       "43  588.1  587.2  588.7  \n",
       "44  586.1  585.2  586.8  \n",
       "45  587.7  586.9  588.6  \n",
       "46  587.6  586.7  588.3  \n",
       "\n",
       "[47 rows x 101 columns]"
      ]
     },
     "execution_count": 5,
     "metadata": {},
     "output_type": "execute_result"
    }
   ],
   "source": [
    "dfs[1]"
   ]
  },
  {
   "cell_type": "code",
   "execution_count": 34,
   "metadata": {},
   "outputs": [
    {
     "data": {
      "text/plain": [
       "(array([ 4.,  7., 21., 33., 40., 44., 37., 35., 38., 38., 31., 29., 41.,\n",
       "        50., 55., 41., 41., 34., 40., 40., 34., 29., 32., 36., 27., 20.,\n",
       "        14., 10.,  4.,  0.,  0.,  1.,  1.,  2.,  0.,  1.,  0.,  1.,  1.,\n",
       "         0.,  0.,  0.,  0.,  0.,  0.,  0.,  0.,  0.,  0.,  0.,  0.,  0.,\n",
       "         0.,  0.,  0.,  0.,  0.,  0.,  1.,  0.,  1.,  0.,  0.,  0.,  0.,\n",
       "         0.,  0.,  0.,  0.,  0.,  0.,  0.,  0.,  0.,  0.,  0.,  1.,  0.,\n",
       "         0.,  0.,  0.,  0.,  1.,  0.,  0.,  0.,  0.,  0.,  0.,  0.,  0.,\n",
       "         0.,  0.,  0.,  0.,  0.,  0.,  0.,  0.,  1.]),\n",
       " array([ 33. ,  42.3,  51.6,  60.9,  70.2,  79.5,  88.8,  98.1, 107.4,\n",
       "        116.7, 126. , 135.3, 144.6, 153.9, 163.2, 172.5, 181.8, 191.1,\n",
       "        200.4, 209.7, 219. , 228.3, 237.6, 246.9, 256.2, 265.5, 274.8,\n",
       "        284.1, 293.4, 302.7, 312. , 321.3, 330.6, 339.9, 349.2, 358.5,\n",
       "        367.8, 377.1, 386.4, 395.7, 405. , 414.3, 423.6, 432.9, 442.2,\n",
       "        451.5, 460.8, 470.1, 479.4, 488.7, 498. , 507.3, 516.6, 525.9,\n",
       "        535.2, 544.5, 553.8, 563.1, 572.4, 581.7, 591. , 600.3, 609.6,\n",
       "        618.9, 628.2, 637.5, 646.8, 656.1, 665.4, 674.7, 684. , 693.3,\n",
       "        702.6, 711.9, 721.2, 730.5, 739.8, 749.1, 758.4, 767.7, 777. ,\n",
       "        786.3, 795.6, 804.9, 814.2, 823.5, 832.8, 842.1, 851.4, 860.7,\n",
       "        870. , 879.3, 888.6, 897.9, 907.2, 916.5, 925.8, 935.1, 944.4,\n",
       "        953.7, 963. ]),\n",
       " <BarContainer object of 100 artists>)"
      ]
     },
     "execution_count": 34,
     "metadata": {},
     "output_type": "execute_result"
    },
    {
     "data": {
      "image/png": "[encoded data removed]",
      "text/plain": [
       "<Figure size 640x480 with 1 Axes>"
      ]
     },
     "metadata": {},
     "output_type": "display_data"
    }
   ],
   "source": [
    "dfs_len = [len(df) for df in dfs]\n",
    "\n",
    "plt.hist(dfs_len, bins=100)"
   ]
  },
  {
   "cell_type": "code",
   "execution_count": 6,
   "metadata": {},
   "outputs": [],
   "source": [
    "# Normalize the data\n",
    "for df in dfs:\n",
    "    cols_to_normalize = df.columns.difference(['emotion'])\n",
    "    #df[cols_to_normalize] = df[cols_to_normalize].apply(lambda x: (x - x.min()) / (x.max() - x.min())) # mix-max normalization\n",
    "    df[cols_to_normalize] = df[cols_to_normalize].apply(lambda x: (x - x.mean()) / x.std()) # Z normalization"
   ]
  },
  {
   "cell_type": "code",
   "execution_count": null,
   "metadata": {},
   "outputs": [],
   "source": [
    "dfs[1]"
   ]
  },
  {
   "cell_type": "code",
   "execution_count": 7,
   "metadata": {},
   "outputs": [],
   "source": [
    "# change emotion name\n",
    "emotions = []\n",
    "\n",
    "for df in dfs:\n",
    "    emotion = df['emotion'].unique()\n",
    "    emotion = emotion[0]\n",
    "    if emotion.startswith('mix'):\n",
    "        emotion = emotion.rsplit(\"_\", 1)[0]\n",
    "    else:\n",
    "        emotion = emotion.split(\"_\", 1)[0]\n",
    "    df['emotion'] = emotion\n",
    "    emotions.append(emotion)"
   ]
  },
  {
   "cell_type": "code",
   "execution_count": 8,
   "metadata": {},
   "outputs": [],
   "source": [
    "# encode labels\n",
    "label_encoder = LabelEncoder()\n",
    "label_list = label_encoder.fit_transform(emotions)\n",
    "label_mapping = dict(zip(label_list, emotions))\n",
    "\n",
    "emo_labels = []\n",
    "for df in dfs:\n",
    "    emotion = df['emotion'].iloc[0]\n",
    "    label = label_encoder.transform([emotion])[0]\n",
    "    emo_labels.extend([label] * len(df))"
   ]
  },
  {
   "cell_type": "code",
   "execution_count": 9,
   "metadata": {},
   "outputs": [],
   "source": [
    "num_features = 100\n",
    "num_files = len(dfs)\n",
    "\n",
    "# Combine dataframes into a single tensor\n",
    "data = torch.zeros((num_files, max_rows, num_features))  # 1e-6 is added to avoid log(0)\n",
    "labels = torch.zeros((num_files, max_rows), dtype=torch.long) - 1 # -1 indicates missing values\n",
    "for i, df in enumerate(dfs):\n",
    "    encoded_labels = label_list[i]  # Convert non-numeric labels to numeric labels\n",
    "    data[i, : df.shape[0]] = torch.tensor(df.iloc[:,1:101].values, dtype=torch.float32)  # Exclude the first column (labels)\n",
    "    labels[i, : df.shape[0]] = torch.tensor(encoded_labels, dtype=torch.long)  # Use the encoded labels"
   ]
  },
  {
   "cell_type": "code",
   "execution_count": 10,
   "metadata": {},
   "outputs": [
    {
     "data": {
      "text/plain": [
       "torch.Size([905, 299])"
      ]
     },
     "execution_count": 10,
     "metadata": {},
     "output_type": "execute_result"
    }
   ],
   "source": [
    "labels.shape"
   ]
  },
  {
   "cell_type": "code",
   "execution_count": 11,
   "metadata": {},
   "outputs": [],
   "source": [
    "# Split the dataset into training and validation sets\n",
    "X_train, X_val, y_train, y_val = train_test_split(data, labels, test_size=0.2, random_state=42)"
   ]
  },
  {
   "cell_type": "code",
   "execution_count": 12,
   "metadata": {},
   "outputs": [],
   "source": [
    "# Create custom dataset class\n",
    "class CustomDataset(Dataset):\n",
    "    def __init__(self, data, labels):\n",
    "        self.data = data\n",
    "        self.labels = labels\n",
    "\n",
    "    def __len__(self):\n",
    "        return len(self.data)\n",
    "\n",
    "    def __getitem__(self, idx):\n",
    "        return self.data[idx], self.labels[idx]"
   ]
  },
  {
   "cell_type": "code",
   "execution_count": 13,
   "metadata": {},
   "outputs": [],
   "source": [
    "# load dataset\n",
    "train_dataset = CustomDataset(X_train, y_train)\n",
    "val_dataset = CustomDataset(X_val, y_val)\n",
    "\n",
    "# load dataloader\n",
    "train_loader = DataLoader(train_dataset, batch_size=32, shuffle=True)\n",
    "val_loader = DataLoader(val_dataset, batch_size=32, shuffle=True)"
   ]
  },
  {
   "cell_type": "code",
   "execution_count": 14,
   "metadata": {},
   "outputs": [],
   "source": [
    "class TimeDistributed(nn.Module):\n",
    "    def __init__(self, module: nn.Module, batch_first: bool = True):\n",
    "        super().__init__()\n",
    "        self.module = module\n",
    "        self.batch_first = batch_first\n",
    "\n",
    "    def forward(self, x):\n",
    "        if len(x.size()) <= 2:\n",
    "            return self.module(x)\n",
    "\n",
    "        # Squash samples and timesteps into a single axis\n",
    "        x_reshape = x.contiguous().view(-1, x.size(-1))  # (samples * timesteps, input_size)\n",
    "\n",
    "        y = self.module(x_reshape)\n",
    "\n",
    "        # We have to reshape Y\n",
    "        if self.batch_first:\n",
    "            y = y.contiguous().view(x.size(0), -1, y.size(-1))  # (samples, timesteps, output_size)\n",
    "        else:\n",
    "            y = y.view(-1, x.size(1), y.size(-1))  # (timesteps, samples, output_size)\n",
    "        return y"
   ]
  },
  {
   "cell_type": "code",
   "execution_count": 15,
   "metadata": {},
   "outputs": [],
   "source": [
    "class TimeVAE_base(nn.Module):\n",
    "    def __init__(self, latent_dim):\n",
    "        super(TimeVAE_base, self).__init__()\n",
    "        # encoder layers\n",
    "        self.encoder_convs = nn.Sequential(\n",
    "            nn.Conv1d(299, 128, 3, stride=2, padding=1,bias=False),\n",
    "            nn.ReLU(True),\n",
    "            nn.Conv1d(128, 64, 3, stride=2, padding=1, bias=False),\n",
    "            nn.ReLU(True),\n",
    "        \n",
    "        ) # output shape: (batch_size, 64, 45)\n",
    "        self.fc1 = nn.Linear(25, 16)\n",
    "        self.mean = nn.Linear(16, latent_dim)\n",
    "        self.var = nn.Linear(16, latent_dim)\n",
    "\n",
    "        # decoder layers\n",
    "        self.fc2 = nn.Linear(latent_dim, 16)\n",
    "        self.fc3 = nn.Linear(16, 25)\n",
    "        self.decoder_convs = nn.Sequential(\n",
    "            nn.ConvTranspose1d(64, 128, 3, stride=2, padding=1,output_padding=1, bias=False),\n",
    "            nn.ReLU(True),\n",
    "            nn.ConvTranspose1d(128, 299, 3, stride=2, padding=1,output_padding=1 ,bias=False),\n",
    "            nn.ReLU(True)\n",
    "        ) # output shape: (batch_size, 963, 288)\n",
    "\n",
    "        self.time_distributed = TimeDistributed(nn.Linear(100, 100))\n",
    "        \n",
    "    def encode(self, x):\n",
    "        x = self.encoder_convs(x)\n",
    "        x = x.contiguous().view(-1, x.size(-1)) # flatten\n",
    "        x = self.fc1(x)\n",
    "        mean = self.mean(x)\n",
    "        log_var = self.var(x)\n",
    "        return mean, log_var\n",
    "    \n",
    "    def reparaterize(self, mean, log_var):\n",
    "        std = torch.exp(0.5*log_var)\n",
    "        eps = torch.randn_like(std)\n",
    "        return mean + eps*std\n",
    "    \n",
    "    def decode(self, z):\n",
    "        z = self.fc2(z)\n",
    "        z = self.fc3(z)\n",
    "        z = z.contiguous().view(-1, 64, 25) # reshape\n",
    "        z = self.decoder_convs(z)\n",
    "        z = self.time_distributed(z)\n",
    "        return z\n",
    "    \n",
    "    def forward(self, x):\n",
    "        mean, log_var = self.encode(x)\n",
    "        z = self.reparaterize(mean, log_var)\n",
    "        return self.decode(z), mean, log_var"
   ]
  },
  {
   "cell_type": "code",
   "execution_count": 36,
   "metadata": {},
   "outputs": [],
   "source": [
    "# VAE loss function\n",
    "def vae_loss(x, x_recon, mean, log_var, beta=1):\n",
    "    recon_loss = nn.MSELoss()(x_recon, x)\n",
    "    kl_loss = -0.5 * torch.sum(1 + log_var - mean.pow(2) - log_var.exp())\n",
    "    return recon_loss + kl_loss * beta"
   ]
  },
  {
   "cell_type": "code",
   "execution_count": 58,
   "metadata": {},
   "outputs": [],
   "source": [
    "# Initialize the VAE model, optimizer, and other settings\n",
    "device = torch.device('cuda' if torch.cuda.is_available() else 'cpu')\n",
    "latent_dim = 2\n",
    "model = TimeVAE_base(latent_dim).to(device)\n",
    "optimizer = optim.Adam(model.parameters(), lr=1e-3)\n",
    "epochs = 50"
   ]
  },
  {
   "cell_type": "code",
   "execution_count": 59,
   "metadata": {},
   "outputs": [],
   "source": [
    "def train_test_vae(epochs, train_loader, val_loader, model, optimizer):\n",
    "    loss_history = []\n",
    "    for epoch in range(epochs):\n",
    "        model.train()\n",
    "        train_loss = 0\n",
    "        for batch_data, _ in tqdm(train_loader):\n",
    "            batch_data = batch_data.to(device)\n",
    "            optimizer.zero_grad()\n",
    "            x_recon, mean, log_var = model(batch_data)\n",
    "            loss = vae_loss(batch_data, x_recon, mean, log_var, beta=2) # beta_VAE\n",
    "            loss.backward()\n",
    "            optimizer.step()\n",
    "            train_loss += loss.item()\n",
    "            loss_history.append(loss.item())\n",
    "        train_loss /= len(train_loader.dataset)\n",
    "        print(f'Epoch {epoch+1}, Train Loss: {train_loss:.4f}')\n",
    "\n",
    "        model.eval()\n",
    "        val_loss = 0\n",
    "        with torch.no_grad():\n",
    "            for batch_data, _ in val_loader:\n",
    "                batch_data = batch_data.to(device)\n",
    "                x_recon, mean, log_var = model(batch_data)\n",
    "                loss = vae_loss(batch_data, x_recon, mean, log_var, beta=2) # beta_VAE\n",
    "                val_loss += loss.item()\n",
    "            \n",
    "        val_loss /= len(val_loader.dataset)\n",
    "        print(f'Epoch {epoch+1}, Val Loss: {val_loss:.4f}')\n",
    "\n",
    "    # plot the training loss curve\n",
    "    plt.plot(loss_history)\n",
    "    plt.xlabel('Iterations')\n",
    "    plt.ylabel('Training Loss')\n",
    "    plt.title('Training Loss Curve')\n",
    "    plt.xlim((2,50)) \n",
    "    plt.show()\n"
   ]
  },
  {
   "cell_type": "code",
   "execution_count": 60,
   "metadata": {},
   "outputs": [
    {
     "name": "stderr",
     "output_type": "stream",
     "text": [
      "100%|██████████| 23/23 [00:01<00:00, 22.25it/s]\n"
     ]
    },
    {
     "name": "stdout",
     "output_type": "stream",
     "text": [
      "Epoch 1, Train Loss: 5.9586\n",
      "Epoch 1, Val Loss: 1.3868\n"
     ]
    },
    {
     "name": "stderr",
     "output_type": "stream",
     "text": [
      "100%|██████████| 23/23 [00:01<00:00, 21.84it/s]\n"
     ]
    },
    {
     "name": "stdout",
     "output_type": "stream",
     "text": [
      "Epoch 2, Train Loss: 0.7175\n",
      "Epoch 2, Val Loss: 0.3850\n"
     ]
    },
    {
     "name": "stderr",
     "output_type": "stream",
     "text": [
      "100%|██████████| 23/23 [00:00<00:00, 23.81it/s]\n"
     ]
    },
    {
     "name": "stdout",
     "output_type": "stream",
     "text": [
      "Epoch 3, Train Loss: 0.2783\n",
      "Epoch 3, Val Loss: 0.2184\n"
     ]
    },
    {
     "name": "stderr",
     "output_type": "stream",
     "text": [
      "100%|██████████| 23/23 [00:01<00:00, 22.28it/s]\n"
     ]
    },
    {
     "name": "stdout",
     "output_type": "stream",
     "text": [
      "Epoch 4, Train Loss: 0.1411\n",
      "Epoch 4, Val Loss: 0.1342\n"
     ]
    },
    {
     "name": "stderr",
     "output_type": "stream",
     "text": [
      "100%|██████████| 23/23 [00:00<00:00, 23.56it/s]\n"
     ]
    },
    {
     "name": "stdout",
     "output_type": "stream",
     "text": [
      "Epoch 5, Train Loss: 0.1166\n",
      "Epoch 5, Val Loss: 0.1641\n"
     ]
    },
    {
     "name": "stderr",
     "output_type": "stream",
     "text": [
      "100%|██████████| 23/23 [00:00<00:00, 23.41it/s]\n"
     ]
    },
    {
     "name": "stdout",
     "output_type": "stream",
     "text": [
      "Epoch 6, Train Loss: 0.1082\n",
      "Epoch 6, Val Loss: 0.1248\n"
     ]
    },
    {
     "name": "stderr",
     "output_type": "stream",
     "text": [
      "100%|██████████| 23/23 [00:00<00:00, 23.17it/s]\n"
     ]
    },
    {
     "name": "stdout",
     "output_type": "stream",
     "text": [
      "Epoch 7, Train Loss: 0.0807\n",
      "Epoch 7, Val Loss: 0.1047\n"
     ]
    },
    {
     "name": "stderr",
     "output_type": "stream",
     "text": [
      "100%|██████████| 23/23 [00:01<00:00, 22.95it/s]\n"
     ]
    },
    {
     "name": "stdout",
     "output_type": "stream",
     "text": [
      "Epoch 8, Train Loss: 0.0675\n",
      "Epoch 8, Val Loss: 0.1034\n"
     ]
    },
    {
     "name": "stderr",
     "output_type": "stream",
     "text": [
      "100%|██████████| 23/23 [00:00<00:00, 23.09it/s]\n"
     ]
    },
    {
     "name": "stdout",
     "output_type": "stream",
     "text": [
      "Epoch 9, Train Loss: 0.0633\n",
      "Epoch 9, Val Loss: 0.0867\n"
     ]
    },
    {
     "name": "stderr",
     "output_type": "stream",
     "text": [
      "100%|██████████| 23/23 [00:00<00:00, 23.53it/s]\n"
     ]
    },
    {
     "name": "stdout",
     "output_type": "stream",
     "text": [
      "Epoch 10, Train Loss: 0.0619\n",
      "Epoch 10, Val Loss: 0.0831\n"
     ]
    },
    {
     "name": "stderr",
     "output_type": "stream",
     "text": [
      "100%|██████████| 23/23 [00:01<00:00, 22.44it/s]\n"
     ]
    },
    {
     "name": "stdout",
     "output_type": "stream",
     "text": [
      "Epoch 11, Train Loss: 0.0582\n",
      "Epoch 11, Val Loss: 0.0960\n"
     ]
    },
    {
     "name": "stderr",
     "output_type": "stream",
     "text": [
      "100%|██████████| 23/23 [00:00<00:00, 23.25it/s]\n"
     ]
    },
    {
     "name": "stdout",
     "output_type": "stream",
     "text": [
      "Epoch 12, Train Loss: 0.0612\n",
      "Epoch 12, Val Loss: 0.0999\n"
     ]
    },
    {
     "name": "stderr",
     "output_type": "stream",
     "text": [
      "100%|██████████| 23/23 [00:01<00:00, 21.51it/s]\n"
     ]
    },
    {
     "name": "stdout",
     "output_type": "stream",
     "text": [
      "Epoch 13, Train Loss: 0.0595\n",
      "Epoch 13, Val Loss: 0.0881\n"
     ]
    },
    {
     "name": "stderr",
     "output_type": "stream",
     "text": [
      "100%|██████████| 23/23 [00:00<00:00, 23.47it/s]\n"
     ]
    },
    {
     "name": "stdout",
     "output_type": "stream",
     "text": [
      "Epoch 14, Train Loss: 0.0559\n",
      "Epoch 14, Val Loss: 0.0812\n"
     ]
    },
    {
     "name": "stderr",
     "output_type": "stream",
     "text": [
      "100%|██████████| 23/23 [00:00<00:00, 23.61it/s]\n"
     ]
    },
    {
     "name": "stdout",
     "output_type": "stream",
     "text": [
      "Epoch 15, Train Loss: 0.0502\n",
      "Epoch 15, Val Loss: 0.0763\n"
     ]
    },
    {
     "name": "stderr",
     "output_type": "stream",
     "text": [
      "100%|██████████| 23/23 [00:00<00:00, 23.25it/s]\n"
     ]
    },
    {
     "name": "stdout",
     "output_type": "stream",
     "text": [
      "Epoch 16, Train Loss: 0.0430\n",
      "Epoch 16, Val Loss: 0.0713\n"
     ]
    },
    {
     "name": "stderr",
     "output_type": "stream",
     "text": [
      "100%|██████████| 23/23 [00:00<00:00, 23.69it/s]\n"
     ]
    },
    {
     "name": "stdout",
     "output_type": "stream",
     "text": [
      "Epoch 17, Train Loss: 0.0402\n",
      "Epoch 17, Val Loss: 0.0725\n"
     ]
    },
    {
     "name": "stderr",
     "output_type": "stream",
     "text": [
      "100%|██████████| 23/23 [00:01<00:00, 22.60it/s]\n"
     ]
    },
    {
     "name": "stdout",
     "output_type": "stream",
     "text": [
      "Epoch 18, Train Loss: 0.0367\n",
      "Epoch 18, Val Loss: 0.0639\n"
     ]
    },
    {
     "name": "stderr",
     "output_type": "stream",
     "text": [
      "100%|██████████| 23/23 [00:00<00:00, 23.54it/s]\n"
     ]
    },
    {
     "name": "stdout",
     "output_type": "stream",
     "text": [
      "Epoch 19, Train Loss: 0.0360\n",
      "Epoch 19, Val Loss: 0.0700\n"
     ]
    },
    {
     "name": "stderr",
     "output_type": "stream",
     "text": [
      "100%|██████████| 23/23 [00:00<00:00, 23.55it/s]\n"
     ]
    },
    {
     "name": "stdout",
     "output_type": "stream",
     "text": [
      "Epoch 20, Train Loss: 0.0359\n",
      "Epoch 20, Val Loss: 0.0667\n"
     ]
    },
    {
     "name": "stderr",
     "output_type": "stream",
     "text": [
      "100%|██████████| 23/23 [00:00<00:00, 23.79it/s]\n"
     ]
    },
    {
     "name": "stdout",
     "output_type": "stream",
     "text": [
      "Epoch 21, Train Loss: 0.0355\n",
      "Epoch 21, Val Loss: 0.0631\n"
     ]
    },
    {
     "name": "stderr",
     "output_type": "stream",
     "text": [
      "100%|██████████| 23/23 [00:00<00:00, 23.46it/s]\n"
     ]
    },
    {
     "name": "stdout",
     "output_type": "stream",
     "text": [
      "Epoch 22, Train Loss: 0.0342\n",
      "Epoch 22, Val Loss: 0.0646\n"
     ]
    },
    {
     "name": "stderr",
     "output_type": "stream",
     "text": [
      "100%|██████████| 23/23 [00:00<00:00, 23.65it/s]\n"
     ]
    },
    {
     "name": "stdout",
     "output_type": "stream",
     "text": [
      "Epoch 23, Train Loss: 0.0335\n",
      "Epoch 23, Val Loss: 0.0636\n"
     ]
    },
    {
     "name": "stderr",
     "output_type": "stream",
     "text": [
      "100%|██████████| 23/23 [00:00<00:00, 23.64it/s]\n"
     ]
    },
    {
     "name": "stdout",
     "output_type": "stream",
     "text": [
      "Epoch 24, Train Loss: 0.0329\n",
      "Epoch 24, Val Loss: 0.0645\n"
     ]
    },
    {
     "name": "stderr",
     "output_type": "stream",
     "text": [
      "100%|██████████| 23/23 [00:01<00:00, 22.70it/s]\n"
     ]
    },
    {
     "name": "stdout",
     "output_type": "stream",
     "text": [
      "Epoch 25, Train Loss: 0.0339\n",
      "Epoch 25, Val Loss: 0.0696\n"
     ]
    },
    {
     "name": "stderr",
     "output_type": "stream",
     "text": [
      "100%|██████████| 23/23 [00:00<00:00, 23.41it/s]\n"
     ]
    },
    {
     "name": "stdout",
     "output_type": "stream",
     "text": [
      "Epoch 26, Train Loss: 0.0346\n",
      "Epoch 26, Val Loss: 0.0610\n"
     ]
    },
    {
     "name": "stderr",
     "output_type": "stream",
     "text": [
      "100%|██████████| 23/23 [00:00<00:00, 23.54it/s]\n"
     ]
    },
    {
     "name": "stdout",
     "output_type": "stream",
     "text": [
      "Epoch 27, Train Loss: 0.0330\n",
      "Epoch 27, Val Loss: 0.0635\n"
     ]
    },
    {
     "name": "stderr",
     "output_type": "stream",
     "text": [
      "100%|██████████| 23/23 [00:00<00:00, 23.34it/s]\n"
     ]
    },
    {
     "name": "stdout",
     "output_type": "stream",
     "text": [
      "Epoch 28, Train Loss: 0.0313\n",
      "Epoch 28, Val Loss: 0.0565\n"
     ]
    },
    {
     "name": "stderr",
     "output_type": "stream",
     "text": [
      "100%|██████████| 23/23 [00:00<00:00, 23.25it/s]\n"
     ]
    },
    {
     "name": "stdout",
     "output_type": "stream",
     "text": [
      "Epoch 29, Train Loss: 0.0305\n",
      "Epoch 29, Val Loss: 0.0595\n"
     ]
    },
    {
     "name": "stderr",
     "output_type": "stream",
     "text": [
      "100%|██████████| 23/23 [00:00<00:00, 23.42it/s]\n"
     ]
    },
    {
     "name": "stdout",
     "output_type": "stream",
     "text": [
      "Epoch 30, Train Loss: 0.0287\n",
      "Epoch 30, Val Loss: 0.0533\n"
     ]
    },
    {
     "name": "stderr",
     "output_type": "stream",
     "text": [
      "100%|██████████| 23/23 [00:01<00:00, 21.10it/s]\n"
     ]
    },
    {
     "name": "stdout",
     "output_type": "stream",
     "text": [
      "Epoch 31, Train Loss: 0.0268\n",
      "Epoch 31, Val Loss: 0.0548\n"
     ]
    },
    {
     "name": "stderr",
     "output_type": "stream",
     "text": [
      "100%|██████████| 23/23 [00:00<00:00, 23.13it/s]\n"
     ]
    },
    {
     "name": "stdout",
     "output_type": "stream",
     "text": [
      "Epoch 32, Train Loss: 0.0268\n",
      "Epoch 32, Val Loss: 0.0534\n"
     ]
    },
    {
     "name": "stderr",
     "output_type": "stream",
     "text": [
      "100%|██████████| 23/23 [00:01<00:00, 22.67it/s]\n"
     ]
    },
    {
     "name": "stdout",
     "output_type": "stream",
     "text": [
      "Epoch 33, Train Loss: 0.0263\n",
      "Epoch 33, Val Loss: 0.0551\n"
     ]
    },
    {
     "name": "stderr",
     "output_type": "stream",
     "text": [
      "100%|██████████| 23/23 [00:00<00:00, 23.27it/s]\n"
     ]
    },
    {
     "name": "stdout",
     "output_type": "stream",
     "text": [
      "Epoch 34, Train Loss: 0.0284\n",
      "Epoch 34, Val Loss: 0.0514\n"
     ]
    },
    {
     "name": "stderr",
     "output_type": "stream",
     "text": [
      "100%|██████████| 23/23 [00:00<00:00, 23.54it/s]\n"
     ]
    },
    {
     "name": "stdout",
     "output_type": "stream",
     "text": [
      "Epoch 35, Train Loss: 0.0269\n",
      "Epoch 35, Val Loss: 0.0549\n"
     ]
    },
    {
     "name": "stderr",
     "output_type": "stream",
     "text": [
      "100%|██████████| 23/23 [00:00<00:00, 23.43it/s]\n"
     ]
    },
    {
     "name": "stdout",
     "output_type": "stream",
     "text": [
      "Epoch 36, Train Loss: 0.0257\n",
      "Epoch 36, Val Loss: 0.0492\n"
     ]
    },
    {
     "name": "stderr",
     "output_type": "stream",
     "text": [
      "100%|██████████| 23/23 [00:01<00:00, 22.91it/s]\n"
     ]
    },
    {
     "name": "stdout",
     "output_type": "stream",
     "text": [
      "Epoch 37, Train Loss: 0.0261\n",
      "Epoch 37, Val Loss: 0.0542\n"
     ]
    },
    {
     "name": "stderr",
     "output_type": "stream",
     "text": [
      "100%|██████████| 23/23 [00:00<00:00, 23.37it/s]\n"
     ]
    },
    {
     "name": "stdout",
     "output_type": "stream",
     "text": [
      "Epoch 38, Train Loss: 0.0271\n",
      "Epoch 38, Val Loss: 0.0505\n"
     ]
    },
    {
     "name": "stderr",
     "output_type": "stream",
     "text": [
      "100%|██████████| 23/23 [00:00<00:00, 23.20it/s]\n"
     ]
    },
    {
     "name": "stdout",
     "output_type": "stream",
     "text": [
      "Epoch 39, Train Loss: 0.0254\n",
      "Epoch 39, Val Loss: 0.0496\n"
     ]
    },
    {
     "name": "stderr",
     "output_type": "stream",
     "text": [
      "100%|██████████| 23/23 [00:00<00:00, 23.32it/s]\n"
     ]
    },
    {
     "name": "stdout",
     "output_type": "stream",
     "text": [
      "Epoch 40, Train Loss: 0.0241\n",
      "Epoch 40, Val Loss: 0.0463\n"
     ]
    },
    {
     "name": "stderr",
     "output_type": "stream",
     "text": [
      "100%|██████████| 23/23 [00:00<00:00, 23.23it/s]\n"
     ]
    },
    {
     "name": "stdout",
     "output_type": "stream",
     "text": [
      "Epoch 41, Train Loss: 0.0234\n",
      "Epoch 41, Val Loss: 0.0486\n"
     ]
    },
    {
     "name": "stderr",
     "output_type": "stream",
     "text": [
      "100%|██████████| 23/23 [00:00<00:00, 23.82it/s]\n"
     ]
    },
    {
     "name": "stdout",
     "output_type": "stream",
     "text": [
      "Epoch 42, Train Loss: 0.0233\n",
      "Epoch 42, Val Loss: 0.0436\n"
     ]
    },
    {
     "name": "stderr",
     "output_type": "stream",
     "text": [
      "100%|██████████| 23/23 [00:00<00:00, 23.03it/s]\n"
     ]
    },
    {
     "name": "stdout",
     "output_type": "stream",
     "text": [
      "Epoch 43, Train Loss: 0.0232\n",
      "Epoch 43, Val Loss: 0.0474\n"
     ]
    },
    {
     "name": "stderr",
     "output_type": "stream",
     "text": [
      "100%|██████████| 23/23 [00:01<00:00, 21.70it/s]\n"
     ]
    },
    {
     "name": "stdout",
     "output_type": "stream",
     "text": [
      "Epoch 44, Train Loss: 0.0222\n",
      "Epoch 44, Val Loss: 0.0419\n"
     ]
    },
    {
     "name": "stderr",
     "output_type": "stream",
     "text": [
      "100%|██████████| 23/23 [00:00<00:00, 23.12it/s]\n"
     ]
    },
    {
     "name": "stdout",
     "output_type": "stream",
     "text": [
      "Epoch 45, Train Loss: 0.0219\n",
      "Epoch 45, Val Loss: 0.0450\n"
     ]
    },
    {
     "name": "stderr",
     "output_type": "stream",
     "text": [
      "100%|██████████| 23/23 [00:00<00:00, 23.58it/s]\n"
     ]
    },
    {
     "name": "stdout",
     "output_type": "stream",
     "text": [
      "Epoch 46, Train Loss: 0.0220\n",
      "Epoch 46, Val Loss: 0.0432\n"
     ]
    },
    {
     "name": "stderr",
     "output_type": "stream",
     "text": [
      "100%|██████████| 23/23 [00:00<00:00, 23.16it/s]\n"
     ]
    },
    {
     "name": "stdout",
     "output_type": "stream",
     "text": [
      "Epoch 47, Train Loss: 0.0218\n",
      "Epoch 47, Val Loss: 0.0443\n"
     ]
    },
    {
     "name": "stderr",
     "output_type": "stream",
     "text": [
      "100%|██████████| 23/23 [00:01<00:00, 21.87it/s]\n"
     ]
    },
    {
     "name": "stdout",
     "output_type": "stream",
     "text": [
      "Epoch 48, Train Loss: 0.0218\n",
      "Epoch 48, Val Loss: 0.0419\n"
     ]
    },
    {
     "name": "stderr",
     "output_type": "stream",
     "text": [
      "100%|██████████| 23/23 [00:00<00:00, 23.51it/s]\n"
     ]
    },
    {
     "name": "stdout",
     "output_type": "stream",
     "text": [
      "Epoch 49, Train Loss: 0.0217\n",
      "Epoch 49, Val Loss: 0.0441\n"
     ]
    },
    {
     "name": "stderr",
     "output_type": "stream",
     "text": [
      "100%|██████████| 23/23 [00:00<00:00, 23.45it/s]\n"
     ]
    },
    {
     "name": "stdout",
     "output_type": "stream",
     "text": [
      "Epoch 50, Train Loss: 0.0214\n",
      "Epoch 50, Val Loss: 0.0430\n"
     ]
    },
    {
     "data": {
      "image/png": "[encoded data removed]",
      "text/plain": [
       "<Figure size 800x550 with 1 Axes>"
      ]
     },
     "metadata": {},
     "output_type": "display_data"
    }
   ],
   "source": [
    "train_test_vae(epochs, train_loader, val_loader, model, optimizer)"
   ]
  },
  {
   "cell_type": "code",
   "execution_count": 61,
   "metadata": {},
   "outputs": [],
   "source": [
    "def extract_latent_space(vae, data_loader):\n",
    "    latent_space = []\n",
    "    labels = []\n",
    "\n",
    "    vae.eval()\n",
    "    with torch.no_grad():\n",
    "        for batch_data, batch_labels in data_loader:\n",
    "            batch_data = batch_data.to(device)\n",
    "            mean, log_var = vae.encode(batch_data)\n",
    "            z = vae.reparaterize(mean, log_var)\n",
    "            latent_space.append(z.cpu().numpy())\n",
    "            labels.extend(batch_labels.cpu().numpy())\n",
    "\n",
    "    return np.vstack(latent_space), labels"
   ]
  },
  {
   "cell_type": "code",
   "execution_count": 70,
   "metadata": {},
   "outputs": [
    {
     "name": "stdout",
     "output_type": "stream",
     "text": [
      "Shape of latent_space: (11584, 2)\n",
      "Shape of labels: 181\n",
      "Unique labels: [-1  1  3  4  5  6  7  8  9 10 11 12 13 14]\n"
     ]
    }
   ],
   "source": [
    "# Extract latent space from the validation dataset\n",
    "latent_space, labels = extract_latent_space(model, val_loader)\n",
    "\n",
    "\n",
    "# Check dimensions\n",
    "print(\"Shape of latent_space:\", latent_space.shape)\n",
    "print(\"Shape of labels:\", len(labels))\n",
    "print(\"Unique labels:\", np.unique(labels))\n"
   ]
  },
  {
   "cell_type": "code",
   "execution_count": 71,
   "metadata": {},
   "outputs": [],
   "source": [
    "latent_space = latent_space.reshape(181, 64, 2)\n",
    "latent_space = np.sum(latent_space, axis=1)"
   ]
  },
  {
   "cell_type": "code",
   "execution_count": 72,
   "metadata": {},
   "outputs": [],
   "source": [
    "for i in range(len(labels)):\n",
    "    labels[i] = labels[i][0]\n"
   ]
  },
  {
   "cell_type": "code",
   "execution_count": 63,
   "metadata": {},
   "outputs": [],
   "source": [
    "for i in range(len(labels)):\n",
    "    labels[i] = np.full(64, labels[i][0])\n",
    "\n",
    "labels = np.concatenate(labels)\n",
    "labels = labels.reshape(-1)\n"
   ]
  },
  {
   "cell_type": "code",
   "execution_count": 53,
   "metadata": {},
   "outputs": [],
   "source": [
    "# Use t-SNE to reduce the 10D latent space into a 2D space\n",
    "tsne = TSNE(n_components=2, random_state=42)\n",
    "latent_tsne = tsne.fit_transform(latent_space)\n",
    "\n"
   ]
  },
  {
   "cell_type": "code",
   "execution_count": 88,
   "metadata": {},
   "outputs": [
    {
     "data": {
      "text/plain": [
       "array([ 1,  3,  4,  5,  6,  7,  8,  9, 10, 11, 12, 13, 14])"
      ]
     },
     "execution_count": 88,
     "metadata": {},
     "output_type": "execute_result"
    }
   ],
   "source": [
    "np.unique(labels)"
   ]
  },
  {
   "cell_type": "code",
   "execution_count": 108,
   "metadata": {},
   "outputs": [
    {
     "ename": "ValueError",
     "evalue": "Invalid RGBA argument: 'tab:black'",
     "output_type": "error",
     "traceback": [
      "\u001b[0;31m---------------------------------------------------------------------------\u001b[0m",
      "\u001b[0;31mValueError\u001b[0m                                Traceback (most recent call last)",
      "Cell \u001b[0;32mIn[108], line 10\u001b[0m\n\u001b[1;32m      8\u001b[0m plt\u001b[39m.\u001b[39mfigure(figsize\u001b[39m=\u001b[39m(\u001b[39m10\u001b[39m, \u001b[39m7\u001b[39m))\n\u001b[1;32m      9\u001b[0m \u001b[39mfor\u001b[39;00m idx,label \u001b[39min\u001b[39;00m \u001b[39menumerate\u001b[39m(np\u001b[39m.\u001b[39munique(labels)):\n\u001b[0;32m---> 10\u001b[0m     plt\u001b[39m.\u001b[39mscatter(latent_space[labels\u001b[39m==\u001b[39mlabel, \u001b[39m0\u001b[39m], latent_space[labels\u001b[39m==\u001b[39mlabel, \u001b[39m1\u001b[39m], label\u001b[39m=\u001b[39mlabel_mapping[label],c\u001b[39m=\u001b[39mcmap(idx))\n\u001b[1;32m     11\u001b[0m plt\u001b[39m.\u001b[39mlegend()\n\u001b[1;32m     12\u001b[0m plt\u001b[39m.\u001b[39mxlabel(\u001b[39m'\u001b[39m\u001b[39mLatent Dimension 1\u001b[39m\u001b[39m'\u001b[39m)\n",
      "File \u001b[0;32m~/opt/anaconda3/envs/Pytorch/lib/python3.9/site-packages/matplotlib/colors.py:707\u001b[0m, in \u001b[0;36mColormap.__call__\u001b[0;34m(self, X, alpha, bytes)\u001b[0m\n\u001b[1;32m    684\u001b[0m \u001b[39m\"\"\"\u001b[39;00m\n\u001b[1;32m    685\u001b[0m \u001b[39mParameters\u001b[39;00m\n\u001b[1;32m    686\u001b[0m \u001b[39m----------\u001b[39;00m\n\u001b[0;32m   (...)\u001b[0m\n\u001b[1;32m    704\u001b[0m \u001b[39mRGBA values with a shape of ``X.shape + (4, )``.\u001b[39;00m\n\u001b[1;32m    705\u001b[0m \u001b[39m\"\"\"\u001b[39;00m\n\u001b[1;32m    706\u001b[0m \u001b[39mif\u001b[39;00m \u001b[39mnot\u001b[39;00m \u001b[39mself\u001b[39m\u001b[39m.\u001b[39m_isinit:\n\u001b[0;32m--> 707\u001b[0m     \u001b[39mself\u001b[39;49m\u001b[39m.\u001b[39;49m_init()\n\u001b[1;32m    709\u001b[0m \u001b[39m# Take the bad mask from a masked array, or in all other cases defer\u001b[39;00m\n\u001b[1;32m    710\u001b[0m \u001b[39m# np.isnan() to after we have converted to an array.\u001b[39;00m\n\u001b[1;32m    711\u001b[0m mask_bad \u001b[39m=\u001b[39m X\u001b[39m.\u001b[39mmask \u001b[39mif\u001b[39;00m np\u001b[39m.\u001b[39mma\u001b[39m.\u001b[39mis_masked(X) \u001b[39melse\u001b[39;00m \u001b[39mNone\u001b[39;00m\n",
      "File \u001b[0;32m~/opt/anaconda3/envs/Pytorch/lib/python3.9/site-packages/matplotlib/colors.py:1166\u001b[0m, in \u001b[0;36mListedColormap._init\u001b[0;34m(self)\u001b[0m\n\u001b[1;32m   1164\u001b[0m \u001b[39mdef\u001b[39;00m \u001b[39m_init\u001b[39m(\u001b[39mself\u001b[39m):\n\u001b[1;32m   1165\u001b[0m     \u001b[39mself\u001b[39m\u001b[39m.\u001b[39m_lut \u001b[39m=\u001b[39m np\u001b[39m.\u001b[39mzeros((\u001b[39mself\u001b[39m\u001b[39m.\u001b[39mN \u001b[39m+\u001b[39m \u001b[39m3\u001b[39m, \u001b[39m4\u001b[39m), \u001b[39mfloat\u001b[39m)\n\u001b[0;32m-> 1166\u001b[0m     \u001b[39mself\u001b[39m\u001b[39m.\u001b[39m_lut[:\u001b[39m-\u001b[39m\u001b[39m3\u001b[39m] \u001b[39m=\u001b[39m to_rgba_array(\u001b[39mself\u001b[39;49m\u001b[39m.\u001b[39;49mcolors)\n\u001b[1;32m   1167\u001b[0m     \u001b[39mself\u001b[39m\u001b[39m.\u001b[39m_isinit \u001b[39m=\u001b[39m \u001b[39mTrue\u001b[39;00m\n\u001b[1;32m   1168\u001b[0m     \u001b[39mself\u001b[39m\u001b[39m.\u001b[39m_set_extremes()\n",
      "File \u001b[0;32m~/opt/anaconda3/envs/Pytorch/lib/python3.9/site-packages/matplotlib/colors.py:485\u001b[0m, in \u001b[0;36mto_rgba_array\u001b[0;34m(c, alpha)\u001b[0m\n\u001b[1;32m    483\u001b[0m         rgba \u001b[39m=\u001b[39m np\u001b[39m.\u001b[39marray(c)\n\u001b[1;32m    484\u001b[0m     \u001b[39melse\u001b[39;00m:\n\u001b[0;32m--> 485\u001b[0m         rgba \u001b[39m=\u001b[39m np\u001b[39m.\u001b[39marray([to_rgba(cc) \u001b[39mfor\u001b[39;00m cc \u001b[39min\u001b[39;00m c])\n\u001b[1;32m    486\u001b[0m \u001b[39melse\u001b[39;00m:\n\u001b[1;32m    487\u001b[0m     rgba \u001b[39m=\u001b[39m np\u001b[39m.\u001b[39marray([to_rgba(cc) \u001b[39mfor\u001b[39;00m cc \u001b[39min\u001b[39;00m c])\n",
      "File \u001b[0;32m~/opt/anaconda3/envs/Pytorch/lib/python3.9/site-packages/matplotlib/colors.py:485\u001b[0m, in \u001b[0;36m<listcomp>\u001b[0;34m(.0)\u001b[0m\n\u001b[1;32m    483\u001b[0m         rgba \u001b[39m=\u001b[39m np\u001b[39m.\u001b[39marray(c)\n\u001b[1;32m    484\u001b[0m     \u001b[39melse\u001b[39;00m:\n\u001b[0;32m--> 485\u001b[0m         rgba \u001b[39m=\u001b[39m np\u001b[39m.\u001b[39marray([to_rgba(cc) \u001b[39mfor\u001b[39;00m cc \u001b[39min\u001b[39;00m c])\n\u001b[1;32m    486\u001b[0m \u001b[39melse\u001b[39;00m:\n\u001b[1;32m    487\u001b[0m     rgba \u001b[39m=\u001b[39m np\u001b[39m.\u001b[39marray([to_rgba(cc) \u001b[39mfor\u001b[39;00m cc \u001b[39min\u001b[39;00m c])\n",
      "File \u001b[0;32m~/opt/anaconda3/envs/Pytorch/lib/python3.9/site-packages/matplotlib/colors.py:299\u001b[0m, in \u001b[0;36mto_rgba\u001b[0;34m(c, alpha)\u001b[0m\n\u001b[1;32m    297\u001b[0m     rgba \u001b[39m=\u001b[39m \u001b[39mNone\u001b[39;00m\n\u001b[1;32m    298\u001b[0m \u001b[39mif\u001b[39;00m rgba \u001b[39mis\u001b[39;00m \u001b[39mNone\u001b[39;00m:  \u001b[39m# Suppress exception chaining of cache lookup failure.\u001b[39;00m\n\u001b[0;32m--> 299\u001b[0m     rgba \u001b[39m=\u001b[39m _to_rgba_no_colorcycle(c, alpha)\n\u001b[1;32m    300\u001b[0m     \u001b[39mtry\u001b[39;00m:\n\u001b[1;32m    301\u001b[0m         _colors_full_map\u001b[39m.\u001b[39mcache[c, alpha] \u001b[39m=\u001b[39m rgba\n",
      "File \u001b[0;32m~/opt/anaconda3/envs/Pytorch/lib/python3.9/site-packages/matplotlib/colors.py:374\u001b[0m, in \u001b[0;36m_to_rgba_no_colorcycle\u001b[0;34m(c, alpha)\u001b[0m\n\u001b[1;32m    370\u001b[0m             \u001b[39mraise\u001b[39;00m \u001b[39mValueError\u001b[39;00m(\n\u001b[1;32m    371\u001b[0m                 \u001b[39mf\u001b[39m\u001b[39m\"\u001b[39m\u001b[39mInvalid string grayscale value \u001b[39m\u001b[39m{\u001b[39;00morig_c\u001b[39m!r}\u001b[39;00m\u001b[39m. \u001b[39m\u001b[39m\"\u001b[39m\n\u001b[1;32m    372\u001b[0m                 \u001b[39mf\u001b[39m\u001b[39m\"\u001b[39m\u001b[39mValue must be within 0-1 range\u001b[39m\u001b[39m\"\u001b[39m)\n\u001b[1;32m    373\u001b[0m         \u001b[39mreturn\u001b[39;00m c, c, c, alpha \u001b[39mif\u001b[39;00m alpha \u001b[39mis\u001b[39;00m \u001b[39mnot\u001b[39;00m \u001b[39mNone\u001b[39;00m \u001b[39melse\u001b[39;00m \u001b[39m1.\u001b[39m\n\u001b[0;32m--> 374\u001b[0m     \u001b[39mraise\u001b[39;00m \u001b[39mValueError\u001b[39;00m(\u001b[39mf\u001b[39m\u001b[39m\"\u001b[39m\u001b[39mInvalid RGBA argument: \u001b[39m\u001b[39m{\u001b[39;00morig_c\u001b[39m!r}\u001b[39;00m\u001b[39m\"\u001b[39m)\n\u001b[1;32m    375\u001b[0m \u001b[39m# turn 2-D array into 1-D array\u001b[39;00m\n\u001b[1;32m    376\u001b[0m \u001b[39mif\u001b[39;00m \u001b[39misinstance\u001b[39m(c, np\u001b[39m.\u001b[39mndarray):\n",
      "\u001b[0;31mValueError\u001b[0m: Invalid RGBA argument: 'tab:black'"
     ]
    },
    {
     "data": {
      "text/plain": [
       "<Figure size 1000x700 with 0 Axes>"
      ]
     },
     "metadata": {},
     "output_type": "display_data"
    }
   ],
   "source": [
    "# Plot latent space\n",
    "colors_list = ['tab:blue', 'tab:orange', 'tab:green', 'tab:red', 'tab:purple', \n",
    "               'tab:brown', 'tab:pink', 'tab:gray', 'tab:olive', 'tab:cyan',] * 2\n",
    "\n",
    "cmap = ListedColormap(colors_list)\n",
    "\n",
    "#plt.style.use('seaborn-v0_8-muted')\n",
    "plt.figure(figsize=(10, 7))\n",
    "for idx,label in enumerate(np.unique(labels)):\n",
    "    plt.scatter(latent_space[labels==label, 0], latent_space[labels==label, 1], label=label_mapping[label],c=cmap(idx))\n",
    "plt.legend()\n",
    "plt.xlabel('Latent Dimension 1')\n",
    "plt.ylabel('Latent Dimension 2')\n",
    "plt.title('Latent Space Clustering')\n",
    "plt.show()"
   ]
  },
  {
   "cell_type": "code",
   "execution_count": 96,
   "metadata": {},
   "outputs": [
    {
     "name": "stdout",
     "output_type": "stream",
     "text": [
      "['Solarize_Light2', '_classic_test_patch', '_mpl-gallery', '_mpl-gallery-nogrid', 'bmh', 'classic', 'dark_background', 'fast', 'fivethirtyeight', 'ggplot', 'grayscale', 'seaborn-v0_8', 'seaborn-v0_8-bright', 'seaborn-v0_8-colorblind', 'seaborn-v0_8-dark', 'seaborn-v0_8-dark-palette', 'seaborn-v0_8-darkgrid', 'seaborn-v0_8-deep', 'seaborn-v0_8-muted', 'seaborn-v0_8-notebook', 'seaborn-v0_8-paper', 'seaborn-v0_8-pastel', 'seaborn-v0_8-poster', 'seaborn-v0_8-talk', 'seaborn-v0_8-ticks', 'seaborn-v0_8-white', 'seaborn-v0_8-whitegrid', 'tableau-colorblind10']\n"
     ]
    }
   ],
   "source": [
    "print(plt.style.available)"
   ]
  },
  {
   "cell_type": "code",
   "execution_count": 39,
   "metadata": {},
   "outputs": [
    {
     "name": "stdout",
     "output_type": "stream",
     "text": [
      "Number of data points: 29344\n",
      "Length of labels array: 917\n"
     ]
    }
   ],
   "source": [
    "num_train_points = len(train_loader.dataset) * train_loader.batch_size\n",
    "num_val_points = len(val_loader.dataset) * val_loader.batch_size\n",
    "total_num_points = num_train_points + num_val_points\n",
    "\n",
    "print(f\"Number of data points: {total_num_points}\")\n",
    "print(f\"Length of labels array: {len(labels)}\")"
   ]
  },
  {
   "cell_type": "code",
   "execution_count": 42,
   "metadata": {},
   "outputs": [
    {
     "ename": "ValueError",
     "evalue": "'c' argument has 153819 elements, which is inconsistent with 'x' and 'y' with size 117376.",
     "output_type": "error",
     "traceback": [
      "\u001b[0;31m---------------------------------------------------------------------------\u001b[0m",
      "\u001b[0;31mValueError\u001b[0m                                Traceback (most recent call last)",
      "File \u001b[0;32m~/opt/anaconda3/envs/Pytorch/lib/python3.9/site-packages/matplotlib/axes/_axes.py:4439\u001b[0m, in \u001b[0;36mAxes._parse_scatter_color_args\u001b[0;34m(c, edgecolors, kwargs, xsize, get_next_color_func)\u001b[0m\n\u001b[1;32m   4438\u001b[0m \u001b[39mtry\u001b[39;00m:  \u001b[39m# Is 'c' acceptable as PathCollection facecolors?\u001b[39;00m\n\u001b[0;32m-> 4439\u001b[0m     colors \u001b[39m=\u001b[39m mcolors\u001b[39m.\u001b[39;49mto_rgba_array(c)\n\u001b[1;32m   4440\u001b[0m \u001b[39mexcept\u001b[39;00m (\u001b[39mTypeError\u001b[39;00m, \u001b[39mValueError\u001b[39;00m) \u001b[39mas\u001b[39;00m err:\n",
      "File \u001b[0;32m~/opt/anaconda3/envs/Pytorch/lib/python3.9/site-packages/matplotlib/colors.py:487\u001b[0m, in \u001b[0;36mto_rgba_array\u001b[0;34m(c, alpha)\u001b[0m\n\u001b[1;32m    486\u001b[0m \u001b[39melse\u001b[39;00m:\n\u001b[0;32m--> 487\u001b[0m     rgba \u001b[39m=\u001b[39m np\u001b[39m.\u001b[39marray([to_rgba(cc) \u001b[39mfor\u001b[39;00m cc \u001b[39min\u001b[39;00m c])\n\u001b[1;32m    489\u001b[0m \u001b[39mif\u001b[39;00m alpha \u001b[39mis\u001b[39;00m \u001b[39mnot\u001b[39;00m \u001b[39mNone\u001b[39;00m:\n",
      "File \u001b[0;32m~/opt/anaconda3/envs/Pytorch/lib/python3.9/site-packages/matplotlib/colors.py:487\u001b[0m, in \u001b[0;36m<listcomp>\u001b[0;34m(.0)\u001b[0m\n\u001b[1;32m    486\u001b[0m \u001b[39melse\u001b[39;00m:\n\u001b[0;32m--> 487\u001b[0m     rgba \u001b[39m=\u001b[39m np\u001b[39m.\u001b[39marray([to_rgba(cc) \u001b[39mfor\u001b[39;00m cc \u001b[39min\u001b[39;00m c])\n\u001b[1;32m    489\u001b[0m \u001b[39mif\u001b[39;00m alpha \u001b[39mis\u001b[39;00m \u001b[39mnot\u001b[39;00m \u001b[39mNone\u001b[39;00m:\n",
      "File \u001b[0;32m~/opt/anaconda3/envs/Pytorch/lib/python3.9/site-packages/matplotlib/colors.py:299\u001b[0m, in \u001b[0;36mto_rgba\u001b[0;34m(c, alpha)\u001b[0m\n\u001b[1;32m    298\u001b[0m \u001b[39mif\u001b[39;00m rgba \u001b[39mis\u001b[39;00m \u001b[39mNone\u001b[39;00m:  \u001b[39m# Suppress exception chaining of cache lookup failure.\u001b[39;00m\n\u001b[0;32m--> 299\u001b[0m     rgba \u001b[39m=\u001b[39m _to_rgba_no_colorcycle(c, alpha)\n\u001b[1;32m    300\u001b[0m     \u001b[39mtry\u001b[39;00m:\n",
      "File \u001b[0;32m~/opt/anaconda3/envs/Pytorch/lib/python3.9/site-packages/matplotlib/colors.py:381\u001b[0m, in \u001b[0;36m_to_rgba_no_colorcycle\u001b[0;34m(c, alpha)\u001b[0m\n\u001b[1;32m    380\u001b[0m \u001b[39mif\u001b[39;00m \u001b[39mnot\u001b[39;00m np\u001b[39m.\u001b[39miterable(c):\n\u001b[0;32m--> 381\u001b[0m     \u001b[39mraise\u001b[39;00m \u001b[39mValueError\u001b[39;00m(\u001b[39mf\u001b[39m\u001b[39m\"\u001b[39m\u001b[39mInvalid RGBA argument: \u001b[39m\u001b[39m{\u001b[39;00morig_c\u001b[39m!r}\u001b[39;00m\u001b[39m\"\u001b[39m)\n\u001b[1;32m    382\u001b[0m \u001b[39mif\u001b[39;00m \u001b[39mlen\u001b[39m(c) \u001b[39mnot\u001b[39;00m \u001b[39min\u001b[39;00m [\u001b[39m3\u001b[39m, \u001b[39m4\u001b[39m]:\n",
      "\u001b[0;31mValueError\u001b[0m: Invalid RGBA argument: 8.0",
      "\nThe above exception was the direct cause of the following exception:\n",
      "\u001b[0;31mValueError\u001b[0m                                Traceback (most recent call last)",
      "Cell \u001b[0;32mIn[42], line 2\u001b[0m\n\u001b[1;32m      1\u001b[0m \u001b[39m# Plot the clustering results\u001b[39;00m\n\u001b[0;32m----> 2\u001b[0m plt\u001b[39m.\u001b[39;49mscatter(z_2d[:, \u001b[39m0\u001b[39;49m], z_2d[:, \u001b[39m1\u001b[39;49m], c\u001b[39m=\u001b[39;49mlabels, cmap\u001b[39m=\u001b[39;49m\u001b[39m'\u001b[39;49m\u001b[39mviridis\u001b[39;49m\u001b[39m'\u001b[39;49m)\n\u001b[1;32m      3\u001b[0m plt\u001b[39m.\u001b[39mcolorbar()\n\u001b[1;32m      4\u001b[0m plt\u001b[39m.\u001b[39mshow()\n",
      "File \u001b[0;32m~/opt/anaconda3/envs/Pytorch/lib/python3.9/site-packages/matplotlib/pyplot.py:2862\u001b[0m, in \u001b[0;36mscatter\u001b[0;34m(x, y, s, c, marker, cmap, norm, vmin, vmax, alpha, linewidths, edgecolors, plotnonfinite, data, **kwargs)\u001b[0m\n\u001b[1;32m   2857\u001b[0m \u001b[39m@_copy_docstring_and_deprecators\u001b[39m(Axes\u001b[39m.\u001b[39mscatter)\n\u001b[1;32m   2858\u001b[0m \u001b[39mdef\u001b[39;00m \u001b[39mscatter\u001b[39m(\n\u001b[1;32m   2859\u001b[0m         x, y, s\u001b[39m=\u001b[39m\u001b[39mNone\u001b[39;00m, c\u001b[39m=\u001b[39m\u001b[39mNone\u001b[39;00m, marker\u001b[39m=\u001b[39m\u001b[39mNone\u001b[39;00m, cmap\u001b[39m=\u001b[39m\u001b[39mNone\u001b[39;00m, norm\u001b[39m=\u001b[39m\u001b[39mNone\u001b[39;00m,\n\u001b[1;32m   2860\u001b[0m         vmin\u001b[39m=\u001b[39m\u001b[39mNone\u001b[39;00m, vmax\u001b[39m=\u001b[39m\u001b[39mNone\u001b[39;00m, alpha\u001b[39m=\u001b[39m\u001b[39mNone\u001b[39;00m, linewidths\u001b[39m=\u001b[39m\u001b[39mNone\u001b[39;00m, \u001b[39m*\u001b[39m,\n\u001b[1;32m   2861\u001b[0m         edgecolors\u001b[39m=\u001b[39m\u001b[39mNone\u001b[39;00m, plotnonfinite\u001b[39m=\u001b[39m\u001b[39mFalse\u001b[39;00m, data\u001b[39m=\u001b[39m\u001b[39mNone\u001b[39;00m, \u001b[39m*\u001b[39m\u001b[39m*\u001b[39mkwargs):\n\u001b[0;32m-> 2862\u001b[0m     __ret \u001b[39m=\u001b[39m gca()\u001b[39m.\u001b[39;49mscatter(\n\u001b[1;32m   2863\u001b[0m         x, y, s\u001b[39m=\u001b[39;49ms, c\u001b[39m=\u001b[39;49mc, marker\u001b[39m=\u001b[39;49mmarker, cmap\u001b[39m=\u001b[39;49mcmap, norm\u001b[39m=\u001b[39;49mnorm,\n\u001b[1;32m   2864\u001b[0m         vmin\u001b[39m=\u001b[39;49mvmin, vmax\u001b[39m=\u001b[39;49mvmax, alpha\u001b[39m=\u001b[39;49malpha, linewidths\u001b[39m=\u001b[39;49mlinewidths,\n\u001b[1;32m   2865\u001b[0m         edgecolors\u001b[39m=\u001b[39;49medgecolors, plotnonfinite\u001b[39m=\u001b[39;49mplotnonfinite,\n\u001b[1;32m   2866\u001b[0m         \u001b[39m*\u001b[39;49m\u001b[39m*\u001b[39;49m({\u001b[39m\"\u001b[39;49m\u001b[39mdata\u001b[39;49m\u001b[39m\"\u001b[39;49m: data} \u001b[39mif\u001b[39;49;00m data \u001b[39mis\u001b[39;49;00m \u001b[39mnot\u001b[39;49;00m \u001b[39mNone\u001b[39;49;00m \u001b[39melse\u001b[39;49;00m {}), \u001b[39m*\u001b[39;49m\u001b[39m*\u001b[39;49mkwargs)\n\u001b[1;32m   2867\u001b[0m     sci(__ret)\n\u001b[1;32m   2868\u001b[0m     \u001b[39mreturn\u001b[39;00m __ret\n",
      "File \u001b[0;32m~/opt/anaconda3/envs/Pytorch/lib/python3.9/site-packages/matplotlib/__init__.py:1442\u001b[0m, in \u001b[0;36m_preprocess_data.<locals>.inner\u001b[0;34m(ax, data, *args, **kwargs)\u001b[0m\n\u001b[1;32m   1439\u001b[0m \u001b[39m@functools\u001b[39m\u001b[39m.\u001b[39mwraps(func)\n\u001b[1;32m   1440\u001b[0m \u001b[39mdef\u001b[39;00m \u001b[39minner\u001b[39m(ax, \u001b[39m*\u001b[39margs, data\u001b[39m=\u001b[39m\u001b[39mNone\u001b[39;00m, \u001b[39m*\u001b[39m\u001b[39m*\u001b[39mkwargs):\n\u001b[1;32m   1441\u001b[0m     \u001b[39mif\u001b[39;00m data \u001b[39mis\u001b[39;00m \u001b[39mNone\u001b[39;00m:\n\u001b[0;32m-> 1442\u001b[0m         \u001b[39mreturn\u001b[39;00m func(ax, \u001b[39m*\u001b[39;49m\u001b[39mmap\u001b[39;49m(sanitize_sequence, args), \u001b[39m*\u001b[39;49m\u001b[39m*\u001b[39;49mkwargs)\n\u001b[1;32m   1444\u001b[0m     bound \u001b[39m=\u001b[39m new_sig\u001b[39m.\u001b[39mbind(ax, \u001b[39m*\u001b[39margs, \u001b[39m*\u001b[39m\u001b[39m*\u001b[39mkwargs)\n\u001b[1;32m   1445\u001b[0m     auto_label \u001b[39m=\u001b[39m (bound\u001b[39m.\u001b[39marguments\u001b[39m.\u001b[39mget(label_namer)\n\u001b[1;32m   1446\u001b[0m                   \u001b[39mor\u001b[39;00m bound\u001b[39m.\u001b[39mkwargs\u001b[39m.\u001b[39mget(label_namer))\n",
      "File \u001b[0;32m~/opt/anaconda3/envs/Pytorch/lib/python3.9/site-packages/matplotlib/axes/_axes.py:4602\u001b[0m, in \u001b[0;36mAxes.scatter\u001b[0;34m(self, x, y, s, c, marker, cmap, norm, vmin, vmax, alpha, linewidths, edgecolors, plotnonfinite, **kwargs)\u001b[0m\n\u001b[1;32m   4599\u001b[0m \u001b[39mif\u001b[39;00m edgecolors \u001b[39mis\u001b[39;00m \u001b[39mNone\u001b[39;00m:\n\u001b[1;32m   4600\u001b[0m     orig_edgecolor \u001b[39m=\u001b[39m kwargs\u001b[39m.\u001b[39mget(\u001b[39m'\u001b[39m\u001b[39medgecolor\u001b[39m\u001b[39m'\u001b[39m, \u001b[39mNone\u001b[39;00m)\n\u001b[1;32m   4601\u001b[0m c, colors, edgecolors \u001b[39m=\u001b[39m \\\n\u001b[0;32m-> 4602\u001b[0m     \u001b[39mself\u001b[39;49m\u001b[39m.\u001b[39;49m_parse_scatter_color_args(\n\u001b[1;32m   4603\u001b[0m         c, edgecolors, kwargs, x\u001b[39m.\u001b[39;49msize,\n\u001b[1;32m   4604\u001b[0m         get_next_color_func\u001b[39m=\u001b[39;49m\u001b[39mself\u001b[39;49m\u001b[39m.\u001b[39;49m_get_patches_for_fill\u001b[39m.\u001b[39;49mget_next_color)\n\u001b[1;32m   4606\u001b[0m \u001b[39mif\u001b[39;00m plotnonfinite \u001b[39mand\u001b[39;00m colors \u001b[39mis\u001b[39;00m \u001b[39mNone\u001b[39;00m:\n\u001b[1;32m   4607\u001b[0m     c \u001b[39m=\u001b[39m np\u001b[39m.\u001b[39mma\u001b[39m.\u001b[39mmasked_invalid(c)\n",
      "File \u001b[0;32m~/opt/anaconda3/envs/Pytorch/lib/python3.9/site-packages/matplotlib/axes/_axes.py:4445\u001b[0m, in \u001b[0;36mAxes._parse_scatter_color_args\u001b[0;34m(c, edgecolors, kwargs, xsize, get_next_color_func)\u001b[0m\n\u001b[1;32m   4443\u001b[0m \u001b[39melse\u001b[39;00m:\n\u001b[1;32m   4444\u001b[0m     \u001b[39mif\u001b[39;00m \u001b[39mnot\u001b[39;00m valid_shape:\n\u001b[0;32m-> 4445\u001b[0m         \u001b[39mraise\u001b[39;00m invalid_shape_exception(c\u001b[39m.\u001b[39msize, xsize) \u001b[39mfrom\u001b[39;00m \u001b[39merr\u001b[39;00m\n\u001b[1;32m   4446\u001b[0m     \u001b[39m# Both the mapping *and* the RGBA conversion failed: pretty\u001b[39;00m\n\u001b[1;32m   4447\u001b[0m     \u001b[39m# severe failure => one may appreciate a verbose feedback.\u001b[39;00m\n\u001b[1;32m   4448\u001b[0m     \u001b[39mraise\u001b[39;00m \u001b[39mValueError\u001b[39;00m(\n\u001b[1;32m   4449\u001b[0m         \u001b[39mf\u001b[39m\u001b[39m\"\u001b[39m\u001b[39m'\u001b[39m\u001b[39mc\u001b[39m\u001b[39m'\u001b[39m\u001b[39m argument must be a color, a sequence of colors, \u001b[39m\u001b[39m\"\u001b[39m\n\u001b[1;32m   4450\u001b[0m         \u001b[39mf\u001b[39m\u001b[39m\"\u001b[39m\u001b[39mor a sequence of numbers, not \u001b[39m\u001b[39m{\u001b[39;00mc\u001b[39m!r}\u001b[39;00m\u001b[39m\"\u001b[39m) \u001b[39mfrom\u001b[39;00m \u001b[39merr\u001b[39;00m\n",
      "\u001b[0;31mValueError\u001b[0m: 'c' argument has 153819 elements, which is inconsistent with 'x' and 'y' with size 117376."
     ]
    },
    {
     "data": {
      "image/png": "[encoded data removed]",
      "text/plain": [
       "<Figure size 640x480 with 1 Axes>"
      ]
     },
     "metadata": {},
     "output_type": "display_data"
    }
   ],
   "source": [
    "# Plot the clustering results\n",
    "plt.scatter(z_2d[:, 0], z_2d[:, 1], c=labels, cmap='viridis')\n",
    "plt.colorbar()\n",
    "plt.show()"
   ]
  },
  {
   "cell_type": "code",
   "execution_count": null,
   "metadata": {},
   "outputs": [],
   "source": []
  }
 ],
 "metadata": {
  "kernelspec": {
   "display_name": "Pytorch",
   "language": "python",
   "name": "python3"
  },
  "language_info": {
   "codemirror_mode": {
    "name": "ipython",
    "version": 3
   },
   "file_extension": ".py",
   "mimetype": "text/x-python",
   "name": "python",
   "nbconvert_exporter": "python",
   "pygments_lexer": "ipython3",
   "version": "3.9.16"
  },
  "orig_nbformat": 4
 },
 "nbformat": 4,
 "nbformat_minor": 2
}
