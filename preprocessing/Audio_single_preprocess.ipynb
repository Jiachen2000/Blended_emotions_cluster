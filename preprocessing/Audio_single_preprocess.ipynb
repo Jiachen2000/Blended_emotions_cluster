{
 "cells": [
  {
   "cell_type": "code",
   "execution_count": 1,
   "metadata": {},
   "outputs": [],
   "source": [
    "import pandas as pd\n",
    "import os\n",
    "import numpy as np\n",
    "import glob\n",
    "from sklearn import preprocessing"
   ]
  },
  {
   "attachments": {},
   "cell_type": "markdown",
   "metadata": {},
   "source": [
    "# Audio feature extraction without time series"
   ]
  },
  {
   "attachments": {},
   "cell_type": "markdown",
   "metadata": {},
   "source": [
    "## Data extraction"
   ]
  },
  {
   "cell_type": "code",
   "execution_count": 2,
   "metadata": {},
   "outputs": [
    {
     "name": "stdout",
     "output_type": "stream",
     "text": [
      "373\n"
     ]
    }
   ],
   "source": [
    "path = \"/Users/jiachenyao/Desktop/Thesis/OpenSmile/single_emotions/\"\n",
    "\n",
    "# List all the .csv files in the folder\n",
    "single_emo_files = glob.glob(path + \"/*.csv\")\n",
    "\n",
    "single_emo_dfs = []\n",
    "\n",
    "for filename in single_emo_files:\n",
    "    df = pd.read_csv(filename, sep=\";\", index_col=None, header=0)\n",
    "    \n",
    "    df.drop(columns=[\"name\",\"frameTime\"], inplace=True)\n",
    "\n",
    "    \n",
    "            \n",
    "    single_emo_dfs.append(df)\n",
    "        \n",
    "print(len(single_emo_dfs))"
   ]
  },
  {
   "cell_type": "code",
   "execution_count": 3,
   "metadata": {},
   "outputs": [
    {
     "name": "stdout",
     "output_type": "stream",
     "text": [
      "373\n"
     ]
    }
   ],
   "source": [
    "#Extract functional features\n",
    "single_emo_functional_features_results = []\n",
    "\n",
    "for df, file in zip(single_emo_dfs, single_emo_files):\n",
    "\n",
    "    # Extract filename from filepath\n",
    "    filename = os.path.basename(file)\n",
    "    #print(filename)\n",
    "\n",
    "    # Calculate functional features\n",
    "    means = df.mean()\n",
    "    \n",
    "    result = pd.concat([means], axis=1)    \n",
    "\n",
    "    # Rename columns with filename as prefix\n",
    "    prefix = filename[:-4] # remove \".csv\" extension\n",
    "    result.columns = [f\"{prefix}_mean\"]\n",
    "\n",
    "\n",
    "    single_emo_functional_features_results.append(result)\n",
    "print(len(single_emo_functional_features_results))"
   ]
  },
  {
   "cell_type": "code",
   "execution_count": 4,
   "metadata": {},
   "outputs": [],
   "source": [
    "# Concate results to a single dataframe\n",
    "single_emo_audio_no_time_series_output = pd.concat(single_emo_functional_features_results, axis=1)\n",
    "single_emo_audio_no_time_series_output = single_emo_audio_no_time_series_output.T\n",
    "single_emo_audio_no_time_series_output = single_emo_audio_no_time_series_output.reset_index().rename(columns={'index': 'dataname'})\n",
    "single_emo_audio_no_time_series_output.fillna(0,inplace=True)"
   ]
  },
  {
   "cell_type": "code",
   "execution_count": 5,
   "metadata": {},
   "outputs": [
    {
     "data": {
      "text/plain": [
       "0      0.0\n",
       "1      0.0\n",
       "2      0.0\n",
       "3      0.0\n",
       "4      0.0\n",
       "      ... \n",
       "368    0.0\n",
       "369    0.0\n",
       "370    0.0\n",
       "371    0.0\n",
       "372    0.0\n",
       "Name: F0semitoneFrom27.5Hz_sma3nz_stddevRisingSlope, Length: 373, dtype: float64"
      ]
     },
     "execution_count": 5,
     "metadata": {},
     "output_type": "execute_result"
    }
   ],
   "source": [
    "single_emo_audio_no_time_series_output['F0semitoneFrom27.5Hz_sma3nz_stddevRisingSlope']"
   ]
  },
  {
   "attachments": {},
   "cell_type": "markdown",
   "metadata": {},
   "source": [
    "## Preprocessing"
   ]
  },
  {
   "cell_type": "code",
   "execution_count": 6,
   "metadata": {},
   "outputs": [],
   "source": [
    "single_emo_audio_no_time = single_emo_audio_no_time_series_output.copy()\n",
    "single_emo_audio_no_time[\"dataname\"] = single_emo_audio_no_time[\"dataname\"].apply(lambda x: x.split('_')[1])"
   ]
  },
  {
   "cell_type": "code",
   "execution_count": 7,
   "metadata": {},
   "outputs": [],
   "source": [
    "# mix-max normalization\n",
    "cols_to_normalize = single_emo_audio_no_time.columns.difference(['dataname'])\n",
    "single_emo_audio_no_time[cols_to_normalize] = single_emo_audio_no_time[cols_to_normalize].apply(lambda x: (x - x.min()) / (x.max() - x.min()))"
   ]
  },
  {
   "cell_type": "code",
   "execution_count": 8,
   "metadata": {},
   "outputs": [],
   "source": [
    "single_emo_audio_no_time = single_emo_audio_no_time.dropna(axis=1, how='all')"
   ]
  },
  {
   "cell_type": "code",
   "execution_count": 9,
   "metadata": {},
   "outputs": [],
   "source": [
    "# save preprocessed files\n",
    "single_emo_audio_no_time.to_csv(\"/Users/jiachenyao/Desktop/Thesis/Preprocessed_data/single_emo_audio_no_time.csv\", index=False)"
   ]
  },
  {
   "cell_type": "code",
   "execution_count": null,
   "metadata": {},
   "outputs": [],
   "source": []
  }
 ],
 "metadata": {
  "kernelspec": {
   "display_name": "base",
   "language": "python",
   "name": "python3"
  },
  "language_info": {
   "codemirror_mode": {
    "name": "ipython",
    "version": 3
   },
   "file_extension": ".py",
   "mimetype": "text/x-python",
   "name": "python",
   "nbconvert_exporter": "python",
   "pygments_lexer": "ipython3",
   "version": "3.9.13"
  },
  "orig_nbformat": 4,
  "vscode": {
   "interpreter": {
    "hash": "7c7771dce87fdca99c3cae9437d55b7452fcfce032ed4dd92b72e3ceebd73368"
   }
  }
 },
 "nbformat": 4,
 "nbformat_minor": 2
}
