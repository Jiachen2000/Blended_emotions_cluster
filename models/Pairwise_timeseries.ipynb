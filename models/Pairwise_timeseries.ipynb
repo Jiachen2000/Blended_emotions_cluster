{
 "cells": [
  {
   "cell_type": "code",
   "execution_count": 1,
   "metadata": {},
   "outputs": [],
   "source": [
    "import pandas as pd\n",
    "import numpy as np\n",
    "import os\n",
    "from sklearn.preprocessing import LabelEncoder\n",
    "import torch\n",
    "import torch.nn as nn\n",
    "import torch.optim as optim\n",
    "from torch.utils.data import Dataset, DataLoader\n",
    "from sklearn.model_selection import train_test_split\n",
    "from tqdm import tqdm\n",
    "import matplotlib.pyplot as plt\n",
    "from sklearn.manifold import TSNE\n",
    "from matplotlib.colors import ListedColormap\n",
    "from mpl_toolkits.mplot3d import Axes3D\n",
    "import plotly.express as px\n",
    "import plotly\n",
    "import matplotlib.pyplot as plt\n",
    "import mpl_toolkits.mplot3d.axes3d as p3"
   ]
  },
  {
   "cell_type": "code",
   "execution_count": 2,
   "metadata": {},
   "outputs": [],
   "source": [
    "path = '/Users/jiachenyao/Desktop/Thesis/OpenFace_data/All_data_intensity_2/'"
   ]
  },
  {
   "cell_type": "code",
   "execution_count": 3,
   "metadata": {},
   "outputs": [
    {
     "name": "stdout",
     "output_type": "stream",
     "text": [
      "266 dataframes were deleted.\n",
      "905\n",
      "File with maximum rows: A205_mix_disg_sad_3070.csv\n",
      "Number of rows: 299\n"
     ]
    }
   ],
   "source": [
    "# Load data and extract features\n",
    "dfs = []\n",
    "num_deleted = 0\n",
    "\n",
    "max_rows = 0\n",
    "max_file = None\n",
    "\n",
    "for filename in os.listdir(path):\n",
    "    if filename.endswith(\".csv\"):\n",
    "        filepath = os.path.join(path, filename)\n",
    "        df = pd.read_csv(filepath)\n",
    "        \n",
    "\n",
    "\n",
    "        # Check the ratio of rows with confidence >= 0.98 to the total number of rows\n",
    "        if len(df)>320 or len(df[df[\"confidence\"]<0.98])/len(df) >= 0.15:\n",
    "            # print the filename and delete the df variable\n",
    "            #print(filename)\n",
    "            del df\n",
    "            num_deleted += 1\n",
    "        else:\n",
    "            # Select confidence >= 0.98 & success = 1\n",
    "            df = df.loc[(df[\"confidence\"]>= 0.98) & (df[\"success\"]== 1 ) ] \n",
    "            # Drop columns that does not contain facial feature information\n",
    "            df = df.drop(columns=[\"confidence\",\"success\",\"frame\", \"face_id\", \"timestamp\"])\n",
    "            \n",
    "            # Drop binary AU features\n",
    "            cols_to_drop = df.filter(regex='AU.*_c').columns\n",
    "            df = df.drop(columns=cols_to_drop)\n",
    "\n",
    "            # Feature selection\n",
    "            # 115 features, excluding 3D and eye\n",
    "            #df = df.iloc[:, np.concatenate([range(0, 8), range(288,294),range(299,306),range(311,321),range(325,330),\n",
    "                                            #range(342,362),range(367,374),range(379,389),range(393,398),\n",
    "                                            #range(410,430),range(674,691)])]\n",
    "\n",
    "            \n",
    "            # only mouth-100 features\n",
    "            #df = df.iloc[:, np.concatenate([range(342,362), range(410,430),range(478,498),range(546,566),range(614,634)])]\n",
    "            \n",
    "            # eye_lmk: 0-7, 28-35 眼珠子外圈\n",
    "            # eye brow: 17-26\n",
    "            # mouth: 48-67\n",
    "            # 230 features\n",
    "            df = df.iloc[:, np.concatenate([range(8,16), range(36,44),range(64,72),range(92,100),range(120,128),range(148,156),\n",
    "                                            \n",
    "                                            range(176,184),range(204,212),range(232,240),range(262,270), \n",
    "                                            \n",
    "                                            range(311,321),range(379,389),range(447,457),range(515,525),range(583,593), # eye brow: 17-26\n",
    "                                            \n",
    "                                            range(342,362), range(410,430),range(478,498),range(546,566),range(614,634)])] ## mouth: 48-67\n",
    "            \n",
    "            # above all + 脸颊\n",
    "\n",
    "\n",
    "            df = df.fillna(method='ffill') # Forward fill missing values\n",
    "            df = df.fillna(method='bfill') # Backward fill missing values\n",
    "\n",
    "            # Add a column to indicate the emotion\n",
    "            df.insert(0, 'emotion', os.path.splitext(os.path.basename(filepath))[0])\n",
    "            # Exclude actor id\n",
    "            df['emotion'] = df['emotion'].str.split('_', n=1, expand=True)[1]\n",
    "            \n",
    "            \n",
    "            num_rows = df.shape[0]\n",
    "            if num_rows > max_rows:\n",
    "                max_rows = num_rows\n",
    "                max_file = filename\n",
    "            \n",
    "            dfs.append(df)\n",
    "        \n",
    "print(f\"{num_deleted} dataframes were deleted.\")\n",
    "print(len(dfs))\n",
    "\n",
    "# Print file with maximum number of rows\n",
    "print(\"File with maximum rows:\", max_file)\n",
    "print(\"Number of rows:\", max_rows)"
   ]
  },
  {
   "cell_type": "code",
   "execution_count": 4,
   "metadata": {},
   "outputs": [],
   "source": [
    "for df in dfs:\n",
    "    df['emotion'] = df['emotion'].apply(lambda x: x.split('_')[0] if not x.startswith('mix') else '_'.join(x.split('_')[:-1]))"
   ]
  },
  {
   "cell_type": "code",
   "execution_count": 5,
   "metadata": {},
   "outputs": [],
   "source": [
    "# emotion pair\n",
    "emo_pair_dfs = []\n",
    "\n",
    "for df in dfs:\n",
    "    #print(df.loc[0, \"emotion\"])\n",
    "    if df.iloc[0][\"emotion\"] in ['sad', 'hap','mix_hap_sad'] :\n",
    "        emo_pair_dfs.append(df)"
   ]
  },
  {
   "cell_type": "code",
   "execution_count": 6,
   "metadata": {},
   "outputs": [
    {
     "name": "stdout",
     "output_type": "stream",
     "text": [
      "max rows: 286\n"
     ]
    }
   ],
   "source": [
    "emo_pair_max_rows = 0\n",
    "\n",
    "for df in emo_pair_dfs:\n",
    "    num_rows = df.shape[0]\n",
    "    if num_rows > emo_pair_max_rows:\n",
    "        emo_pair_max_rows = num_rows\n",
    "\n",
    "print(\"max rows:\", emo_pair_max_rows)"
   ]
  },
  {
   "cell_type": "code",
   "execution_count": 7,
   "metadata": {},
   "outputs": [
    {
     "data": {
      "text/plain": [
       "103"
      ]
     },
     "execution_count": 7,
     "metadata": {},
     "output_type": "execute_result"
    }
   ],
   "source": [
    "len(emo_pair_dfs)"
   ]
  },
  {
   "cell_type": "code",
   "execution_count": 8,
   "metadata": {},
   "outputs": [],
   "source": [
    "# Normalize the data\n",
    "for df in emo_pair_dfs:\n",
    "    cols_to_normalize = df.columns.difference(['emotion'])\n",
    "    df[cols_to_normalize] = df[cols_to_normalize].apply(lambda x: (x - x.min()) / (x.max() - x.min())) # mix-max normalization"
   ]
  },
  {
   "cell_type": "code",
   "execution_count": 9,
   "metadata": {},
   "outputs": [],
   "source": [
    "emos = []\n",
    "\n",
    "for df in emo_pair_dfs:\n",
    "    emotion = df.iloc[0][\"emotion\"]\n",
    "    emos.append(emotion)"
   ]
  },
  {
   "cell_type": "code",
   "execution_count": 10,
   "metadata": {},
   "outputs": [],
   "source": [
    "label_encoder = LabelEncoder()\n",
    "emo_pair_label_list = label_encoder.fit_transform(emos)\n",
    "label_mapping = dict(zip(emo_pair_label_list, emos))\n",
    "\n",
    "emo_pair_labels = []\n",
    "for df in emo_pair_dfs:\n",
    "    emotion = df['emotion'].iloc[0]\n",
    "    label = label_encoder.transform([emotion])[0]\n",
    "    emo_pair_labels.extend([label] * len(df))"
   ]
  },
  {
   "cell_type": "code",
   "execution_count": 11,
   "metadata": {},
   "outputs": [
    {
     "ename": "",
     "evalue": "",
     "output_type": "error",
     "traceback": [
      "\u001b[1;31mCanceled future for execute_request message before replies were done"
     ]
    },
    {
     "ename": "",
     "evalue": "",
     "output_type": "error",
     "traceback": [
      "\u001b[1;31mThe Kernel crashed while executing code in the the current cell or a previous cell. Please review the code in the cell(s) to identify a possible cause of the failure. Click <a href='https://aka.ms/vscodeJupyterKernelCrash'>here</a> for more info. View Jupyter <a href='command:jupyter.viewOutput'>log</a> for further details."
     ]
    }
   ],
   "source": [
    "num_features = 230\n",
    "num_files = len(emo_pair_dfs)\n",
    "\n",
    "# Combine dataframes into a single tensor\n",
    "emo_pair_data = torch.zeros((num_files, emo_pair_max_rows, num_features))  # 1e-6 is added to avoid log(0)\n",
    "emo_pair_data_labels = torch.zeros((num_files, emo_pair_max_rows), dtype=torch.long) - 1 # -1 indicates missing values\n",
    "for i, df in enumerate(emo_pair_dfs):\n",
    "    emo_pair_encoded_labels = emo_pair_label_list[i]  # Convert non-numeric labels to numeric labels\n",
    "    emo_pair_data[i, : df.shape[0]] = torch.tensor(df.iloc[:,1:231].values, dtype=torch.float32)  # Exclude the first column (labels)\n",
    "    emo_pair_data_labels[i, : df.shape[0]] = torch.tensor(emo_pair_encoded_labels, dtype=torch.long)  # Use the encoded labels"
   ]
  },
  {
   "cell_type": "code",
   "execution_count": 12,
   "metadata": {},
   "outputs": [],
   "source": [
    "# Create custom dataset class\n",
    "class CustomDataset(Dataset):\n",
    "    def __init__(self, data, labels):\n",
    "        self.data = data\n",
    "        self.labels = labels[:, 0]\n",
    "\n",
    "    def __len__(self):\n",
    "        return len(self.data)\n",
    "\n",
    "    def __getitem__(self, idx):\n",
    "        return self.data[idx], self.labels[idx]"
   ]
  },
  {
   "cell_type": "code",
   "execution_count": 13,
   "metadata": {},
   "outputs": [],
   "source": [
    "# Split the dataset into training and validation sets\n",
    "X_train, X_val, y_train, y_val = train_test_split(emo_pair_data, emo_pair_data_labels, test_size=0.2, random_state=42)"
   ]
  },
  {
   "cell_type": "code",
   "execution_count": 14,
   "metadata": {},
   "outputs": [],
   "source": [
    "# load dataset\n",
    "train_dataset = CustomDataset(X_train, y_train)\n",
    "val_dataset = CustomDataset(X_val, y_val)\n",
    "complete_dataset = CustomDataset(emo_pair_data, emo_pair_data_labels)\n",
    "\n",
    "# load dataloader\n",
    "train_loader = DataLoader(train_dataset, batch_size=32, shuffle=True)\n",
    "val_loader = DataLoader(val_dataset, batch_size=32, shuffle=True)\n",
    "complete_loader = DataLoader(complete_dataset, batch_size=32, shuffle=True)"
   ]
  },
  {
   "cell_type": "code",
   "execution_count": 15,
   "metadata": {},
   "outputs": [],
   "source": [
    "class TimeDistributed(nn.Module):\n",
    "    def __init__(self, module: nn.Module, batch_first: bool = True):\n",
    "        super().__init__()\n",
    "        self.module = module\n",
    "        self.batch_first = batch_first\n",
    "\n",
    "    def forward(self, x):\n",
    "        if len(x.size()) <= 2:\n",
    "            return self.module(x)\n",
    "\n",
    "        # Squash samples and timesteps into a single axis\n",
    "        x_reshape = x.contiguous().view(-1, x.size(-1))  # (samples * timesteps, input_size)\n",
    "\n",
    "        y = self.module(x_reshape)\n",
    "\n",
    "        # We have to reshape Y\n",
    "        if self.batch_first:\n",
    "            y = y.contiguous().view(x.size(0), -1, y.size(-1))  # (samples, timesteps, output_size)\n",
    "        else:\n",
    "            y = y.view(-1, x.size(1), y.size(-1))  # (timesteps, samples, output_size)\n",
    "        return y"
   ]
  },
  {
   "cell_type": "code",
   "execution_count": 16,
   "metadata": {},
   "outputs": [],
   "source": [
    "class TimeVAE_base(nn.Module):\n",
    "    def __init__(self, latent_dim):\n",
    "        super(TimeVAE_base, self).__init__()\n",
    "        # encoder layers\n",
    "        self.encoder_convs = nn.Sequential(\n",
    "            nn.Conv1d(286, 128, 3, stride=2, padding=1,bias=False),\n",
    "            nn.ReLU(True),\n",
    "            nn.Conv1d(128, 64, 3, stride=2, padding=1, bias=False),\n",
    "            nn.ReLU(True),\n",
    "        \n",
    "        ) # output shape: (batch_size, 64, 25(if 100), 58(if 230), 173(691), 29(115))\n",
    "        self.fc1 = nn.Linear(58*64, 512)\n",
    "        self.mean = nn.Linear(512, latent_dim)\n",
    "        self.var = nn.Linear(512, latent_dim)\n",
    "\n",
    "        # decoder layers\n",
    "        self.fc2 = nn.Linear(latent_dim, 512)\n",
    "        self.fc3 = nn.Linear(512, 58*64)\n",
    "        self.decoder_convs = nn.Sequential(\n",
    "            nn.ConvTranspose1d(64, 128, 3, stride=2, padding=1,bias=False),\n",
    "            nn.ReLU(True),\n",
    "            nn.ConvTranspose1d(128, 286, 3, stride=2, padding=1,output_padding=1,bias=False),\n",
    "            nn.ReLU(True)\n",
    "        ) # output shape: (batch_size, 963, 288)\n",
    "\n",
    "        self.time_distributed = TimeDistributed(nn.Linear(230, 230))\n",
    "        \n",
    "    def encode(self, x):\n",
    "        x = self.encoder_convs(x)\n",
    "        x = x.contiguous().view(x.size(0), -1) # flatten\n",
    "        x = self.fc1(x)\n",
    "        mean = self.mean(x)\n",
    "        log_var = self.var(x)\n",
    "        return mean, log_var\n",
    "    \n",
    "    def reparaterize(self, mean, log_var):\n",
    "        std = torch.exp(0.5*log_var)\n",
    "        eps = torch.randn_like(std)\n",
    "        return mean + eps*std\n",
    "\n",
    "    def decode(self, z):\n",
    "        z = self.fc2(z)\n",
    "        z = self.fc3(z)\n",
    "        z = z.contiguous().view(-1, 64, 58) # reshape\n",
    "        z = self.decoder_convs(z)\n",
    "        z = self.time_distributed(z)\n",
    "        return z\n",
    "    \n",
    "    def forward(self, x):\n",
    "        mean, log_var = self.encode(x)\n",
    "        z = self.reparaterize(mean, log_var)\n",
    "        return self.decode(z), mean, log_var"
   ]
  },
  {
   "cell_type": "code",
   "execution_count": 17,
   "metadata": {},
   "outputs": [],
   "source": [
    "# VAE loss function\n",
    "def vae_loss(x, x_recon, mean, log_var, beta=1):\n",
    "    recon_loss = nn.MSELoss()(x_recon, x)\n",
    "    kl_loss = -0.5 * torch.sum(1 + log_var - mean.pow(2) - log_var.exp())\n",
    "    return recon_loss + kl_loss * beta"
   ]
  },
  {
   "cell_type": "code",
   "execution_count": 18,
   "metadata": {},
   "outputs": [],
   "source": [
    "# Initialize the VAE model, optimizer, and other settings\n",
    "device = torch.device('cuda' if torch.cuda.is_available() else 'cpu')\n",
    "latent_dim = 20\n",
    "model = TimeVAE_base(latent_dim).to(device)\n",
    "optimizer = optim.Adam(model.parameters(), lr=1e-3)\n",
    "epochs = 100"
   ]
  },
  {
   "cell_type": "code",
   "execution_count": 19,
   "metadata": {},
   "outputs": [],
   "source": [
    "def train_test_vae(epochs, complete_loader, model, optimizer):\n",
    "    loss_history = []\n",
    "    for epoch in range(epochs):\n",
    "        model.train()\n",
    "        train_loss = 0\n",
    "        for batch_data, _ in tqdm(complete_loader):\n",
    "            batch_data = batch_data.to(device)\n",
    "            optimizer.zero_grad()\n",
    "            x_recon, mean, log_var = model(batch_data)\n",
    "            loss = vae_loss(batch_data, x_recon, mean, log_var, beta=2) # beta_VAE\n",
    "            loss.backward()\n",
    "            optimizer.step()\n",
    "            train_loss += loss.item()\n",
    "            loss_history.append(loss.item())\n",
    "        train_loss /= len(complete_loader.dataset)\n",
    "        print(f'Epoch {epoch+1}, Train Loss: {train_loss:.4f}')\n",
    "\n",
    "\n",
    "    # plot the training loss curve\n",
    "    plt.plot(loss_history)\n",
    "    plt.xlabel('Iterations')\n",
    "    plt.ylabel('Training Loss')\n",
    "    plt.title('Training Loss Curve')\n",
    "    plt.xlim((2,50)) \n",
    "    plt.show()"
   ]
  },
  {
   "cell_type": "code",
   "execution_count": 20,
   "metadata": {},
   "outputs": [
    {
     "name": "stderr",
     "output_type": "stream",
     "text": [
      "100%|██████████| 4/4 [00:00<00:00,  8.18it/s]\n"
     ]
    },
    {
     "name": "stdout",
     "output_type": "stream",
     "text": [
      "Epoch 1, Train Loss: 0.4202\n"
     ]
    },
    {
     "name": "stderr",
     "output_type": "stream",
     "text": [
      "100%|██████████| 4/4 [00:00<00:00, 11.61it/s]\n"
     ]
    },
    {
     "name": "stdout",
     "output_type": "stream",
     "text": [
      "Epoch 2, Train Loss: 0.0109\n"
     ]
    },
    {
     "name": "stderr",
     "output_type": "stream",
     "text": [
      "100%|██████████| 4/4 [00:00<00:00, 11.51it/s]\n"
     ]
    },
    {
     "name": "stdout",
     "output_type": "stream",
     "text": [
      "Epoch 3, Train Loss: 0.0091\n"
     ]
    },
    {
     "name": "stderr",
     "output_type": "stream",
     "text": [
      "100%|██████████| 4/4 [00:00<00:00, 11.35it/s]\n"
     ]
    },
    {
     "name": "stdout",
     "output_type": "stream",
     "text": [
      "Epoch 4, Train Loss: 0.0072\n"
     ]
    },
    {
     "name": "stderr",
     "output_type": "stream",
     "text": [
      "100%|██████████| 4/4 [00:00<00:00, 11.93it/s]\n"
     ]
    },
    {
     "name": "stdout",
     "output_type": "stream",
     "text": [
      "Epoch 5, Train Loss: 0.0048\n"
     ]
    },
    {
     "name": "stderr",
     "output_type": "stream",
     "text": [
      "100%|██████████| 4/4 [00:00<00:00,  9.88it/s]\n"
     ]
    },
    {
     "name": "stdout",
     "output_type": "stream",
     "text": [
      "Epoch 6, Train Loss: 0.0049\n"
     ]
    },
    {
     "name": "stderr",
     "output_type": "stream",
     "text": [
      "100%|██████████| 4/4 [00:00<00:00,  9.75it/s]\n"
     ]
    },
    {
     "name": "stdout",
     "output_type": "stream",
     "text": [
      "Epoch 7, Train Loss: 0.0043\n"
     ]
    },
    {
     "name": "stderr",
     "output_type": "stream",
     "text": [
      "100%|██████████| 4/4 [00:00<00:00,  8.01it/s]\n"
     ]
    },
    {
     "name": "stdout",
     "output_type": "stream",
     "text": [
      "Epoch 8, Train Loss: 0.0041\n"
     ]
    },
    {
     "name": "stderr",
     "output_type": "stream",
     "text": [
      "100%|██████████| 4/4 [00:00<00:00, 10.22it/s]\n"
     ]
    },
    {
     "name": "stdout",
     "output_type": "stream",
     "text": [
      "Epoch 9, Train Loss: 0.0040\n"
     ]
    },
    {
     "name": "stderr",
     "output_type": "stream",
     "text": [
      "100%|██████████| 4/4 [00:00<00:00,  9.92it/s]\n"
     ]
    },
    {
     "name": "stdout",
     "output_type": "stream",
     "text": [
      "Epoch 10, Train Loss: 0.0051\n"
     ]
    },
    {
     "name": "stderr",
     "output_type": "stream",
     "text": [
      "100%|██████████| 4/4 [00:00<00:00,  8.84it/s]\n"
     ]
    },
    {
     "name": "stdout",
     "output_type": "stream",
     "text": [
      "Epoch 11, Train Loss: 0.0114\n"
     ]
    },
    {
     "name": "stderr",
     "output_type": "stream",
     "text": [
      "100%|██████████| 4/4 [00:00<00:00, 10.65it/s]\n"
     ]
    },
    {
     "name": "stdout",
     "output_type": "stream",
     "text": [
      "Epoch 12, Train Loss: 0.0115\n"
     ]
    },
    {
     "name": "stderr",
     "output_type": "stream",
     "text": [
      "100%|██████████| 4/4 [00:00<00:00, 11.04it/s]\n"
     ]
    },
    {
     "name": "stdout",
     "output_type": "stream",
     "text": [
      "Epoch 13, Train Loss: 0.0075\n"
     ]
    },
    {
     "name": "stderr",
     "output_type": "stream",
     "text": [
      "100%|██████████| 4/4 [00:00<00:00, 11.74it/s]\n"
     ]
    },
    {
     "name": "stdout",
     "output_type": "stream",
     "text": [
      "Epoch 14, Train Loss: 0.0050\n"
     ]
    },
    {
     "name": "stderr",
     "output_type": "stream",
     "text": [
      "100%|██████████| 4/4 [00:00<00:00, 11.60it/s]\n"
     ]
    },
    {
     "name": "stdout",
     "output_type": "stream",
     "text": [
      "Epoch 15, Train Loss: 0.0040\n"
     ]
    },
    {
     "name": "stderr",
     "output_type": "stream",
     "text": [
      "100%|██████████| 4/4 [00:00<00:00, 11.22it/s]\n"
     ]
    },
    {
     "name": "stdout",
     "output_type": "stream",
     "text": [
      "Epoch 16, Train Loss: 0.0036\n"
     ]
    },
    {
     "name": "stderr",
     "output_type": "stream",
     "text": [
      "100%|██████████| 4/4 [00:00<00:00, 10.71it/s]\n"
     ]
    },
    {
     "name": "stdout",
     "output_type": "stream",
     "text": [
      "Epoch 17, Train Loss: 0.0037\n"
     ]
    },
    {
     "name": "stderr",
     "output_type": "stream",
     "text": [
      "100%|██████████| 4/4 [00:00<00:00, 10.09it/s]\n"
     ]
    },
    {
     "name": "stdout",
     "output_type": "stream",
     "text": [
      "Epoch 18, Train Loss: 0.0034\n"
     ]
    },
    {
     "name": "stderr",
     "output_type": "stream",
     "text": [
      "100%|██████████| 4/4 [00:00<00:00, 10.95it/s]\n"
     ]
    },
    {
     "name": "stdout",
     "output_type": "stream",
     "text": [
      "Epoch 19, Train Loss: 0.0031\n"
     ]
    },
    {
     "name": "stderr",
     "output_type": "stream",
     "text": [
      "100%|██████████| 4/4 [00:00<00:00, 11.13it/s]\n"
     ]
    },
    {
     "name": "stdout",
     "output_type": "stream",
     "text": [
      "Epoch 20, Train Loss: 0.0032\n"
     ]
    },
    {
     "name": "stderr",
     "output_type": "stream",
     "text": [
      "100%|██████████| 4/4 [00:00<00:00, 11.01it/s]\n"
     ]
    },
    {
     "name": "stdout",
     "output_type": "stream",
     "text": [
      "Epoch 21, Train Loss: 0.0034\n"
     ]
    },
    {
     "name": "stderr",
     "output_type": "stream",
     "text": [
      "100%|██████████| 4/4 [00:00<00:00, 11.79it/s]\n"
     ]
    },
    {
     "name": "stdout",
     "output_type": "stream",
     "text": [
      "Epoch 22, Train Loss: 0.0031\n"
     ]
    },
    {
     "name": "stderr",
     "output_type": "stream",
     "text": [
      "100%|██████████| 4/4 [00:00<00:00, 11.68it/s]\n"
     ]
    },
    {
     "name": "stdout",
     "output_type": "stream",
     "text": [
      "Epoch 23, Train Loss: 0.0032\n"
     ]
    },
    {
     "name": "stderr",
     "output_type": "stream",
     "text": [
      "100%|██████████| 4/4 [00:00<00:00, 11.93it/s]\n"
     ]
    },
    {
     "name": "stdout",
     "output_type": "stream",
     "text": [
      "Epoch 24, Train Loss: 0.0032\n"
     ]
    },
    {
     "name": "stderr",
     "output_type": "stream",
     "text": [
      "100%|██████████| 4/4 [00:00<00:00, 11.67it/s]\n"
     ]
    },
    {
     "name": "stdout",
     "output_type": "stream",
     "text": [
      "Epoch 25, Train Loss: 0.0032\n"
     ]
    },
    {
     "name": "stderr",
     "output_type": "stream",
     "text": [
      "100%|██████████| 4/4 [00:00<00:00, 11.60it/s]\n"
     ]
    },
    {
     "name": "stdout",
     "output_type": "stream",
     "text": [
      "Epoch 26, Train Loss: 0.0031\n"
     ]
    },
    {
     "name": "stderr",
     "output_type": "stream",
     "text": [
      "100%|██████████| 4/4 [00:00<00:00, 10.70it/s]\n"
     ]
    },
    {
     "name": "stdout",
     "output_type": "stream",
     "text": [
      "Epoch 27, Train Loss: 0.0032\n"
     ]
    },
    {
     "name": "stderr",
     "output_type": "stream",
     "text": [
      "100%|██████████| 4/4 [00:00<00:00, 11.73it/s]\n"
     ]
    },
    {
     "name": "stdout",
     "output_type": "stream",
     "text": [
      "Epoch 28, Train Loss: 0.0033\n"
     ]
    },
    {
     "name": "stderr",
     "output_type": "stream",
     "text": [
      "100%|██████████| 4/4 [00:00<00:00, 11.59it/s]\n"
     ]
    },
    {
     "name": "stdout",
     "output_type": "stream",
     "text": [
      "Epoch 29, Train Loss: 0.0031\n"
     ]
    },
    {
     "name": "stderr",
     "output_type": "stream",
     "text": [
      "100%|██████████| 4/4 [00:00<00:00, 11.65it/s]\n"
     ]
    },
    {
     "name": "stdout",
     "output_type": "stream",
     "text": [
      "Epoch 30, Train Loss: 0.0031\n"
     ]
    },
    {
     "name": "stderr",
     "output_type": "stream",
     "text": [
      "100%|██████████| 4/4 [00:00<00:00, 11.64it/s]\n"
     ]
    },
    {
     "name": "stdout",
     "output_type": "stream",
     "text": [
      "Epoch 31, Train Loss: 0.0031\n"
     ]
    },
    {
     "name": "stderr",
     "output_type": "stream",
     "text": [
      "100%|██████████| 4/4 [00:00<00:00, 11.56it/s]\n"
     ]
    },
    {
     "name": "stdout",
     "output_type": "stream",
     "text": [
      "Epoch 32, Train Loss: 0.0032\n"
     ]
    },
    {
     "name": "stderr",
     "output_type": "stream",
     "text": [
      "100%|██████████| 4/4 [00:00<00:00, 11.76it/s]\n"
     ]
    },
    {
     "name": "stdout",
     "output_type": "stream",
     "text": [
      "Epoch 33, Train Loss: 0.0031\n"
     ]
    },
    {
     "name": "stderr",
     "output_type": "stream",
     "text": [
      "100%|██████████| 4/4 [00:00<00:00, 12.16it/s]\n"
     ]
    },
    {
     "name": "stdout",
     "output_type": "stream",
     "text": [
      "Epoch 34, Train Loss: 0.0031\n"
     ]
    },
    {
     "name": "stderr",
     "output_type": "stream",
     "text": [
      "100%|██████████| 4/4 [00:00<00:00, 11.70it/s]\n"
     ]
    },
    {
     "name": "stdout",
     "output_type": "stream",
     "text": [
      "Epoch 35, Train Loss: 0.0030\n"
     ]
    },
    {
     "name": "stderr",
     "output_type": "stream",
     "text": [
      "100%|██████████| 4/4 [00:00<00:00, 11.64it/s]\n"
     ]
    },
    {
     "name": "stdout",
     "output_type": "stream",
     "text": [
      "Epoch 36, Train Loss: 0.0032\n"
     ]
    },
    {
     "name": "stderr",
     "output_type": "stream",
     "text": [
      "100%|██████████| 4/4 [00:00<00:00, 12.07it/s]\n"
     ]
    },
    {
     "name": "stdout",
     "output_type": "stream",
     "text": [
      "Epoch 37, Train Loss: 0.0031\n"
     ]
    },
    {
     "name": "stderr",
     "output_type": "stream",
     "text": [
      "100%|██████████| 4/4 [00:00<00:00, 11.92it/s]\n"
     ]
    },
    {
     "name": "stdout",
     "output_type": "stream",
     "text": [
      "Epoch 38, Train Loss: 0.0031\n"
     ]
    },
    {
     "name": "stderr",
     "output_type": "stream",
     "text": [
      "100%|██████████| 4/4 [00:00<00:00, 11.90it/s]\n"
     ]
    },
    {
     "name": "stdout",
     "output_type": "stream",
     "text": [
      "Epoch 39, Train Loss: 0.0031\n"
     ]
    },
    {
     "name": "stderr",
     "output_type": "stream",
     "text": [
      "100%|██████████| 4/4 [00:00<00:00, 12.18it/s]\n"
     ]
    },
    {
     "name": "stdout",
     "output_type": "stream",
     "text": [
      "Epoch 40, Train Loss: 0.0030\n"
     ]
    },
    {
     "name": "stderr",
     "output_type": "stream",
     "text": [
      "100%|██████████| 4/4 [00:00<00:00, 11.86it/s]\n"
     ]
    },
    {
     "name": "stdout",
     "output_type": "stream",
     "text": [
      "Epoch 41, Train Loss: 0.0030\n"
     ]
    },
    {
     "name": "stderr",
     "output_type": "stream",
     "text": [
      "100%|██████████| 4/4 [00:00<00:00, 12.08it/s]\n"
     ]
    },
    {
     "name": "stdout",
     "output_type": "stream",
     "text": [
      "Epoch 42, Train Loss: 0.0030\n"
     ]
    },
    {
     "name": "stderr",
     "output_type": "stream",
     "text": [
      "100%|██████████| 4/4 [00:00<00:00, 11.56it/s]\n"
     ]
    },
    {
     "name": "stdout",
     "output_type": "stream",
     "text": [
      "Epoch 43, Train Loss: 0.0031\n"
     ]
    },
    {
     "name": "stderr",
     "output_type": "stream",
     "text": [
      "100%|██████████| 4/4 [00:00<00:00, 11.73it/s]\n"
     ]
    },
    {
     "name": "stdout",
     "output_type": "stream",
     "text": [
      "Epoch 44, Train Loss: 0.0030\n"
     ]
    },
    {
     "name": "stderr",
     "output_type": "stream",
     "text": [
      "100%|██████████| 4/4 [00:00<00:00, 11.36it/s]\n"
     ]
    },
    {
     "name": "stdout",
     "output_type": "stream",
     "text": [
      "Epoch 45, Train Loss: 0.0030\n"
     ]
    },
    {
     "name": "stderr",
     "output_type": "stream",
     "text": [
      "100%|██████████| 4/4 [00:00<00:00, 11.87it/s]\n"
     ]
    },
    {
     "name": "stdout",
     "output_type": "stream",
     "text": [
      "Epoch 46, Train Loss: 0.0032\n"
     ]
    },
    {
     "name": "stderr",
     "output_type": "stream",
     "text": [
      "100%|██████████| 4/4 [00:00<00:00, 12.12it/s]\n"
     ]
    },
    {
     "name": "stdout",
     "output_type": "stream",
     "text": [
      "Epoch 47, Train Loss: 0.0030\n"
     ]
    },
    {
     "name": "stderr",
     "output_type": "stream",
     "text": [
      "100%|██████████| 4/4 [00:00<00:00, 11.49it/s]\n"
     ]
    },
    {
     "name": "stdout",
     "output_type": "stream",
     "text": [
      "Epoch 48, Train Loss: 0.0032\n"
     ]
    },
    {
     "name": "stderr",
     "output_type": "stream",
     "text": [
      "100%|██████████| 4/4 [00:00<00:00, 11.40it/s]\n"
     ]
    },
    {
     "name": "stdout",
     "output_type": "stream",
     "text": [
      "Epoch 49, Train Loss: 0.0032\n"
     ]
    },
    {
     "name": "stderr",
     "output_type": "stream",
     "text": [
      "100%|██████████| 4/4 [00:00<00:00, 11.80it/s]\n"
     ]
    },
    {
     "name": "stdout",
     "output_type": "stream",
     "text": [
      "Epoch 50, Train Loss: 0.0031\n"
     ]
    },
    {
     "name": "stderr",
     "output_type": "stream",
     "text": [
      "100%|██████████| 4/4 [00:00<00:00,  9.94it/s]\n"
     ]
    },
    {
     "name": "stdout",
     "output_type": "stream",
     "text": [
      "Epoch 51, Train Loss: 0.0031\n"
     ]
    },
    {
     "name": "stderr",
     "output_type": "stream",
     "text": [
      "100%|██████████| 4/4 [00:00<00:00, 11.81it/s]\n"
     ]
    },
    {
     "name": "stdout",
     "output_type": "stream",
     "text": [
      "Epoch 52, Train Loss: 0.0030\n"
     ]
    },
    {
     "name": "stderr",
     "output_type": "stream",
     "text": [
      "100%|██████████| 4/4 [00:00<00:00, 11.66it/s]\n"
     ]
    },
    {
     "name": "stdout",
     "output_type": "stream",
     "text": [
      "Epoch 53, Train Loss: 0.0031\n"
     ]
    },
    {
     "name": "stderr",
     "output_type": "stream",
     "text": [
      "100%|██████████| 4/4 [00:00<00:00, 11.52it/s]\n"
     ]
    },
    {
     "name": "stdout",
     "output_type": "stream",
     "text": [
      "Epoch 54, Train Loss: 0.0031\n"
     ]
    },
    {
     "name": "stderr",
     "output_type": "stream",
     "text": [
      "100%|██████████| 4/4 [00:00<00:00, 12.11it/s]\n"
     ]
    },
    {
     "name": "stdout",
     "output_type": "stream",
     "text": [
      "Epoch 55, Train Loss: 0.0030\n"
     ]
    },
    {
     "name": "stderr",
     "output_type": "stream",
     "text": [
      "100%|██████████| 4/4 [00:00<00:00, 11.73it/s]\n"
     ]
    },
    {
     "name": "stdout",
     "output_type": "stream",
     "text": [
      "Epoch 56, Train Loss: 0.0030\n"
     ]
    },
    {
     "name": "stderr",
     "output_type": "stream",
     "text": [
      "100%|██████████| 4/4 [00:00<00:00, 11.41it/s]\n"
     ]
    },
    {
     "name": "stdout",
     "output_type": "stream",
     "text": [
      "Epoch 57, Train Loss: 0.0031\n"
     ]
    },
    {
     "name": "stderr",
     "output_type": "stream",
     "text": [
      "100%|██████████| 4/4 [00:00<00:00, 11.22it/s]\n"
     ]
    },
    {
     "name": "stdout",
     "output_type": "stream",
     "text": [
      "Epoch 58, Train Loss: 0.0030\n"
     ]
    },
    {
     "name": "stderr",
     "output_type": "stream",
     "text": [
      "100%|██████████| 4/4 [00:00<00:00, 11.38it/s]\n"
     ]
    },
    {
     "name": "stdout",
     "output_type": "stream",
     "text": [
      "Epoch 59, Train Loss: 0.0031\n"
     ]
    },
    {
     "name": "stderr",
     "output_type": "stream",
     "text": [
      "100%|██████████| 4/4 [00:00<00:00, 11.54it/s]\n"
     ]
    },
    {
     "name": "stdout",
     "output_type": "stream",
     "text": [
      "Epoch 60, Train Loss: 0.0030\n"
     ]
    },
    {
     "name": "stderr",
     "output_type": "stream",
     "text": [
      "100%|██████████| 4/4 [00:00<00:00, 11.74it/s]\n"
     ]
    },
    {
     "name": "stdout",
     "output_type": "stream",
     "text": [
      "Epoch 61, Train Loss: 0.0030\n"
     ]
    },
    {
     "name": "stderr",
     "output_type": "stream",
     "text": [
      "100%|██████████| 4/4 [00:00<00:00, 12.22it/s]\n"
     ]
    },
    {
     "name": "stdout",
     "output_type": "stream",
     "text": [
      "Epoch 62, Train Loss: 0.0030\n"
     ]
    },
    {
     "name": "stderr",
     "output_type": "stream",
     "text": [
      "100%|██████████| 4/4 [00:00<00:00, 11.53it/s]\n"
     ]
    },
    {
     "name": "stdout",
     "output_type": "stream",
     "text": [
      "Epoch 63, Train Loss: 0.0031\n"
     ]
    },
    {
     "name": "stderr",
     "output_type": "stream",
     "text": [
      "100%|██████████| 4/4 [00:00<00:00, 12.11it/s]\n"
     ]
    },
    {
     "name": "stdout",
     "output_type": "stream",
     "text": [
      "Epoch 64, Train Loss: 0.0032\n"
     ]
    },
    {
     "name": "stderr",
     "output_type": "stream",
     "text": [
      "100%|██████████| 4/4 [00:00<00:00, 11.44it/s]\n"
     ]
    },
    {
     "name": "stdout",
     "output_type": "stream",
     "text": [
      "Epoch 65, Train Loss: 0.0031\n"
     ]
    },
    {
     "name": "stderr",
     "output_type": "stream",
     "text": [
      "100%|██████████| 4/4 [00:00<00:00, 11.49it/s]\n"
     ]
    },
    {
     "name": "stdout",
     "output_type": "stream",
     "text": [
      "Epoch 66, Train Loss: 0.0030\n"
     ]
    },
    {
     "name": "stderr",
     "output_type": "stream",
     "text": [
      "100%|██████████| 4/4 [00:00<00:00, 11.87it/s]\n"
     ]
    },
    {
     "name": "stdout",
     "output_type": "stream",
     "text": [
      "Epoch 67, Train Loss: 0.0033\n"
     ]
    },
    {
     "name": "stderr",
     "output_type": "stream",
     "text": [
      "100%|██████████| 4/4 [00:00<00:00, 11.87it/s]\n"
     ]
    },
    {
     "name": "stdout",
     "output_type": "stream",
     "text": [
      "Epoch 68, Train Loss: 0.0030\n"
     ]
    },
    {
     "name": "stderr",
     "output_type": "stream",
     "text": [
      "100%|██████████| 4/4 [00:00<00:00, 11.81it/s]\n"
     ]
    },
    {
     "name": "stdout",
     "output_type": "stream",
     "text": [
      "Epoch 69, Train Loss: 0.0031\n"
     ]
    },
    {
     "name": "stderr",
     "output_type": "stream",
     "text": [
      "100%|██████████| 4/4 [00:00<00:00, 11.18it/s]\n"
     ]
    },
    {
     "name": "stdout",
     "output_type": "stream",
     "text": [
      "Epoch 70, Train Loss: 0.0031\n"
     ]
    },
    {
     "name": "stderr",
     "output_type": "stream",
     "text": [
      "100%|██████████| 4/4 [00:00<00:00, 11.00it/s]\n"
     ]
    },
    {
     "name": "stdout",
     "output_type": "stream",
     "text": [
      "Epoch 71, Train Loss: 0.0030\n"
     ]
    },
    {
     "name": "stderr",
     "output_type": "stream",
     "text": [
      "100%|██████████| 4/4 [00:00<00:00, 11.73it/s]\n"
     ]
    },
    {
     "name": "stdout",
     "output_type": "stream",
     "text": [
      "Epoch 72, Train Loss: 0.0031\n"
     ]
    },
    {
     "name": "stderr",
     "output_type": "stream",
     "text": [
      "100%|██████████| 4/4 [00:00<00:00, 11.73it/s]\n"
     ]
    },
    {
     "name": "stdout",
     "output_type": "stream",
     "text": [
      "Epoch 73, Train Loss: 0.0030\n"
     ]
    },
    {
     "name": "stderr",
     "output_type": "stream",
     "text": [
      "100%|██████████| 4/4 [00:00<00:00, 11.05it/s]\n"
     ]
    },
    {
     "name": "stdout",
     "output_type": "stream",
     "text": [
      "Epoch 74, Train Loss: 0.0031\n"
     ]
    },
    {
     "name": "stderr",
     "output_type": "stream",
     "text": [
      "100%|██████████| 4/4 [00:00<00:00, 11.79it/s]\n"
     ]
    },
    {
     "name": "stdout",
     "output_type": "stream",
     "text": [
      "Epoch 75, Train Loss: 0.0032\n"
     ]
    },
    {
     "name": "stderr",
     "output_type": "stream",
     "text": [
      "100%|██████████| 4/4 [00:00<00:00, 11.31it/s]\n"
     ]
    },
    {
     "name": "stdout",
     "output_type": "stream",
     "text": [
      "Epoch 76, Train Loss: 0.0032\n"
     ]
    },
    {
     "name": "stderr",
     "output_type": "stream",
     "text": [
      "100%|██████████| 4/4 [00:00<00:00, 11.51it/s]\n"
     ]
    },
    {
     "name": "stdout",
     "output_type": "stream",
     "text": [
      "Epoch 77, Train Loss: 0.0031\n"
     ]
    },
    {
     "name": "stderr",
     "output_type": "stream",
     "text": [
      "100%|██████████| 4/4 [00:00<00:00, 11.84it/s]\n"
     ]
    },
    {
     "name": "stdout",
     "output_type": "stream",
     "text": [
      "Epoch 78, Train Loss: 0.0030\n"
     ]
    },
    {
     "name": "stderr",
     "output_type": "stream",
     "text": [
      "100%|██████████| 4/4 [00:00<00:00, 11.40it/s]\n"
     ]
    },
    {
     "name": "stdout",
     "output_type": "stream",
     "text": [
      "Epoch 79, Train Loss: 0.0030\n"
     ]
    },
    {
     "name": "stderr",
     "output_type": "stream",
     "text": [
      "100%|██████████| 4/4 [00:00<00:00, 11.72it/s]\n"
     ]
    },
    {
     "name": "stdout",
     "output_type": "stream",
     "text": [
      "Epoch 80, Train Loss: 0.0030\n"
     ]
    },
    {
     "name": "stderr",
     "output_type": "stream",
     "text": [
      "100%|██████████| 4/4 [00:00<00:00, 11.40it/s]\n"
     ]
    },
    {
     "name": "stdout",
     "output_type": "stream",
     "text": [
      "Epoch 81, Train Loss: 0.0031\n"
     ]
    },
    {
     "name": "stderr",
     "output_type": "stream",
     "text": [
      "100%|██████████| 4/4 [00:00<00:00, 11.87it/s]\n"
     ]
    },
    {
     "name": "stdout",
     "output_type": "stream",
     "text": [
      "Epoch 82, Train Loss: 0.0031\n"
     ]
    },
    {
     "name": "stderr",
     "output_type": "stream",
     "text": [
      "100%|██████████| 4/4 [00:00<00:00, 10.53it/s]\n"
     ]
    },
    {
     "name": "stdout",
     "output_type": "stream",
     "text": [
      "Epoch 83, Train Loss: 0.0030\n"
     ]
    },
    {
     "name": "stderr",
     "output_type": "stream",
     "text": [
      "100%|██████████| 4/4 [00:00<00:00, 11.03it/s]\n"
     ]
    },
    {
     "name": "stdout",
     "output_type": "stream",
     "text": [
      "Epoch 84, Train Loss: 0.0031\n"
     ]
    },
    {
     "name": "stderr",
     "output_type": "stream",
     "text": [
      "100%|██████████| 4/4 [00:00<00:00, 10.72it/s]\n"
     ]
    },
    {
     "name": "stdout",
     "output_type": "stream",
     "text": [
      "Epoch 85, Train Loss: 0.0032\n"
     ]
    },
    {
     "name": "stderr",
     "output_type": "stream",
     "text": [
      "100%|██████████| 4/4 [00:00<00:00, 11.99it/s]\n"
     ]
    },
    {
     "name": "stdout",
     "output_type": "stream",
     "text": [
      "Epoch 86, Train Loss: 0.0032\n"
     ]
    },
    {
     "name": "stderr",
     "output_type": "stream",
     "text": [
      "100%|██████████| 4/4 [00:00<00:00, 12.08it/s]\n"
     ]
    },
    {
     "name": "stdout",
     "output_type": "stream",
     "text": [
      "Epoch 87, Train Loss: 0.0030\n"
     ]
    },
    {
     "name": "stderr",
     "output_type": "stream",
     "text": [
      "100%|██████████| 4/4 [00:00<00:00, 11.94it/s]\n"
     ]
    },
    {
     "name": "stdout",
     "output_type": "stream",
     "text": [
      "Epoch 88, Train Loss: 0.0031\n"
     ]
    },
    {
     "name": "stderr",
     "output_type": "stream",
     "text": [
      "100%|██████████| 4/4 [00:00<00:00, 11.59it/s]\n"
     ]
    },
    {
     "name": "stdout",
     "output_type": "stream",
     "text": [
      "Epoch 89, Train Loss: 0.0030\n"
     ]
    },
    {
     "name": "stderr",
     "output_type": "stream",
     "text": [
      "100%|██████████| 4/4 [00:00<00:00, 11.18it/s]\n"
     ]
    },
    {
     "name": "stdout",
     "output_type": "stream",
     "text": [
      "Epoch 90, Train Loss: 0.0029\n"
     ]
    },
    {
     "name": "stderr",
     "output_type": "stream",
     "text": [
      "100%|██████████| 4/4 [00:00<00:00, 11.26it/s]\n"
     ]
    },
    {
     "name": "stdout",
     "output_type": "stream",
     "text": [
      "Epoch 91, Train Loss: 0.0031\n"
     ]
    },
    {
     "name": "stderr",
     "output_type": "stream",
     "text": [
      "100%|██████████| 4/4 [00:00<00:00, 11.61it/s]\n"
     ]
    },
    {
     "name": "stdout",
     "output_type": "stream",
     "text": [
      "Epoch 92, Train Loss: 0.0030\n"
     ]
    },
    {
     "name": "stderr",
     "output_type": "stream",
     "text": [
      "100%|██████████| 4/4 [00:00<00:00, 12.25it/s]\n"
     ]
    },
    {
     "name": "stdout",
     "output_type": "stream",
     "text": [
      "Epoch 93, Train Loss: 0.0031\n"
     ]
    },
    {
     "name": "stderr",
     "output_type": "stream",
     "text": [
      "100%|██████████| 4/4 [00:00<00:00, 12.21it/s]\n"
     ]
    },
    {
     "name": "stdout",
     "output_type": "stream",
     "text": [
      "Epoch 94, Train Loss: 0.0030\n"
     ]
    },
    {
     "name": "stderr",
     "output_type": "stream",
     "text": [
      "100%|██████████| 4/4 [00:00<00:00, 11.77it/s]\n"
     ]
    },
    {
     "name": "stdout",
     "output_type": "stream",
     "text": [
      "Epoch 95, Train Loss: 0.0031\n"
     ]
    },
    {
     "name": "stderr",
     "output_type": "stream",
     "text": [
      "100%|██████████| 4/4 [00:00<00:00, 10.43it/s]\n"
     ]
    },
    {
     "name": "stdout",
     "output_type": "stream",
     "text": [
      "Epoch 96, Train Loss: 0.0030\n"
     ]
    },
    {
     "name": "stderr",
     "output_type": "stream",
     "text": [
      "100%|██████████| 4/4 [00:00<00:00,  9.93it/s]\n"
     ]
    },
    {
     "name": "stdout",
     "output_type": "stream",
     "text": [
      "Epoch 97, Train Loss: 0.0031\n"
     ]
    },
    {
     "name": "stderr",
     "output_type": "stream",
     "text": [
      "100%|██████████| 4/4 [00:00<00:00,  9.58it/s]\n"
     ]
    },
    {
     "name": "stdout",
     "output_type": "stream",
     "text": [
      "Epoch 98, Train Loss: 0.0030\n"
     ]
    },
    {
     "name": "stderr",
     "output_type": "stream",
     "text": [
      "100%|██████████| 4/4 [00:00<00:00,  7.33it/s]\n"
     ]
    },
    {
     "name": "stdout",
     "output_type": "stream",
     "text": [
      "Epoch 99, Train Loss: 0.0029\n"
     ]
    },
    {
     "name": "stderr",
     "output_type": "stream",
     "text": [
      "100%|██████████| 4/4 [00:00<00:00, 10.03it/s]\n"
     ]
    },
    {
     "name": "stdout",
     "output_type": "stream",
     "text": [
      "Epoch 100, Train Loss: 0.0029\n"
     ]
    },
    {
     "data": {
      "image/png": "[encoded data removed]",
      "text/plain": [
       "<Figure size 640x480 with 1 Axes>"
      ]
     },
     "metadata": {},
     "output_type": "display_data"
    }
   ],
   "source": [
    "train_test_vae(epochs, complete_loader, model, optimizer)"
   ]
  },
  {
   "cell_type": "code",
   "execution_count": 21,
   "metadata": {},
   "outputs": [],
   "source": [
    "def extract_latent_space(vae, data_loader):\n",
    "    latent_space = []\n",
    "    labels = []\n",
    "\n",
    "    vae.eval()\n",
    "    with torch.no_grad():\n",
    "        for batch_data, batch_labels in data_loader:\n",
    "            batch_data = batch_data.to(device)\n",
    "            mean, log_var = vae.encode(batch_data)\n",
    "            z = vae.reparaterize(mean, log_var)\n",
    "            latent_space.append(z.cpu().numpy())\n",
    "            labels.extend(batch_labels.cpu().numpy())\n",
    "\n",
    "    return np.vstack(latent_space), labels"
   ]
  },
  {
   "cell_type": "code",
   "execution_count": 22,
   "metadata": {},
   "outputs": [],
   "source": [
    "emo_pair_latent_space, labels = extract_latent_space(model, complete_loader)"
   ]
  },
  {
   "cell_type": "code",
   "execution_count": 23,
   "metadata": {},
   "outputs": [],
   "source": [
    "\n",
    "emo_pair_vae_2d_tsne = TSNE(n_components=2, random_state=42)\n",
    "emo_pair_latent_2d_tsne = emo_pair_vae_2d_tsne.fit_transform(emo_pair_latent_space)"
   ]
  },
  {
   "cell_type": "code",
   "execution_count": 24,
   "metadata": {},
   "outputs": [
    {
     "data": {
      "image/png": "[encoded data removed]",
      "text/plain": [
       "<Figure size 1000x700 with 1 Axes>"
      ]
     },
     "metadata": {},
     "output_type": "display_data"
    }
   ],
   "source": [
    "#2D\n",
    "plt.style.use('default')\n",
    "plt.figure(figsize=(10, 7))\n",
    "for idx,label in enumerate(np.unique(labels)):\n",
    "    plt.scatter(emo_pair_latent_2d_tsne[labels==label, 0], emo_pair_latent_2d_tsne[labels==label, 1], label=label_mapping[label])\n",
    "plt.legend()\n",
    "plt.xlabel('Latent Dimension 1')\n",
    "plt.ylabel('Latent Dimension 2')\n",
    "\n",
    "plt.title('Latent Space Clustering')\n",
    "plt.show()"
   ]
  },
  {
   "cell_type": "code",
   "execution_count": 25,
   "metadata": {},
   "outputs": [
    {
     "data": {
      "text/plain": [
       "{1: 'mix_hap_sad', 0: 'hap', 2: 'sad'}"
      ]
     },
     "execution_count": 25,
     "metadata": {},
     "output_type": "execute_result"
    }
   ],
   "source": [
    "label_mapping"
   ]
  },
  {
   "cell_type": "code",
   "execution_count": 26,
   "metadata": {},
   "outputs": [],
   "source": [
    "labels = [str(element) for element in labels]\n",
    "string_label_mapping = {\"0\": \"hap\", \"1\": \"mix_hap_sad\", \"2\": \"sad\"}\n",
    "\n",
    "for i in range(len(labels)):\n",
    "    labels[i] = string_label_mapping[labels[i]]"
   ]
  },
  {
   "cell_type": "code",
   "execution_count": 27,
   "metadata": {},
   "outputs": [
    {
     "data": {
      "application/vnd.plotly.v1+json": {
       "config": {
        "plotlyServerURL": "https://plot.ly"
       },
       "data": [
        {
         "hovertemplate": "color=mix_hap_sad<br>x=%{x}<br>y=%{y}<br>z=%{z}<extra></extra>",
         "legendgroup": "mix_hap_sad",
         "marker": {
          "color": "#EAE7B1",
          "symbol": "circle"
         },
         "mode": "markers",
         "name": "mix_hap_sad",
         "scene": "scene",
         "showlegend": true,
         "type": "scatter3d",
         "x": [
          -21.72142219543457,
          12.602014541625977,
          15.655089378356934,
          1.5708187818527222,
          17.519458770751953,
          12.827284812927246,
          -4.258350372314453,
          22.624950408935547,
          4.550995826721191,
          20.19624900817871,
          -0.5310391187667847,
          17.683216094970703,
          -12.06026554107666,
          -6.273096084594727,
          27.477285385131836,
          -1.0154237747192383,
          -6.414217948913574,
          10.995698928833008,
          13.139042854309082,
          7.467642307281494,
          28.814043045043945,
          -8.062253952026367,
          25.970840454101562,
          2.287851095199585,
          -28.65387725830078,
          24.61610984802246,
          15.952532768249512,
          -7.676727294921875,
          -4.705895900726318,
          5.075484752655029,
          -1.1441954374313354,
          -3.9480206966400146,
          11.307929992675781,
          22.082576751708984,
          33.019832611083984,
          3.24613356590271,
          4.128787040710449,
          -15.979008674621582,
          18.705673217773438,
          -11.810136795043945,
          8.804418563842773,
          -29.75225830078125,
          -1.9808846712112427,
          -14.2924222946167,
          17.801311492919922,
          -3.8682024478912354,
          -8.277724266052246,
          -28.50385856628418,
          -3.8156821727752686,
          -22.65910530090332,
          10.409537315368652,
          26.93222999572754,
          -16.00490951538086,
          15.70920467376709,
          14.618497848510742,
          -0.46268388628959656,
          0.4566141664981842,
          -0.2283715158700943,
          10.066246032714844,
          -21.82408332824707,
          0.9278910160064697,
          -4.74017858505249,
          -14.316062927246094,
          -10.01556396484375,
          -17.87921905517578,
          -8.550929069519043,
          -17.540864944458008,
          8.585369110107422,
          -14.563746452331543,
          -17.802236557006836,
          12.899596214294434,
          8.155874252319336,
          -7.3987040519714355,
          2.8685097694396973,
          5.933107852935791,
          18.75361442565918,
          12.828154563903809
         ],
         "y": [
          7.81208610534668,
          10.043890953063965,
          2.360698699951172,
          20.584062576293945,
          3.688821792602539,
          -5.395788192749023,
          5.661113262176514,
          10.109086990356445,
          -4.1977620124816895,
          4.772905349731445,
          24.24285316467285,
          -12.505972862243652,
          -4.498466968536377,
          -2.730823278427124,
          -7.915870666503906,
          24.809791564941406,
          -27.464651107788086,
          16.090303421020508,
          2.2460052967071533,
          -12.117542266845703,
          8.038274765014648,
          -20.068029403686523,
          -18.01386260986328,
          -28.448476791381836,
          -13.685468673706055,
          -4.2550458908081055,
          -13.84825325012207,
          -10.595319747924805,
          -14.125703811645508,
          9.81626033782959,
          4.286244869232178,
          15.813273429870605,
          -21.00284767150879,
          -4.324668884277344,
          5.605822563171387,
          26.180294036865234,
          -22.584749221801758,
          3.2117044925689697,
          12.235734939575195,
          -17.896793365478516,
          8.789745330810547,
          8.1671781539917,
          5.718890190124512,
          7.912153244018555,
          22.37980079650879,
          4.451247215270996,
          -1.2094827890396118,
          14.54895305633545,
          -10.332074165344238,
          13.091387748718262,
          23.925655364990234,
          -9.715938568115234,
          -10.903327941894531,
          20.404033660888672,
          -16.0559024810791,
          -11.957576751708984,
          -12.748427391052246,
          13.460253715515137,
          10.496539115905762,
          -22.12649917602539,
          8.798572540283203,
          25.439720153808594,
          11.1299409866333,
          17.102535247802734,
          -11.799802780151367,
          13.86634635925293,
          -15.84337043762207,
          4.453509330749512,
          -5.9653191566467285,
          -0.2860521078109741,
          2.79671573638916,
          0.19896280765533447,
          -7.083412170410156,
          -1.5462422370910645,
          -19.129899978637695,
          -5.939792633056641,
          14.223020553588867
         ],
         "z": [
          22.211288452148438,
          3.3133292198181152,
          25.565635681152344,
          3.2813305854797363,
          3.1119158267974854,
          -11.581629753112793,
          9.704888343811035,
          11.146576881408691,
          -14.836284637451172,
          -17.62063217163086,
          -17.732704162597656,
          8.199352264404297,
          -18.483915328979492,
          21.959182739257812,
          10.953506469726562,
          15.667693138122559,
          8.299819946289062,
          -11.682409286499023,
          -30.71060562133789,
          17.326610565185547,
          4.83431339263916,
          18.085947036743164,
          14.256442070007324,
          10.046236991882324,
          1.9437378644943237,
          16.89499282836914,
          19.08011817932129,
          29.655391693115234,
          -14.19847583770752,
          -1.1738553047180176,
          -25.909048080444336,
          -7.487222671508789,
          9.910324096679688,
          -9.215304374694824,
          -10.267396926879883,
          -10.714472770690918,
          -3.7817118167877197,
          9.598044395446777,
          -6.138969898223877,
          10.964823722839355,
          -15.490108489990234,
          -9.56839656829834,
          -0.6488534212112427,
          29.15536117553711,
          -13.897214889526367,
          -33.23162078857422,
          6.592144012451172,
          1.001254677772522,
          -28.055509567260742,
          -9.380656242370605,
          -5.6011834144592285,
          2.4302361011505127,
          20.589811325073242,
          3.378342866897583,
          -17.566917419433594,
          17.1184139251709,
          -0.6665303111076355,
          15.555497169494629,
          16.509262084960938,
          15.07851505279541,
          -14.840548515319824,
          1.117577314376831,
          -8.134147644042969,
          -18.14035987854004,
          -10.098261833190918,
          16.222698211669922,
          7.13787317276001,
          26.68817901611328,
          -5.9614577293396,
          -21.069307327270508,
          16.55250358581543,
          -1.1561371088027954,
          13.068398475646973,
          7.291367530822754,
          -17.37795066833496,
          3.57458758354187,
          -22.113624572753906
         ]
        },
        {
         "hovertemplate": "color=sad<br>x=%{x}<br>y=%{y}<br>z=%{z}<extra></extra>",
         "legendgroup": "sad",
         "marker": {
          "color": "#205295",
          "symbol": "circle"
         },
         "mode": "markers",
         "name": "sad",
         "scene": "scene",
         "showlegend": true,
         "type": "scatter3d",
         "x": [
          -19.324710845947266,
          -25.897167205810547,
          -11.121772766113281,
          -0.0918562039732933,
          -20.576114654541016,
          -19.477182388305664,
          -4.461977005004883,
          5.937814712524414,
          -27.86257553100586,
          -17.496429443359375
         ],
         "y": [
          -7.293406963348389,
          -1.6510872840881348,
          13.826165199279785,
          7.47614860534668,
          -19.41182518005371,
          -23.762916564941406,
          -5.847590446472168,
          -18.677114486694336,
          17.853256225585938,
          7.552403926849365
         ],
         "z": [
          4.826181411743164,
          7.299523830413818,
          3.9407272338867188,
          29.74553108215332,
          -17.07156753540039,
          1.7901923656463623,
          -0.2763043940067291,
          24.637197494506836,
          7.505044460296631,
          -21.980703353881836
         ]
        },
        {
         "hovertemplate": "color=hap<br>x=%{x}<br>y=%{y}<br>z=%{z}<extra></extra>",
         "legendgroup": "hap",
         "marker": {
          "color": "#FFD4B2",
          "symbol": "circle"
         },
         "mode": "markers",
         "name": "hap",
         "scene": "scene",
         "showlegend": true,
         "type": "scatter3d",
         "x": [
          9.644547462463379,
          -5.581683158874512,
          -5.279649257659912,
          4.502283573150635,
          -20.200286865234375,
          11.824296951293945,
          -26.867664337158203,
          3.366628646850586,
          8.60318374633789,
          4.224245548248291,
          3.0944294929504395,
          -7.7897539138793945,
          -12.796011924743652,
          6.9175567626953125,
          -18.290945053100586,
          17.003686904907227
         ],
         "y": [
          -6.795997142791748,
          -1.91309654712677,
          -18.63710594177246,
          16.555437088012695,
          0.7693871855735779,
          1.3084206581115723,
          1.8285073041915894,
          13.086199760437012,
          -12.328502655029297,
          -12.877558708190918,
          -9.087651252746582,
          4.149882793426514,
          23.820459365844727,
          -4.054078578948975,
          3.673337459564209,
          -7.974625587463379
         ],
         "z": [
          -27.47698974609375,
          -8.512595176696777,
          -2.4482665061950684,
          10.457395553588867,
          22.243282318115234,
          -13.74507999420166,
          -9.049468040466309,
          -24.500518798828125,
          -4.8531084060668945,
          -26.15962028503418,
          8.386458396911621,
          -12.777497291564941,
          3.0565733909606934,
          22.530729293823242,
          1.6001518964767456,
          -24.49274253845215
         ]
        }
       ],
       "layout": {
        "height": 500,
        "legend": {
         "title": {
          "text": "color"
         },
         "tracegroupgap": 0
        },
        "margin": {
         "t": 60
        },
        "scene": {
         "domain": {
          "x": [
           0,
           1
          ],
          "y": [
           0,
           1
          ]
         },
         "xaxis": {
          "title": {
           "text": "Latent Dim 1"
          }
         },
         "yaxis": {
          "title": {
           "text": "Latent Dim 2"
          }
         },
         "zaxis": {
          "title": {
           "text": "Latent Dim 3"
          }
         }
        },
        "showlegend": true,
        "template": {
         "data": {
          "bar": [
           {
            "error_x": {
             "color": "#2a3f5f"
            },
            "error_y": {
             "color": "#2a3f5f"
            },
            "marker": {
             "line": {
              "color": "#E5ECF6",
              "width": 0.5
             },
             "pattern": {
              "fillmode": "overlay",
              "size": 10,
              "solidity": 0.2
             }
            },
            "type": "bar"
           }
          ],
          "barpolar": [
           {
            "marker": {
             "line": {
              "color": "#E5ECF6",
              "width": 0.5
             },
             "pattern": {
              "fillmode": "overlay",
              "size": 10,
              "solidity": 0.2
             }
            },
            "type": "barpolar"
           }
          ],
          "carpet": [
           {
            "aaxis": {
             "endlinecolor": "#2a3f5f",
             "gridcolor": "white",
             "linecolor": "white",
             "minorgridcolor": "white",
             "startlinecolor": "#2a3f5f"
            },
            "baxis": {
             "endlinecolor": "#2a3f5f",
             "gridcolor": "white",
             "linecolor": "white",
             "minorgridcolor": "white",
             "startlinecolor": "#2a3f5f"
            },
            "type": "carpet"
           }
          ],
          "choropleth": [
           {
            "colorbar": {
             "outlinewidth": 0,
             "ticks": ""
            },
            "type": "choropleth"
           }
          ],
          "contour": [
           {
            "colorbar": {
             "outlinewidth": 0,
             "ticks": ""
            },
            "colorscale": [
             [
              0,
              "#0d0887"
             ],
             [
              0.1111111111111111,
              "#46039f"
             ],
             [
              0.2222222222222222,
              "#7201a8"
             ],
             [
              0.3333333333333333,
              "#9c179e"
             ],
             [
              0.4444444444444444,
              "#bd3786"
             ],
             [
              0.5555555555555556,
              "#d8576b"
             ],
             [
              0.6666666666666666,
              "#ed7953"
             ],
             [
              0.7777777777777778,
              "#fb9f3a"
             ],
             [
              0.8888888888888888,
              "#fdca26"
             ],
             [
              1,
              "#f0f921"
             ]
            ],
            "type": "contour"
           }
          ],
          "contourcarpet": [
           {
            "colorbar": {
             "outlinewidth": 0,
             "ticks": ""
            },
            "type": "contourcarpet"
           }
          ],
          "heatmap": [
           {
            "colorbar": {
             "outlinewidth": 0,
             "ticks": ""
            },
            "colorscale": [
             [
              0,
              "#0d0887"
             ],
             [
              0.1111111111111111,
              "#46039f"
             ],
             [
              0.2222222222222222,
              "#7201a8"
             ],
             [
              0.3333333333333333,
              "#9c179e"
             ],
             [
              0.4444444444444444,
              "#bd3786"
             ],
             [
              0.5555555555555556,
              "#d8576b"
             ],
             [
              0.6666666666666666,
              "#ed7953"
             ],
             [
              0.7777777777777778,
              "#fb9f3a"
             ],
             [
              0.8888888888888888,
              "#fdca26"
             ],
             [
              1,
              "#f0f921"
             ]
            ],
            "type": "heatmap"
           }
          ],
          "heatmapgl": [
           {
            "colorbar": {
             "outlinewidth": 0,
             "ticks": ""
            },
            "colorscale": [
             [
              0,
              "#0d0887"
             ],
             [
              0.1111111111111111,
              "#46039f"
             ],
             [
              0.2222222222222222,
              "#7201a8"
             ],
             [
              0.3333333333333333,
              "#9c179e"
             ],
             [
              0.4444444444444444,
              "#bd3786"
             ],
             [
              0.5555555555555556,
              "#d8576b"
             ],
             [
              0.6666666666666666,
              "#ed7953"
             ],
             [
              0.7777777777777778,
              "#fb9f3a"
             ],
             [
              0.8888888888888888,
              "#fdca26"
             ],
             [
              1,
              "#f0f921"
             ]
            ],
            "type": "heatmapgl"
           }
          ],
          "histogram": [
           {
            "marker": {
             "pattern": {
              "fillmode": "overlay",
              "size": 10,
              "solidity": 0.2
             }
            },
            "type": "histogram"
           }
          ],
          "histogram2d": [
           {
            "colorbar": {
             "outlinewidth": 0,
             "ticks": ""
            },
            "colorscale": [
             [
              0,
              "#0d0887"
             ],
             [
              0.1111111111111111,
              "#46039f"
             ],
             [
              0.2222222222222222,
              "#7201a8"
             ],
             [
              0.3333333333333333,
              "#9c179e"
             ],
             [
              0.4444444444444444,
              "#bd3786"
             ],
             [
              0.5555555555555556,
              "#d8576b"
             ],
             [
              0.6666666666666666,
              "#ed7953"
             ],
             [
              0.7777777777777778,
              "#fb9f3a"
             ],
             [
              0.8888888888888888,
              "#fdca26"
             ],
             [
              1,
              "#f0f921"
             ]
            ],
            "type": "histogram2d"
           }
          ],
          "histogram2dcontour": [
           {
            "colorbar": {
             "outlinewidth": 0,
             "ticks": ""
            },
            "colorscale": [
             [
              0,
              "#0d0887"
             ],
             [
              0.1111111111111111,
              "#46039f"
             ],
             [
              0.2222222222222222,
              "#7201a8"
             ],
             [
              0.3333333333333333,
              "#9c179e"
             ],
             [
              0.4444444444444444,
              "#bd3786"
             ],
             [
              0.5555555555555556,
              "#d8576b"
             ],
             [
              0.6666666666666666,
              "#ed7953"
             ],
             [
              0.7777777777777778,
              "#fb9f3a"
             ],
             [
              0.8888888888888888,
              "#fdca26"
             ],
             [
              1,
              "#f0f921"
             ]
            ],
            "type": "histogram2dcontour"
           }
          ],
          "mesh3d": [
           {
            "colorbar": {
             "outlinewidth": 0,
             "ticks": ""
            },
            "type": "mesh3d"
           }
          ],
          "parcoords": [
           {
            "line": {
             "colorbar": {
              "outlinewidth": 0,
              "ticks": ""
             }
            },
            "type": "parcoords"
           }
          ],
          "pie": [
           {
            "automargin": true,
            "type": "pie"
           }
          ],
          "scatter": [
           {
            "fillpattern": {
             "fillmode": "overlay",
             "size": 10,
             "solidity": 0.2
            },
            "type": "scatter"
           }
          ],
          "scatter3d": [
           {
            "line": {
             "colorbar": {
              "outlinewidth": 0,
              "ticks": ""
             }
            },
            "marker": {
             "colorbar": {
              "outlinewidth": 0,
              "ticks": ""
             }
            },
            "type": "scatter3d"
           }
          ],
          "scattercarpet": [
           {
            "marker": {
             "colorbar": {
              "outlinewidth": 0,
              "ticks": ""
             }
            },
            "type": "scattercarpet"
           }
          ],
          "scattergeo": [
           {
            "marker": {
             "colorbar": {
              "outlinewidth": 0,
              "ticks": ""
             }
            },
            "type": "scattergeo"
           }
          ],
          "scattergl": [
           {
            "marker": {
             "colorbar": {
              "outlinewidth": 0,
              "ticks": ""
             }
            },
            "type": "scattergl"
           }
          ],
          "scattermapbox": [
           {
            "marker": {
             "colorbar": {
              "outlinewidth": 0,
              "ticks": ""
             }
            },
            "type": "scattermapbox"
           }
          ],
          "scatterpolar": [
           {
            "marker": {
             "colorbar": {
              "outlinewidth": 0,
              "ticks": ""
             }
            },
            "type": "scatterpolar"
           }
          ],
          "scatterpolargl": [
           {
            "marker": {
             "colorbar": {
              "outlinewidth": 0,
              "ticks": ""
             }
            },
            "type": "scatterpolargl"
           }
          ],
          "scatterternary": [
           {
            "marker": {
             "colorbar": {
              "outlinewidth": 0,
              "ticks": ""
             }
            },
            "type": "scatterternary"
           }
          ],
          "surface": [
           {
            "colorbar": {
             "outlinewidth": 0,
             "ticks": ""
            },
            "colorscale": [
             [
              0,
              "#0d0887"
             ],
             [
              0.1111111111111111,
              "#46039f"
             ],
             [
              0.2222222222222222,
              "#7201a8"
             ],
             [
              0.3333333333333333,
              "#9c179e"
             ],
             [
              0.4444444444444444,
              "#bd3786"
             ],
             [
              0.5555555555555556,
              "#d8576b"
             ],
             [
              0.6666666666666666,
              "#ed7953"
             ],
             [
              0.7777777777777778,
              "#fb9f3a"
             ],
             [
              0.8888888888888888,
              "#fdca26"
             ],
             [
              1,
              "#f0f921"
             ]
            ],
            "type": "surface"
           }
          ],
          "table": [
           {
            "cells": {
             "fill": {
              "color": "#EBF0F8"
             },
             "line": {
              "color": "white"
             }
            },
            "header": {
             "fill": {
              "color": "#C8D4E3"
             },
             "line": {
              "color": "white"
             }
            },
            "type": "table"
           }
          ]
         },
         "layout": {
          "annotationdefaults": {
           "arrowcolor": "#2a3f5f",
           "arrowhead": 0,
           "arrowwidth": 1
          },
          "autotypenumbers": "strict",
          "coloraxis": {
           "colorbar": {
            "outlinewidth": 0,
            "ticks": ""
           }
          },
          "colorscale": {
           "diverging": [
            [
             0,
             "#8e0152"
            ],
            [
             0.1,
             "#c51b7d"
            ],
            [
             0.2,
             "#de77ae"
            ],
            [
             0.3,
             "#f1b6da"
            ],
            [
             0.4,
             "#fde0ef"
            ],
            [
             0.5,
             "#f7f7f7"
            ],
            [
             0.6,
             "#e6f5d0"
            ],
            [
             0.7,
             "#b8e186"
            ],
            [
             0.8,
             "#7fbc41"
            ],
            [
             0.9,
             "#4d9221"
            ],
            [
             1,
             "#276419"
            ]
           ],
           "sequential": [
            [
             0,
             "#0d0887"
            ],
            [
             0.1111111111111111,
             "#46039f"
            ],
            [
             0.2222222222222222,
             "#7201a8"
            ],
            [
             0.3333333333333333,
             "#9c179e"
            ],
            [
             0.4444444444444444,
             "#bd3786"
            ],
            [
             0.5555555555555556,
             "#d8576b"
            ],
            [
             0.6666666666666666,
             "#ed7953"
            ],
            [
             0.7777777777777778,
             "#fb9f3a"
            ],
            [
             0.8888888888888888,
             "#fdca26"
            ],
            [
             1,
             "#f0f921"
            ]
           ],
           "sequentialminus": [
            [
             0,
             "#0d0887"
            ],
            [
             0.1111111111111111,
             "#46039f"
            ],
            [
             0.2222222222222222,
             "#7201a8"
            ],
            [
             0.3333333333333333,
             "#9c179e"
            ],
            [
             0.4444444444444444,
             "#bd3786"
            ],
            [
             0.5555555555555556,
             "#d8576b"
            ],
            [
             0.6666666666666666,
             "#ed7953"
            ],
            [
             0.7777777777777778,
             "#fb9f3a"
            ],
            [
             0.8888888888888888,
             "#fdca26"
            ],
            [
             1,
             "#f0f921"
            ]
           ]
          },
          "colorway": [
           "#636efa",
           "#EF553B",
           "#00cc96",
           "#ab63fa",
           "#FFA15A",
           "#19d3f3",
           "#FF6692",
           "#B6E880",
           "#FF97FF",
           "#FECB52"
          ],
          "font": {
           "color": "#2a3f5f"
          },
          "geo": {
           "bgcolor": "white",
           "lakecolor": "white",
           "landcolor": "#E5ECF6",
           "showlakes": true,
           "showland": true,
           "subunitcolor": "white"
          },
          "hoverlabel": {
           "align": "left"
          },
          "hovermode": "closest",
          "mapbox": {
           "style": "light"
          },
          "paper_bgcolor": "white",
          "plot_bgcolor": "#E5ECF6",
          "polar": {
           "angularaxis": {
            "gridcolor": "white",
            "linecolor": "white",
            "ticks": ""
           },
           "bgcolor": "#E5ECF6",
           "radialaxis": {
            "gridcolor": "white",
            "linecolor": "white",
            "ticks": ""
           }
          },
          "scene": {
           "xaxis": {
            "backgroundcolor": "#E5ECF6",
            "gridcolor": "white",
            "gridwidth": 2,
            "linecolor": "white",
            "showbackground": true,
            "ticks": "",
            "zerolinecolor": "white"
           },
           "yaxis": {
            "backgroundcolor": "#E5ECF6",
            "gridcolor": "white",
            "gridwidth": 2,
            "linecolor": "white",
            "showbackground": true,
            "ticks": "",
            "zerolinecolor": "white"
           },
           "zaxis": {
            "backgroundcolor": "#E5ECF6",
            "gridcolor": "white",
            "gridwidth": 2,
            "linecolor": "white",
            "showbackground": true,
            "ticks": "",
            "zerolinecolor": "white"
           }
          },
          "shapedefaults": {
           "line": {
            "color": "#2a3f5f"
           }
          },
          "ternary": {
           "aaxis": {
            "gridcolor": "white",
            "linecolor": "white",
            "ticks": ""
           },
           "baxis": {
            "gridcolor": "white",
            "linecolor": "white",
            "ticks": ""
           },
           "bgcolor": "#E5ECF6",
           "caxis": {
            "gridcolor": "white",
            "linecolor": "white",
            "ticks": ""
           }
          },
          "title": {
           "x": 0.05
          },
          "xaxis": {
           "automargin": true,
           "gridcolor": "white",
           "linecolor": "white",
           "ticks": "",
           "title": {
            "standoff": 15
           },
           "zerolinecolor": "white",
           "zerolinewidth": 2
          },
          "yaxis": {
           "automargin": true,
           "gridcolor": "white",
           "linecolor": "white",
           "ticks": "",
           "title": {
            "standoff": 15
           },
           "zerolinecolor": "white",
           "zerolinewidth": 2
          }
         }
        },
        "width": 600
       }
      }
     },
     "metadata": {},
     "output_type": "display_data"
    }
   ],
   "source": [
    "# 3D\n",
    "emo_pair_vae_3d_tsne = TSNE(n_components=3, random_state=42, perplexity=20, learning_rate=10,n_iter=3000)\n",
    "emo_pair_latent_3d_tsne = emo_pair_vae_3d_tsne.fit_transform(emo_pair_latent_space)\n",
    "\n",
    "color_mapping = {'sad': '#205295', 'hap': '#FFD4B2', 'mix_hap_sad': '#EAE7B1'}\n",
    "\n",
    "fig_mix_3d = px.scatter_3d(x=emo_pair_latent_3d_tsne[:, 0], y=emo_pair_latent_3d_tsne[:, 1], z=emo_pair_latent_3d_tsne[:, 2], color=labels, category_orders=label_mapping, color_discrete_map=color_mapping)\n",
    "\n",
    "# Update the layout to adjust the axis labels and title\n",
    "fig_mix_3d.update_layout(scene=dict(xaxis=dict(title='Latent Dim 1'),\n",
    "                             yaxis=dict(title='Latent Dim 2'),\n",
    "                             zaxis=dict(title='Latent Dim 3')),\n",
    "                  #title='Latent Space Clustering for Disgust, Happiness and Their Mix',\n",
    "                  width=600, height=500)\n",
    "\n",
    "fig_mix_3d.update_layout(showlegend=True)\n",
    "\n",
    "\n",
    "fig_mix_3d.show()\n"
   ]
  },
  {
   "cell_type": "markdown",
   "metadata": {},
   "source": [
    "# t-SNE"
   ]
  },
  {
   "cell_type": "code",
   "execution_count": 28,
   "metadata": {},
   "outputs": [],
   "source": [
    "single_emo = pd.read_csv('/Users/jiachenyao/Desktop/Thesis/Preprocessed_data/single_emo_facial_no_time_6.csv')\n",
    "mix_emo = pd.read_csv('/Users/jiachenyao/Desktop/Thesis/Preprocessed_data/Mixed_emotions_noratio_notime_6.csv')"
   ]
  },
  {
   "cell_type": "code",
   "execution_count": 29,
   "metadata": {},
   "outputs": [
    {
     "data": {
      "text/html": [
       "<div>\n",
       "<style scoped>\n",
       "    .dataframe tbody tr th:only-of-type {\n",
       "        vertical-align: middle;\n",
       "    }\n",
       "\n",
       "    .dataframe tbody tr th {\n",
       "        vertical-align: top;\n",
       "    }\n",
       "\n",
       "    .dataframe thead th {\n",
       "        text-align: right;\n",
       "    }\n",
       "</style>\n",
       "<table border=\"1\" class=\"dataframe\">\n",
       "  <thead>\n",
       "    <tr style=\"text-align: right;\">\n",
       "      <th></th>\n",
       "      <th>emotion</th>\n",
       "      <th>gaze_0_x</th>\n",
       "      <th>gaze_0_y</th>\n",
       "      <th>gaze_0_z</th>\n",
       "      <th>gaze_1_x</th>\n",
       "      <th>gaze_1_y</th>\n",
       "      <th>gaze_1_z</th>\n",
       "      <th>gaze_angle_x</th>\n",
       "      <th>gaze_angle_y</th>\n",
       "      <th>eye_lmk_x_0</th>\n",
       "      <th>...</th>\n",
       "      <th>AU10_r</th>\n",
       "      <th>AU12_r</th>\n",
       "      <th>AU14_r</th>\n",
       "      <th>AU15_r</th>\n",
       "      <th>AU17_r</th>\n",
       "      <th>AU20_r</th>\n",
       "      <th>AU23_r</th>\n",
       "      <th>AU25_r</th>\n",
       "      <th>AU26_r</th>\n",
       "      <th>AU45_r</th>\n",
       "    </tr>\n",
       "  </thead>\n",
       "  <tbody>\n",
       "    <tr>\n",
       "      <th>0</th>\n",
       "      <td>ang</td>\n",
       "      <td>0.034507</td>\n",
       "      <td>0.172575</td>\n",
       "      <td>-0.636632</td>\n",
       "      <td>-0.000907</td>\n",
       "      <td>0.423607</td>\n",
       "      <td>-0.681087</td>\n",
       "      <td>0.026812</td>\n",
       "      <td>0.329983</td>\n",
       "      <td>0.587189</td>\n",
       "      <td>...</td>\n",
       "      <td>-0.274848</td>\n",
       "      <td>-0.082332</td>\n",
       "      <td>0.247422</td>\n",
       "      <td>0.524098</td>\n",
       "      <td>0.384769</td>\n",
       "      <td>0.335507</td>\n",
       "      <td>-0.351378</td>\n",
       "      <td>-0.141354</td>\n",
       "      <td>1.412909</td>\n",
       "      <td>-0.257705</td>\n",
       "    </tr>\n",
       "    <tr>\n",
       "      <th>1</th>\n",
       "      <td>ang</td>\n",
       "      <td>0.033998</td>\n",
       "      <td>-0.180164</td>\n",
       "      <td>1.384301</td>\n",
       "      <td>-0.050094</td>\n",
       "      <td>-0.498916</td>\n",
       "      <td>1.378677</td>\n",
       "      <td>0.354679</td>\n",
       "      <td>-0.388865</td>\n",
       "      <td>-1.438841</td>\n",
       "      <td>...</td>\n",
       "      <td>-0.704516</td>\n",
       "      <td>-0.543308</td>\n",
       "      <td>-0.451960</td>\n",
       "      <td>-0.300291</td>\n",
       "      <td>-0.490040</td>\n",
       "      <td>-0.557027</td>\n",
       "      <td>1.415457</td>\n",
       "      <td>-0.721727</td>\n",
       "      <td>-0.620105</td>\n",
       "      <td>0.118530</td>\n",
       "    </tr>\n",
       "    <tr>\n",
       "      <th>2</th>\n",
       "      <td>ang</td>\n",
       "      <td>0.033026</td>\n",
       "      <td>0.151222</td>\n",
       "      <td>-0.642351</td>\n",
       "      <td>-0.010744</td>\n",
       "      <td>0.406572</td>\n",
       "      <td>-0.685773</td>\n",
       "      <td>0.019501</td>\n",
       "      <td>0.310415</td>\n",
       "      <td>0.552142</td>\n",
       "      <td>...</td>\n",
       "      <td>-0.380068</td>\n",
       "      <td>-0.121632</td>\n",
       "      <td>-0.069978</td>\n",
       "      <td>0.125823</td>\n",
       "      <td>0.265722</td>\n",
       "      <td>0.106912</td>\n",
       "      <td>-0.361294</td>\n",
       "      <td>-0.189015</td>\n",
       "      <td>1.105460</td>\n",
       "      <td>-0.480016</td>\n",
       "    </tr>\n",
       "    <tr>\n",
       "      <th>3</th>\n",
       "      <td>ang</td>\n",
       "      <td>0.033748</td>\n",
       "      <td>0.178484</td>\n",
       "      <td>-0.638921</td>\n",
       "      <td>-0.001827</td>\n",
       "      <td>0.463461</td>\n",
       "      <td>-0.673958</td>\n",
       "      <td>0.024830</td>\n",
       "      <td>0.353243</td>\n",
       "      <td>0.591314</td>\n",
       "      <td>...</td>\n",
       "      <td>-0.311510</td>\n",
       "      <td>-0.053467</td>\n",
       "      <td>0.205387</td>\n",
       "      <td>0.363770</td>\n",
       "      <td>0.387702</td>\n",
       "      <td>0.344406</td>\n",
       "      <td>-0.361294</td>\n",
       "      <td>-0.145641</td>\n",
       "      <td>1.477177</td>\n",
       "      <td>-0.304717</td>\n",
       "    </tr>\n",
       "    <tr>\n",
       "      <th>4</th>\n",
       "      <td>ang</td>\n",
       "      <td>0.036074</td>\n",
       "      <td>0.184641</td>\n",
       "      <td>-0.633593</td>\n",
       "      <td>0.006040</td>\n",
       "      <td>0.488670</td>\n",
       "      <td>-0.665909</td>\n",
       "      <td>0.031418</td>\n",
       "      <td>0.367705</td>\n",
       "      <td>0.617489</td>\n",
       "      <td>...</td>\n",
       "      <td>-0.178426</td>\n",
       "      <td>-0.004528</td>\n",
       "      <td>0.553215</td>\n",
       "      <td>0.881655</td>\n",
       "      <td>0.465150</td>\n",
       "      <td>0.589562</td>\n",
       "      <td>-0.361294</td>\n",
       "      <td>-0.041918</td>\n",
       "      <td>1.741711</td>\n",
       "      <td>-0.041769</td>\n",
       "    </tr>\n",
       "    <tr>\n",
       "      <th>...</th>\n",
       "      <td>...</td>\n",
       "      <td>...</td>\n",
       "      <td>...</td>\n",
       "      <td>...</td>\n",
       "      <td>...</td>\n",
       "      <td>...</td>\n",
       "      <td>...</td>\n",
       "      <td>...</td>\n",
       "      <td>...</td>\n",
       "      <td>...</td>\n",
       "      <td>...</td>\n",
       "      <td>...</td>\n",
       "      <td>...</td>\n",
       "      <td>...</td>\n",
       "      <td>...</td>\n",
       "      <td>...</td>\n",
       "      <td>...</td>\n",
       "      <td>...</td>\n",
       "      <td>...</td>\n",
       "      <td>...</td>\n",
       "      <td>...</td>\n",
       "    </tr>\n",
       "    <tr>\n",
       "      <th>1813</th>\n",
       "      <td>fea</td>\n",
       "      <td>0.047496</td>\n",
       "      <td>0.055906</td>\n",
       "      <td>1.350079</td>\n",
       "      <td>-0.031552</td>\n",
       "      <td>0.023227</td>\n",
       "      <td>1.343764</td>\n",
       "      <td>-0.305131</td>\n",
       "      <td>0.066955</td>\n",
       "      <td>-1.438822</td>\n",
       "      <td>...</td>\n",
       "      <td>-0.818811</td>\n",
       "      <td>-0.665598</td>\n",
       "      <td>-0.543886</td>\n",
       "      <td>2.614657</td>\n",
       "      <td>-0.619116</td>\n",
       "      <td>-0.559540</td>\n",
       "      <td>3.930724</td>\n",
       "      <td>-0.691104</td>\n",
       "      <td>0.162926</td>\n",
       "      <td>1.358905</td>\n",
       "    </tr>\n",
       "    <tr>\n",
       "      <th>1814</th>\n",
       "      <td>fea</td>\n",
       "      <td>0.027743</td>\n",
       "      <td>0.055613</td>\n",
       "      <td>-0.710175</td>\n",
       "      <td>-0.038520</td>\n",
       "      <td>0.136010</td>\n",
       "      <td>-0.715259</td>\n",
       "      <td>-0.008208</td>\n",
       "      <td>0.105172</td>\n",
       "      <td>0.609007</td>\n",
       "      <td>...</td>\n",
       "      <td>1.682735</td>\n",
       "      <td>2.313084</td>\n",
       "      <td>1.114296</td>\n",
       "      <td>-0.783975</td>\n",
       "      <td>-0.619116</td>\n",
       "      <td>0.203953</td>\n",
       "      <td>-0.361294</td>\n",
       "      <td>1.464886</td>\n",
       "      <td>-0.814698</td>\n",
       "      <td>-0.585195</td>\n",
       "    </tr>\n",
       "    <tr>\n",
       "      <th>1815</th>\n",
       "      <td>fea</td>\n",
       "      <td>0.029308</td>\n",
       "      <td>0.082567</td>\n",
       "      <td>-0.698607</td>\n",
       "      <td>-0.028502</td>\n",
       "      <td>0.222611</td>\n",
       "      <td>-0.705084</td>\n",
       "      <td>0.000609</td>\n",
       "      <td>0.155787</td>\n",
       "      <td>0.649684</td>\n",
       "      <td>...</td>\n",
       "      <td>2.027544</td>\n",
       "      <td>2.581375</td>\n",
       "      <td>1.406224</td>\n",
       "      <td>-0.783975</td>\n",
       "      <td>-0.619116</td>\n",
       "      <td>0.555087</td>\n",
       "      <td>-0.361294</td>\n",
       "      <td>1.872232</td>\n",
       "      <td>-0.335799</td>\n",
       "      <td>-0.585195</td>\n",
       "    </tr>\n",
       "    <tr>\n",
       "      <th>1816</th>\n",
       "      <td>fea</td>\n",
       "      <td>0.030959</td>\n",
       "      <td>0.144463</td>\n",
       "      <td>-0.672461</td>\n",
       "      <td>-0.022972</td>\n",
       "      <td>0.329800</td>\n",
       "      <td>-0.678018</td>\n",
       "      <td>0.005937</td>\n",
       "      <td>0.253681</td>\n",
       "      <td>0.671162</td>\n",
       "      <td>...</td>\n",
       "      <td>2.253383</td>\n",
       "      <td>2.760527</td>\n",
       "      <td>1.669166</td>\n",
       "      <td>-0.783975</td>\n",
       "      <td>-0.619116</td>\n",
       "      <td>0.842378</td>\n",
       "      <td>-0.361294</td>\n",
       "      <td>2.234318</td>\n",
       "      <td>-0.071264</td>\n",
       "      <td>-0.225833</td>\n",
       "    </tr>\n",
       "    <tr>\n",
       "      <th>1817</th>\n",
       "      <td>fea</td>\n",
       "      <td>0.022161</td>\n",
       "      <td>-0.187266</td>\n",
       "      <td>1.441466</td>\n",
       "      <td>0.065968</td>\n",
       "      <td>-0.644660</td>\n",
       "      <td>1.438910</td>\n",
       "      <td>0.027833</td>\n",
       "      <td>-0.452155</td>\n",
       "      <td>-1.376718</td>\n",
       "      <td>...</td>\n",
       "      <td>-0.386118</td>\n",
       "      <td>-0.278936</td>\n",
       "      <td>-0.223188</td>\n",
       "      <td>-0.783975</td>\n",
       "      <td>-0.619116</td>\n",
       "      <td>-0.255713</td>\n",
       "      <td>-0.361294</td>\n",
       "      <td>-0.102266</td>\n",
       "      <td>-0.071264</td>\n",
       "      <td>-0.225833</td>\n",
       "    </tr>\n",
       "  </tbody>\n",
       "</table>\n",
       "<p>1818 rows × 692 columns</p>\n",
       "</div>"
      ],
      "text/plain": [
       "     emotion  gaze_0_x  gaze_0_y  gaze_0_z  gaze_1_x  gaze_1_y  gaze_1_z   \n",
       "0        ang  0.034507  0.172575 -0.636632 -0.000907  0.423607 -0.681087  \\\n",
       "1        ang  0.033998 -0.180164  1.384301 -0.050094 -0.498916  1.378677   \n",
       "2        ang  0.033026  0.151222 -0.642351 -0.010744  0.406572 -0.685773   \n",
       "3        ang  0.033748  0.178484 -0.638921 -0.001827  0.463461 -0.673958   \n",
       "4        ang  0.036074  0.184641 -0.633593  0.006040  0.488670 -0.665909   \n",
       "...      ...       ...       ...       ...       ...       ...       ...   \n",
       "1813     fea  0.047496  0.055906  1.350079 -0.031552  0.023227  1.343764   \n",
       "1814     fea  0.027743  0.055613 -0.710175 -0.038520  0.136010 -0.715259   \n",
       "1815     fea  0.029308  0.082567 -0.698607 -0.028502  0.222611 -0.705084   \n",
       "1816     fea  0.030959  0.144463 -0.672461 -0.022972  0.329800 -0.678018   \n",
       "1817     fea  0.022161 -0.187266  1.441466  0.065968 -0.644660  1.438910   \n",
       "\n",
       "      gaze_angle_x  gaze_angle_y  eye_lmk_x_0  ...    AU10_r    AU12_r   \n",
       "0         0.026812      0.329983     0.587189  ... -0.274848 -0.082332  \\\n",
       "1         0.354679     -0.388865    -1.438841  ... -0.704516 -0.543308   \n",
       "2         0.019501      0.310415     0.552142  ... -0.380068 -0.121632   \n",
       "3         0.024830      0.353243     0.591314  ... -0.311510 -0.053467   \n",
       "4         0.031418      0.367705     0.617489  ... -0.178426 -0.004528   \n",
       "...            ...           ...          ...  ...       ...       ...   \n",
       "1813     -0.305131      0.066955    -1.438822  ... -0.818811 -0.665598   \n",
       "1814     -0.008208      0.105172     0.609007  ...  1.682735  2.313084   \n",
       "1815      0.000609      0.155787     0.649684  ...  2.027544  2.581375   \n",
       "1816      0.005937      0.253681     0.671162  ...  2.253383  2.760527   \n",
       "1817      0.027833     -0.452155    -1.376718  ... -0.386118 -0.278936   \n",
       "\n",
       "        AU14_r    AU15_r    AU17_r    AU20_r    AU23_r    AU25_r    AU26_r   \n",
       "0     0.247422  0.524098  0.384769  0.335507 -0.351378 -0.141354  1.412909  \\\n",
       "1    -0.451960 -0.300291 -0.490040 -0.557027  1.415457 -0.721727 -0.620105   \n",
       "2    -0.069978  0.125823  0.265722  0.106912 -0.361294 -0.189015  1.105460   \n",
       "3     0.205387  0.363770  0.387702  0.344406 -0.361294 -0.145641  1.477177   \n",
       "4     0.553215  0.881655  0.465150  0.589562 -0.361294 -0.041918  1.741711   \n",
       "...        ...       ...       ...       ...       ...       ...       ...   \n",
       "1813 -0.543886  2.614657 -0.619116 -0.559540  3.930724 -0.691104  0.162926   \n",
       "1814  1.114296 -0.783975 -0.619116  0.203953 -0.361294  1.464886 -0.814698   \n",
       "1815  1.406224 -0.783975 -0.619116  0.555087 -0.361294  1.872232 -0.335799   \n",
       "1816  1.669166 -0.783975 -0.619116  0.842378 -0.361294  2.234318 -0.071264   \n",
       "1817 -0.223188 -0.783975 -0.619116 -0.255713 -0.361294 -0.102266 -0.071264   \n",
       "\n",
       "        AU45_r  \n",
       "0    -0.257705  \n",
       "1     0.118530  \n",
       "2    -0.480016  \n",
       "3    -0.304717  \n",
       "4    -0.041769  \n",
       "...        ...  \n",
       "1813  1.358905  \n",
       "1814 -0.585195  \n",
       "1815 -0.585195  \n",
       "1816 -0.225833  \n",
       "1817 -0.225833  \n",
       "\n",
       "[1818 rows x 692 columns]"
      ]
     },
     "execution_count": 29,
     "metadata": {},
     "output_type": "execute_result"
    }
   ],
   "source": [
    "single_emo"
   ]
  },
  {
   "cell_type": "code",
   "execution_count": 30,
   "metadata": {},
   "outputs": [
    {
     "data": {
      "text/html": [
       "<div>\n",
       "<style scoped>\n",
       "    .dataframe tbody tr th:only-of-type {\n",
       "        vertical-align: middle;\n",
       "    }\n",
       "\n",
       "    .dataframe tbody tr th {\n",
       "        vertical-align: top;\n",
       "    }\n",
       "\n",
       "    .dataframe thead th {\n",
       "        text-align: right;\n",
       "    }\n",
       "</style>\n",
       "<table border=\"1\" class=\"dataframe\">\n",
       "  <thead>\n",
       "    <tr style=\"text-align: right;\">\n",
       "      <th></th>\n",
       "      <th>emotion</th>\n",
       "      <th>gaze_0_x</th>\n",
       "      <th>gaze_0_y</th>\n",
       "      <th>gaze_0_z</th>\n",
       "      <th>gaze_1_x</th>\n",
       "      <th>gaze_1_y</th>\n",
       "      <th>gaze_1_z</th>\n",
       "      <th>gaze_angle_x</th>\n",
       "      <th>gaze_angle_y</th>\n",
       "      <th>eye_lmk_x_0</th>\n",
       "      <th>...</th>\n",
       "      <th>AU10_r</th>\n",
       "      <th>AU12_r</th>\n",
       "      <th>AU14_r</th>\n",
       "      <th>AU15_r</th>\n",
       "      <th>AU17_r</th>\n",
       "      <th>AU20_r</th>\n",
       "      <th>AU23_r</th>\n",
       "      <th>AU25_r</th>\n",
       "      <th>AU26_r</th>\n",
       "      <th>AU45_r</th>\n",
       "    </tr>\n",
       "  </thead>\n",
       "  <tbody>\n",
       "    <tr>\n",
       "      <th>0</th>\n",
       "      <td>mix_disg_fea</td>\n",
       "      <td>0.209480</td>\n",
       "      <td>0.070330</td>\n",
       "      <td>0.025548</td>\n",
       "      <td>0.366800</td>\n",
       "      <td>0.923905</td>\n",
       "      <td>0.036992</td>\n",
       "      <td>0.837792</td>\n",
       "      <td>0.549997</td>\n",
       "      <td>0.764550</td>\n",
       "      <td>...</td>\n",
       "      <td>0.115394</td>\n",
       "      <td>0.061888</td>\n",
       "      <td>0.052818</td>\n",
       "      <td>0.047967</td>\n",
       "      <td>0.029825</td>\n",
       "      <td>0.059462</td>\n",
       "      <td>0.000382</td>\n",
       "      <td>0.003289</td>\n",
       "      <td>0.053472</td>\n",
       "      <td>0.017732</td>\n",
       "    </tr>\n",
       "    <tr>\n",
       "      <th>1</th>\n",
       "      <td>mix_disg_fea</td>\n",
       "      <td>0.217750</td>\n",
       "      <td>0.072206</td>\n",
       "      <td>0.796759</td>\n",
       "      <td>0.363637</td>\n",
       "      <td>0.925192</td>\n",
       "      <td>0.758143</td>\n",
       "      <td>0.828539</td>\n",
       "      <td>0.556800</td>\n",
       "      <td>0.000024</td>\n",
       "      <td>...</td>\n",
       "      <td>0.032794</td>\n",
       "      <td>0.039154</td>\n",
       "      <td>0.038003</td>\n",
       "      <td>0.047961</td>\n",
       "      <td>0.063054</td>\n",
       "      <td>0.038775</td>\n",
       "      <td>0.240407</td>\n",
       "      <td>0.157472</td>\n",
       "      <td>0.061306</td>\n",
       "      <td>0.150789</td>\n",
       "    </tr>\n",
       "    <tr>\n",
       "      <th>2</th>\n",
       "      <td>mix_disg_fea</td>\n",
       "      <td>0.209375</td>\n",
       "      <td>0.070076</td>\n",
       "      <td>0.004253</td>\n",
       "      <td>0.366691</td>\n",
       "      <td>0.923718</td>\n",
       "      <td>0.010992</td>\n",
       "      <td>0.837695</td>\n",
       "      <td>0.549042</td>\n",
       "      <td>0.741957</td>\n",
       "      <td>...</td>\n",
       "      <td>0.087006</td>\n",
       "      <td>0.023643</td>\n",
       "      <td>0.023992</td>\n",
       "      <td>0.013857</td>\n",
       "      <td>0.000000</td>\n",
       "      <td>0.032183</td>\n",
       "      <td>0.000000</td>\n",
       "      <td>0.000000</td>\n",
       "      <td>0.013175</td>\n",
       "      <td>0.000000</td>\n",
       "    </tr>\n",
       "    <tr>\n",
       "      <th>3</th>\n",
       "      <td>mix_disg_fea</td>\n",
       "      <td>0.209513</td>\n",
       "      <td>0.070220</td>\n",
       "      <td>0.010890</td>\n",
       "      <td>0.366798</td>\n",
       "      <td>0.923822</td>\n",
       "      <td>0.017176</td>\n",
       "      <td>0.837825</td>\n",
       "      <td>0.549537</td>\n",
       "      <td>0.761948</td>\n",
       "      <td>...</td>\n",
       "      <td>0.118394</td>\n",
       "      <td>0.070536</td>\n",
       "      <td>0.055169</td>\n",
       "      <td>0.048865</td>\n",
       "      <td>0.022072</td>\n",
       "      <td>0.063090</td>\n",
       "      <td>0.000000</td>\n",
       "      <td>0.000000</td>\n",
       "      <td>0.054455</td>\n",
       "      <td>0.000000</td>\n",
       "    </tr>\n",
       "    <tr>\n",
       "      <th>4</th>\n",
       "      <td>mix_disg_fea</td>\n",
       "      <td>0.209691</td>\n",
       "      <td>0.070583</td>\n",
       "      <td>0.043402</td>\n",
       "      <td>0.367108</td>\n",
       "      <td>0.924069</td>\n",
       "      <td>0.030644</td>\n",
       "      <td>0.838049</td>\n",
       "      <td>0.550713</td>\n",
       "      <td>0.785502</td>\n",
       "      <td>...</td>\n",
       "      <td>0.145377</td>\n",
       "      <td>0.084328</td>\n",
       "      <td>0.078391</td>\n",
       "      <td>0.073662</td>\n",
       "      <td>0.056553</td>\n",
       "      <td>0.088752</td>\n",
       "      <td>0.000000</td>\n",
       "      <td>0.006275</td>\n",
       "      <td>0.085196</td>\n",
       "      <td>0.004807</td>\n",
       "    </tr>\n",
       "    <tr>\n",
       "      <th>...</th>\n",
       "      <td>...</td>\n",
       "      <td>...</td>\n",
       "      <td>...</td>\n",
       "      <td>...</td>\n",
       "      <td>...</td>\n",
       "      <td>...</td>\n",
       "      <td>...</td>\n",
       "      <td>...</td>\n",
       "      <td>...</td>\n",
       "      <td>...</td>\n",
       "      <td>...</td>\n",
       "      <td>...</td>\n",
       "      <td>...</td>\n",
       "      <td>...</td>\n",
       "      <td>...</td>\n",
       "      <td>...</td>\n",
       "      <td>...</td>\n",
       "      <td>...</td>\n",
       "      <td>...</td>\n",
       "      <td>...</td>\n",
       "      <td>...</td>\n",
       "    </tr>\n",
       "    <tr>\n",
       "      <th>5029</th>\n",
       "      <td>mix_ang_disg</td>\n",
       "      <td>0.198816</td>\n",
       "      <td>0.070197</td>\n",
       "      <td>0.830224</td>\n",
       "      <td>0.366626</td>\n",
       "      <td>0.923686</td>\n",
       "      <td>0.808791</td>\n",
       "      <td>0.836908</td>\n",
       "      <td>0.549053</td>\n",
       "      <td>0.000009</td>\n",
       "      <td>...</td>\n",
       "      <td>0.007148</td>\n",
       "      <td>0.010157</td>\n",
       "      <td>0.059374</td>\n",
       "      <td>0.011227</td>\n",
       "      <td>0.013960</td>\n",
       "      <td>0.157379</td>\n",
       "      <td>0.054221</td>\n",
       "      <td>0.012730</td>\n",
       "      <td>0.048321</td>\n",
       "      <td>0.127149</td>\n",
       "    </tr>\n",
       "    <tr>\n",
       "      <th>5030</th>\n",
       "      <td>mix_ang_disg</td>\n",
       "      <td>0.209229</td>\n",
       "      <td>0.070575</td>\n",
       "      <td>0.014245</td>\n",
       "      <td>0.366760</td>\n",
       "      <td>0.924265</td>\n",
       "      <td>0.031781</td>\n",
       "      <td>0.837624</td>\n",
       "      <td>0.551245</td>\n",
       "      <td>0.701822</td>\n",
       "      <td>...</td>\n",
       "      <td>0.276620</td>\n",
       "      <td>0.170232</td>\n",
       "      <td>0.000000</td>\n",
       "      <td>0.079788</td>\n",
       "      <td>0.072063</td>\n",
       "      <td>0.000000</td>\n",
       "      <td>0.000000</td>\n",
       "      <td>0.124613</td>\n",
       "      <td>0.027930</td>\n",
       "      <td>0.000000</td>\n",
       "    </tr>\n",
       "    <tr>\n",
       "      <th>5031</th>\n",
       "      <td>mix_ang_disg</td>\n",
       "      <td>0.209284</td>\n",
       "      <td>0.070687</td>\n",
       "      <td>0.018281</td>\n",
       "      <td>0.366848</td>\n",
       "      <td>0.924330</td>\n",
       "      <td>0.037970</td>\n",
       "      <td>0.837710</td>\n",
       "      <td>0.551602</td>\n",
       "      <td>0.711801</td>\n",
       "      <td>...</td>\n",
       "      <td>0.294609</td>\n",
       "      <td>0.185206</td>\n",
       "      <td>0.023094</td>\n",
       "      <td>0.087519</td>\n",
       "      <td>0.084710</td>\n",
       "      <td>0.000000</td>\n",
       "      <td>0.011235</td>\n",
       "      <td>0.138040</td>\n",
       "      <td>0.042159</td>\n",
       "      <td>0.000000</td>\n",
       "    </tr>\n",
       "    <tr>\n",
       "      <th>5032</th>\n",
       "      <td>mix_ang_disg</td>\n",
       "      <td>0.209357</td>\n",
       "      <td>0.070743</td>\n",
       "      <td>0.020961</td>\n",
       "      <td>0.366958</td>\n",
       "      <td>0.924360</td>\n",
       "      <td>0.042608</td>\n",
       "      <td>0.837792</td>\n",
       "      <td>0.551761</td>\n",
       "      <td>0.715497</td>\n",
       "      <td>...</td>\n",
       "      <td>0.319022</td>\n",
       "      <td>0.201756</td>\n",
       "      <td>0.047856</td>\n",
       "      <td>0.096271</td>\n",
       "      <td>0.099982</td>\n",
       "      <td>0.004679</td>\n",
       "      <td>0.021287</td>\n",
       "      <td>0.146825</td>\n",
       "      <td>0.070089</td>\n",
       "      <td>0.009974</td>\n",
       "    </tr>\n",
       "    <tr>\n",
       "      <th>5033</th>\n",
       "      <td>mix_ang_disg</td>\n",
       "      <td>0.209445</td>\n",
       "      <td>0.069947</td>\n",
       "      <td>0.840442</td>\n",
       "      <td>0.367629</td>\n",
       "      <td>0.923487</td>\n",
       "      <td>0.828417</td>\n",
       "      <td>0.838131</td>\n",
       "      <td>0.548203</td>\n",
       "      <td>0.013674</td>\n",
       "      <td>...</td>\n",
       "      <td>0.042402</td>\n",
       "      <td>0.031524</td>\n",
       "      <td>0.047856</td>\n",
       "      <td>0.016483</td>\n",
       "      <td>0.027919</td>\n",
       "      <td>0.004679</td>\n",
       "      <td>0.021287</td>\n",
       "      <td>0.022212</td>\n",
       "      <td>0.042159</td>\n",
       "      <td>0.009974</td>\n",
       "    </tr>\n",
       "  </tbody>\n",
       "</table>\n",
       "<p>5034 rows × 692 columns</p>\n",
       "</div>"
      ],
      "text/plain": [
       "           emotion  gaze_0_x  gaze_0_y  gaze_0_z  gaze_1_x  gaze_1_y   \n",
       "0     mix_disg_fea  0.209480  0.070330  0.025548  0.366800  0.923905  \\\n",
       "1     mix_disg_fea  0.217750  0.072206  0.796759  0.363637  0.925192   \n",
       "2     mix_disg_fea  0.209375  0.070076  0.004253  0.366691  0.923718   \n",
       "3     mix_disg_fea  0.209513  0.070220  0.010890  0.366798  0.923822   \n",
       "4     mix_disg_fea  0.209691  0.070583  0.043402  0.367108  0.924069   \n",
       "...            ...       ...       ...       ...       ...       ...   \n",
       "5029  mix_ang_disg  0.198816  0.070197  0.830224  0.366626  0.923686   \n",
       "5030  mix_ang_disg  0.209229  0.070575  0.014245  0.366760  0.924265   \n",
       "5031  mix_ang_disg  0.209284  0.070687  0.018281  0.366848  0.924330   \n",
       "5032  mix_ang_disg  0.209357  0.070743  0.020961  0.366958  0.924360   \n",
       "5033  mix_ang_disg  0.209445  0.069947  0.840442  0.367629  0.923487   \n",
       "\n",
       "      gaze_1_z  gaze_angle_x  gaze_angle_y  eye_lmk_x_0  ...    AU10_r   \n",
       "0     0.036992      0.837792      0.549997     0.764550  ...  0.115394  \\\n",
       "1     0.758143      0.828539      0.556800     0.000024  ...  0.032794   \n",
       "2     0.010992      0.837695      0.549042     0.741957  ...  0.087006   \n",
       "3     0.017176      0.837825      0.549537     0.761948  ...  0.118394   \n",
       "4     0.030644      0.838049      0.550713     0.785502  ...  0.145377   \n",
       "...        ...           ...           ...          ...  ...       ...   \n",
       "5029  0.808791      0.836908      0.549053     0.000009  ...  0.007148   \n",
       "5030  0.031781      0.837624      0.551245     0.701822  ...  0.276620   \n",
       "5031  0.037970      0.837710      0.551602     0.711801  ...  0.294609   \n",
       "5032  0.042608      0.837792      0.551761     0.715497  ...  0.319022   \n",
       "5033  0.828417      0.838131      0.548203     0.013674  ...  0.042402   \n",
       "\n",
       "        AU12_r    AU14_r    AU15_r    AU17_r    AU20_r    AU23_r    AU25_r   \n",
       "0     0.061888  0.052818  0.047967  0.029825  0.059462  0.000382  0.003289  \\\n",
       "1     0.039154  0.038003  0.047961  0.063054  0.038775  0.240407  0.157472   \n",
       "2     0.023643  0.023992  0.013857  0.000000  0.032183  0.000000  0.000000   \n",
       "3     0.070536  0.055169  0.048865  0.022072  0.063090  0.000000  0.000000   \n",
       "4     0.084328  0.078391  0.073662  0.056553  0.088752  0.000000  0.006275   \n",
       "...        ...       ...       ...       ...       ...       ...       ...   \n",
       "5029  0.010157  0.059374  0.011227  0.013960  0.157379  0.054221  0.012730   \n",
       "5030  0.170232  0.000000  0.079788  0.072063  0.000000  0.000000  0.124613   \n",
       "5031  0.185206  0.023094  0.087519  0.084710  0.000000  0.011235  0.138040   \n",
       "5032  0.201756  0.047856  0.096271  0.099982  0.004679  0.021287  0.146825   \n",
       "5033  0.031524  0.047856  0.016483  0.027919  0.004679  0.021287  0.022212   \n",
       "\n",
       "        AU26_r    AU45_r  \n",
       "0     0.053472  0.017732  \n",
       "1     0.061306  0.150789  \n",
       "2     0.013175  0.000000  \n",
       "3     0.054455  0.000000  \n",
       "4     0.085196  0.004807  \n",
       "...        ...       ...  \n",
       "5029  0.048321  0.127149  \n",
       "5030  0.027930  0.000000  \n",
       "5031  0.042159  0.000000  \n",
       "5032  0.070089  0.009974  \n",
       "5033  0.042159  0.009974  \n",
       "\n",
       "[5034 rows x 692 columns]"
      ]
     },
     "execution_count": 30,
     "metadata": {},
     "output_type": "execute_result"
    }
   ],
   "source": [
    "mix_emo"
   ]
  },
  {
   "cell_type": "code",
   "execution_count": 30,
   "metadata": {},
   "outputs": [],
   "source": [
    "single_disg_fea_filtered = single_emo[(single_emo['emotion'] == 'disg') | (single_emo['emotion'] == 'fea')]\n",
    "mix_disg_fea_filtered = mix_emo[mix_emo['emotion'] == 'mix_disg_fea']\n",
    "\n",
    "disg_fea_notime = pd.concat([single_disg_fea_filtered, mix_disg_fea_filtered], ignore_index=True)\n"
   ]
  },
  {
   "cell_type": "code",
   "execution_count": null,
   "metadata": {},
   "outputs": [],
   "source": []
  }
 ],
 "metadata": {
  "kernelspec": {
   "display_name": "Python 3 (ipykernel)",
   "language": "python",
   "name": "python3"
  },
  "language_info": {
   "codemirror_mode": {
    "name": "ipython",
    "version": 3
   },
   "file_extension": ".py",
   "mimetype": "text/x-python",
   "name": "python",
   "nbconvert_exporter": "python",
   "pygments_lexer": "ipython3",
   "version": "3.9.16"
  }
 },
 "nbformat": 4,
 "nbformat_minor": 2
}
